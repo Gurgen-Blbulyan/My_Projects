{
 "cells": [
  {
   "cell_type": "code",
   "execution_count": 108,
   "metadata": {},
   "outputs": [],
   "source": [
    "import pandas as pd\n",
    "import numpy as np"
   ]
  },
  {
   "cell_type": "code",
   "execution_count": 109,
   "metadata": {},
   "outputs": [],
   "source": [
    "real=pd.read_excel('real_GDP_rate.xlsx')"
   ]
  },
  {
   "cell_type": "code",
   "execution_count": 110,
   "metadata": {},
   "outputs": [],
   "source": [
    "forecast=pd.read_excel('forecast_GDP_rate.xlsx')"
   ]
  },
  {
   "cell_type": "markdown",
   "metadata": {},
   "source": [
    "We have IMF predicted GDP growth data from 1997 to 2017 for 177 countries(stored in 'forecast' variable ) and real GDP growth data(stored in 'real' variable). I clean data by excel from file \"WEOhistorical.xlsx\""
   ]
  },
  {
   "cell_type": "code",
   "execution_count": 111,
   "metadata": {},
   "outputs": [
    {
     "data": {
      "text/html": [
       "<div>\n",
       "<style scoped>\n",
       "    .dataframe tbody tr th:only-of-type {\n",
       "        vertical-align: middle;\n",
       "    }\n",
       "\n",
       "    .dataframe tbody tr th {\n",
       "        vertical-align: top;\n",
       "    }\n",
       "\n",
       "    .dataframe thead th {\n",
       "        text-align: right;\n",
       "    }\n",
       "</style>\n",
       "<table border=\"1\" class=\"dataframe\">\n",
       "  <thead>\n",
       "    <tr style=\"text-align: right;\">\n",
       "      <th></th>\n",
       "      <th>country</th>\n",
       "      <th>S1997ngdp_rpch</th>\n",
       "      <th>F1997ngdp_rpch</th>\n",
       "      <th>S1998ngdp_rpch</th>\n",
       "      <th>F1998ngdp_rpch</th>\n",
       "      <th>S1999ngdp_rpch</th>\n",
       "      <th>F1999ngdp_rpch</th>\n",
       "      <th>S2000ngdp_rpch</th>\n",
       "      <th>F2000ngdp_rpch</th>\n",
       "      <th>S2001ngdp_rpch</th>\n",
       "      <th>...</th>\n",
       "      <th>S2013ngdp_rpch</th>\n",
       "      <th>F2013ngdp_rpch</th>\n",
       "      <th>S2014ngdp_rpch</th>\n",
       "      <th>F2014ngdp_rpch</th>\n",
       "      <th>S2015ngdp_rpch</th>\n",
       "      <th>F2015ngdp_rpch</th>\n",
       "      <th>S2016ngdp_rpch</th>\n",
       "      <th>F2016ngdp_rpch</th>\n",
       "      <th>S2017ngdp_rpch</th>\n",
       "      <th>F2017ngdp_rpch</th>\n",
       "    </tr>\n",
       "  </thead>\n",
       "  <tbody>\n",
       "    <tr>\n",
       "      <td>0</td>\n",
       "      <td>USA</td>\n",
       "      <td>3.931520</td>\n",
       "      <td>3.931520</td>\n",
       "      <td>4.306696</td>\n",
       "      <td>4.365490</td>\n",
       "      <td>4.228978</td>\n",
       "      <td>4.085428</td>\n",
       "      <td>4.148918</td>\n",
       "      <td>3.752995</td>\n",
       "      <td>0.251866</td>\n",
       "      <td>...</td>\n",
       "      <td>2.219377</td>\n",
       "      <td>1.489454</td>\n",
       "      <td>2.427755</td>\n",
       "      <td>2.370426</td>\n",
       "      <td>2.596318</td>\n",
       "      <td>2.861688</td>\n",
       "      <td>1.485139</td>\n",
       "      <td>1.567436</td>\n",
       "      <td>2.216975</td>\n",
       "      <td>2.369992</td>\n",
       "    </tr>\n",
       "    <tr>\n",
       "      <td>1</td>\n",
       "      <td>GBR</td>\n",
       "      <td>3.468274</td>\n",
       "      <td>3.511790</td>\n",
       "      <td>2.160676</td>\n",
       "      <td>2.640908</td>\n",
       "      <td>2.289388</td>\n",
       "      <td>2.289388</td>\n",
       "      <td>3.040152</td>\n",
       "      <td>3.082341</td>\n",
       "      <td>1.953908</td>\n",
       "      <td>...</td>\n",
       "      <td>1.664826</td>\n",
       "      <td>1.664826</td>\n",
       "      <td>2.852843</td>\n",
       "      <td>3.070484</td>\n",
       "      <td>2.194229</td>\n",
       "      <td>2.194229</td>\n",
       "      <td>1.935791</td>\n",
       "      <td>1.789289</td>\n",
       "      <td>1.822928</td>\n",
       "      <td>1.822928</td>\n",
       "    </tr>\n",
       "    <tr>\n",
       "      <td>2</td>\n",
       "      <td>AUT</td>\n",
       "      <td>2.520453</td>\n",
       "      <td>2.520453</td>\n",
       "      <td>2.875909</td>\n",
       "      <td>2.875909</td>\n",
       "      <td>2.822164</td>\n",
       "      <td>2.822164</td>\n",
       "      <td>2.959260</td>\n",
       "      <td>2.959239</td>\n",
       "      <td>0.669583</td>\n",
       "      <td>...</td>\n",
       "      <td>0.228030</td>\n",
       "      <td>0.321271</td>\n",
       "      <td>0.353458</td>\n",
       "      <td>0.353491</td>\n",
       "      <td>0.963062</td>\n",
       "      <td>0.963062</td>\n",
       "      <td>1.450929</td>\n",
       "      <td>1.450929</td>\n",
       "      <td>2.550900</td>\n",
       "      <td>2.550900</td>\n",
       "    </tr>\n",
       "    <tr>\n",
       "      <td>3</td>\n",
       "      <td>BEL</td>\n",
       "      <td>3.002397</td>\n",
       "      <td>3.002395</td>\n",
       "      <td>2.706519</td>\n",
       "      <td>2.693298</td>\n",
       "      <td>2.729984</td>\n",
       "      <td>2.729984</td>\n",
       "      <td>4.032186</td>\n",
       "      <td>4.021797</td>\n",
       "      <td>0.770417</td>\n",
       "      <td>...</td>\n",
       "      <td>0.274562</td>\n",
       "      <td>0.291108</td>\n",
       "      <td>1.348361</td>\n",
       "      <td>1.295473</td>\n",
       "      <td>1.500230</td>\n",
       "      <td>1.476308</td>\n",
       "      <td>1.465758</td>\n",
       "      <td>1.412168</td>\n",
       "      <td>1.692644</td>\n",
       "      <td>1.734553</td>\n",
       "    </tr>\n",
       "    <tr>\n",
       "      <td>4</td>\n",
       "      <td>DNK</td>\n",
       "      <td>3.056697</td>\n",
       "      <td>3.056697</td>\n",
       "      <td>2.686372</td>\n",
       "      <td>2.540961</td>\n",
       "      <td>2.132642</td>\n",
       "      <td>2.132644</td>\n",
       "      <td>3.023274</td>\n",
       "      <td>3.023274</td>\n",
       "      <td>1.434666</td>\n",
       "      <td>...</td>\n",
       "      <td>-0.486860</td>\n",
       "      <td>-0.486860</td>\n",
       "      <td>1.262682</td>\n",
       "      <td>1.262682</td>\n",
       "      <td>1.605213</td>\n",
       "      <td>1.605213</td>\n",
       "      <td>1.966820</td>\n",
       "      <td>1.966820</td>\n",
       "      <td>2.266060</td>\n",
       "      <td>2.266060</td>\n",
       "    </tr>\n",
       "  </tbody>\n",
       "</table>\n",
       "<p>5 rows × 43 columns</p>\n",
       "</div>"
      ],
      "text/plain": [
       "  country  S1997ngdp_rpch  F1997ngdp_rpch  S1998ngdp_rpch  F1998ngdp_rpch  \\\n",
       "0     USA        3.931520        3.931520        4.306696        4.365490   \n",
       "1     GBR        3.468274        3.511790        2.160676        2.640908   \n",
       "2     AUT        2.520453        2.520453        2.875909        2.875909   \n",
       "3     BEL        3.002397        3.002395        2.706519        2.693298   \n",
       "4     DNK        3.056697        3.056697        2.686372        2.540961   \n",
       "\n",
       "   S1999ngdp_rpch  F1999ngdp_rpch  S2000ngdp_rpch  F2000ngdp_rpch  \\\n",
       "0        4.228978        4.085428        4.148918        3.752995   \n",
       "1        2.289388        2.289388        3.040152        3.082341   \n",
       "2        2.822164        2.822164        2.959260        2.959239   \n",
       "3        2.729984        2.729984        4.032186        4.021797   \n",
       "4        2.132642        2.132644        3.023274        3.023274   \n",
       "\n",
       "   S2001ngdp_rpch  ...  S2013ngdp_rpch  F2013ngdp_rpch  S2014ngdp_rpch  \\\n",
       "0        0.251866  ...        2.219377        1.489454        2.427755   \n",
       "1        1.953908  ...        1.664826        1.664826        2.852843   \n",
       "2        0.669583  ...        0.228030        0.321271        0.353458   \n",
       "3        0.770417  ...        0.274562        0.291108        1.348361   \n",
       "4        1.434666  ...       -0.486860       -0.486860        1.262682   \n",
       "\n",
       "   F2014ngdp_rpch  S2015ngdp_rpch  F2015ngdp_rpch  S2016ngdp_rpch  \\\n",
       "0        2.370426        2.596318        2.861688        1.485139   \n",
       "1        3.070484        2.194229        2.194229        1.935791   \n",
       "2        0.353491        0.963062        0.963062        1.450929   \n",
       "3        1.295473        1.500230        1.476308        1.465758   \n",
       "4        1.262682        1.605213        1.605213        1.966820   \n",
       "\n",
       "   F2016ngdp_rpch  S2017ngdp_rpch  F2017ngdp_rpch  \n",
       "0        1.567436        2.216975        2.369992  \n",
       "1        1.789289        1.822928        1.822928  \n",
       "2        1.450929        2.550900        2.550900  \n",
       "3        1.412168        1.692644        1.734553  \n",
       "4        1.966820        2.266060        2.266060  \n",
       "\n",
       "[5 rows x 43 columns]"
      ]
     },
     "execution_count": 111,
     "metadata": {},
     "output_type": "execute_result"
    }
   ],
   "source": [
    "real.head()"
   ]
  },
  {
   "cell_type": "code",
   "execution_count": 112,
   "metadata": {},
   "outputs": [],
   "source": [
    "h=real[\"country\"]==forecast[\"country\"]"
   ]
  },
  {
   "cell_type": "markdown",
   "metadata": {},
   "source": [
    "Let's remove country column, and check, if we have same countries in two variables and if they have same order."
   ]
  },
  {
   "cell_type": "code",
   "execution_count": 113,
   "metadata": {},
   "outputs": [
    {
     "data": {
      "text/plain": [
       "False"
      ]
     },
     "execution_count": 113,
     "metadata": {},
     "output_type": "execute_result"
    }
   ],
   "source": [
    "l=list(h)\n",
    "False in l            \n",
    "        "
   ]
  },
  {
   "cell_type": "code",
   "execution_count": 114,
   "metadata": {},
   "outputs": [],
   "source": [
    "real=real.iloc[:,1:]"
   ]
  },
  {
   "cell_type": "code",
   "execution_count": 115,
   "metadata": {},
   "outputs": [
    {
     "data": {
      "text/html": [
       "<div>\n",
       "<style scoped>\n",
       "    .dataframe tbody tr th:only-of-type {\n",
       "        vertical-align: middle;\n",
       "    }\n",
       "\n",
       "    .dataframe tbody tr th {\n",
       "        vertical-align: top;\n",
       "    }\n",
       "\n",
       "    .dataframe thead th {\n",
       "        text-align: right;\n",
       "    }\n",
       "</style>\n",
       "<table border=\"1\" class=\"dataframe\">\n",
       "  <thead>\n",
       "    <tr style=\"text-align: right;\">\n",
       "      <th></th>\n",
       "      <th>S1997ngdp_rpch</th>\n",
       "      <th>F1997ngdp_rpch</th>\n",
       "      <th>S1998ngdp_rpch</th>\n",
       "      <th>F1998ngdp_rpch</th>\n",
       "      <th>S1999ngdp_rpch</th>\n",
       "      <th>F1999ngdp_rpch</th>\n",
       "      <th>S2000ngdp_rpch</th>\n",
       "      <th>F2000ngdp_rpch</th>\n",
       "      <th>S2001ngdp_rpch</th>\n",
       "      <th>F2001ngdp_rpch</th>\n",
       "      <th>...</th>\n",
       "      <th>S2013ngdp_rpch</th>\n",
       "      <th>F2013ngdp_rpch</th>\n",
       "      <th>S2014ngdp_rpch</th>\n",
       "      <th>F2014ngdp_rpch</th>\n",
       "      <th>S2015ngdp_rpch</th>\n",
       "      <th>F2015ngdp_rpch</th>\n",
       "      <th>S2016ngdp_rpch</th>\n",
       "      <th>F2016ngdp_rpch</th>\n",
       "      <th>S2017ngdp_rpch</th>\n",
       "      <th>F2017ngdp_rpch</th>\n",
       "    </tr>\n",
       "  </thead>\n",
       "  <tbody>\n",
       "    <tr>\n",
       "      <td>0</td>\n",
       "      <td>3.931520</td>\n",
       "      <td>3.931520</td>\n",
       "      <td>4.306696</td>\n",
       "      <td>4.365490</td>\n",
       "      <td>4.228978</td>\n",
       "      <td>4.085428</td>\n",
       "      <td>4.148918</td>\n",
       "      <td>3.752995</td>\n",
       "      <td>0.251866</td>\n",
       "      <td>0.251866</td>\n",
       "      <td>...</td>\n",
       "      <td>2.219377</td>\n",
       "      <td>1.489454</td>\n",
       "      <td>2.427755</td>\n",
       "      <td>2.370426</td>\n",
       "      <td>2.596318</td>\n",
       "      <td>2.861688</td>\n",
       "      <td>1.485139</td>\n",
       "      <td>1.567436</td>\n",
       "      <td>2.216975</td>\n",
       "      <td>2.369992</td>\n",
       "    </tr>\n",
       "    <tr>\n",
       "      <td>1</td>\n",
       "      <td>3.468274</td>\n",
       "      <td>3.511790</td>\n",
       "      <td>2.160676</td>\n",
       "      <td>2.640908</td>\n",
       "      <td>2.289388</td>\n",
       "      <td>2.289388</td>\n",
       "      <td>3.040152</td>\n",
       "      <td>3.082341</td>\n",
       "      <td>1.953908</td>\n",
       "      <td>2.110264</td>\n",
       "      <td>...</td>\n",
       "      <td>1.664826</td>\n",
       "      <td>1.664826</td>\n",
       "      <td>2.852843</td>\n",
       "      <td>3.070484</td>\n",
       "      <td>2.194229</td>\n",
       "      <td>2.194229</td>\n",
       "      <td>1.935791</td>\n",
       "      <td>1.789289</td>\n",
       "      <td>1.822928</td>\n",
       "      <td>1.822928</td>\n",
       "    </tr>\n",
       "    <tr>\n",
       "      <td>2</td>\n",
       "      <td>2.520453</td>\n",
       "      <td>2.520453</td>\n",
       "      <td>2.875909</td>\n",
       "      <td>2.875909</td>\n",
       "      <td>2.822164</td>\n",
       "      <td>2.822164</td>\n",
       "      <td>2.959260</td>\n",
       "      <td>2.959239</td>\n",
       "      <td>0.669583</td>\n",
       "      <td>0.669551</td>\n",
       "      <td>...</td>\n",
       "      <td>0.228030</td>\n",
       "      <td>0.321271</td>\n",
       "      <td>0.353458</td>\n",
       "      <td>0.353491</td>\n",
       "      <td>0.963062</td>\n",
       "      <td>0.963062</td>\n",
       "      <td>1.450929</td>\n",
       "      <td>1.450929</td>\n",
       "      <td>2.550900</td>\n",
       "      <td>2.550900</td>\n",
       "    </tr>\n",
       "    <tr>\n",
       "      <td>3</td>\n",
       "      <td>3.002397</td>\n",
       "      <td>3.002395</td>\n",
       "      <td>2.706519</td>\n",
       "      <td>2.693298</td>\n",
       "      <td>2.729984</td>\n",
       "      <td>2.729984</td>\n",
       "      <td>4.032186</td>\n",
       "      <td>4.021797</td>\n",
       "      <td>0.770417</td>\n",
       "      <td>0.799768</td>\n",
       "      <td>...</td>\n",
       "      <td>0.274562</td>\n",
       "      <td>0.291108</td>\n",
       "      <td>1.348361</td>\n",
       "      <td>1.295473</td>\n",
       "      <td>1.500230</td>\n",
       "      <td>1.476308</td>\n",
       "      <td>1.465758</td>\n",
       "      <td>1.412168</td>\n",
       "      <td>1.692644</td>\n",
       "      <td>1.734553</td>\n",
       "    </tr>\n",
       "    <tr>\n",
       "      <td>4</td>\n",
       "      <td>3.056697</td>\n",
       "      <td>3.056697</td>\n",
       "      <td>2.686372</td>\n",
       "      <td>2.540961</td>\n",
       "      <td>2.132642</td>\n",
       "      <td>2.132644</td>\n",
       "      <td>3.023274</td>\n",
       "      <td>3.023274</td>\n",
       "      <td>1.434666</td>\n",
       "      <td>1.427773</td>\n",
       "      <td>...</td>\n",
       "      <td>-0.486860</td>\n",
       "      <td>-0.486860</td>\n",
       "      <td>1.262682</td>\n",
       "      <td>1.262682</td>\n",
       "      <td>1.605213</td>\n",
       "      <td>1.605213</td>\n",
       "      <td>1.966820</td>\n",
       "      <td>1.966820</td>\n",
       "      <td>2.266060</td>\n",
       "      <td>2.266060</td>\n",
       "    </tr>\n",
       "  </tbody>\n",
       "</table>\n",
       "<p>5 rows × 42 columns</p>\n",
       "</div>"
      ],
      "text/plain": [
       "   S1997ngdp_rpch  F1997ngdp_rpch  S1998ngdp_rpch  F1998ngdp_rpch  \\\n",
       "0        3.931520        3.931520        4.306696        4.365490   \n",
       "1        3.468274        3.511790        2.160676        2.640908   \n",
       "2        2.520453        2.520453        2.875909        2.875909   \n",
       "3        3.002397        3.002395        2.706519        2.693298   \n",
       "4        3.056697        3.056697        2.686372        2.540961   \n",
       "\n",
       "   S1999ngdp_rpch  F1999ngdp_rpch  S2000ngdp_rpch  F2000ngdp_rpch  \\\n",
       "0        4.228978        4.085428        4.148918        3.752995   \n",
       "1        2.289388        2.289388        3.040152        3.082341   \n",
       "2        2.822164        2.822164        2.959260        2.959239   \n",
       "3        2.729984        2.729984        4.032186        4.021797   \n",
       "4        2.132642        2.132644        3.023274        3.023274   \n",
       "\n",
       "   S2001ngdp_rpch  F2001ngdp_rpch  ...  S2013ngdp_rpch  F2013ngdp_rpch  \\\n",
       "0        0.251866        0.251866  ...        2.219377        1.489454   \n",
       "1        1.953908        2.110264  ...        1.664826        1.664826   \n",
       "2        0.669583        0.669551  ...        0.228030        0.321271   \n",
       "3        0.770417        0.799768  ...        0.274562        0.291108   \n",
       "4        1.434666        1.427773  ...       -0.486860       -0.486860   \n",
       "\n",
       "   S2014ngdp_rpch  F2014ngdp_rpch  S2015ngdp_rpch  F2015ngdp_rpch  \\\n",
       "0        2.427755        2.370426        2.596318        2.861688   \n",
       "1        2.852843        3.070484        2.194229        2.194229   \n",
       "2        0.353458        0.353491        0.963062        0.963062   \n",
       "3        1.348361        1.295473        1.500230        1.476308   \n",
       "4        1.262682        1.262682        1.605213        1.605213   \n",
       "\n",
       "   S2016ngdp_rpch  F2016ngdp_rpch  S2017ngdp_rpch  F2017ngdp_rpch  \n",
       "0        1.485139        1.567436        2.216975        2.369992  \n",
       "1        1.935791        1.789289        1.822928        1.822928  \n",
       "2        1.450929        1.450929        2.550900        2.550900  \n",
       "3        1.465758        1.412168        1.692644        1.734553  \n",
       "4        1.966820        1.966820        2.266060        2.266060  \n",
       "\n",
       "[5 rows x 42 columns]"
      ]
     },
     "execution_count": 115,
     "metadata": {},
     "output_type": "execute_result"
    }
   ],
   "source": [
    "real.head()"
   ]
  },
  {
   "cell_type": "code",
   "execution_count": 116,
   "metadata": {},
   "outputs": [],
   "source": [
    "forecast=forecast.iloc[:,1:]"
   ]
  },
  {
   "cell_type": "code",
   "execution_count": 117,
   "metadata": {},
   "outputs": [
    {
     "data": {
      "text/html": [
       "<div>\n",
       "<style scoped>\n",
       "    .dataframe tbody tr th:only-of-type {\n",
       "        vertical-align: middle;\n",
       "    }\n",
       "\n",
       "    .dataframe tbody tr th {\n",
       "        vertical-align: top;\n",
       "    }\n",
       "\n",
       "    .dataframe thead th {\n",
       "        text-align: right;\n",
       "    }\n",
       "</style>\n",
       "<table border=\"1\" class=\"dataframe\">\n",
       "  <thead>\n",
       "    <tr style=\"text-align: right;\">\n",
       "      <th></th>\n",
       "      <th>S1997ngdp_rpch</th>\n",
       "      <th>F1997ngdp_rpch</th>\n",
       "      <th>S1998ngdp_rpch</th>\n",
       "      <th>F1998ngdp_rpch</th>\n",
       "      <th>S1999ngdp_rpch</th>\n",
       "      <th>F1999ngdp_rpch</th>\n",
       "      <th>S2000ngdp_rpch</th>\n",
       "      <th>F2000ngdp_rpch</th>\n",
       "      <th>S2001ngdp_rpch</th>\n",
       "      <th>F2001ngdp_rpch</th>\n",
       "      <th>...</th>\n",
       "      <th>S2013ngdp_rpch</th>\n",
       "      <th>F2013ngdp_rpch</th>\n",
       "      <th>S2014ngdp_rpch</th>\n",
       "      <th>F2014ngdp_rpch</th>\n",
       "      <th>S2015ngdp_rpch</th>\n",
       "      <th>F2015ngdp_rpch</th>\n",
       "      <th>S2016ngdp_rpch</th>\n",
       "      <th>F2016ngdp_rpch</th>\n",
       "      <th>S2017ngdp_rpch</th>\n",
       "      <th>F2017ngdp_rpch</th>\n",
       "    </tr>\n",
       "  </thead>\n",
       "  <tbody>\n",
       "    <tr>\n",
       "      <td>0</td>\n",
       "      <td>2.20</td>\n",
       "      <td>2.35</td>\n",
       "      <td>2.22</td>\n",
       "      <td>2.58</td>\n",
       "      <td>2.17</td>\n",
       "      <td>2.03</td>\n",
       "      <td>2.16</td>\n",
       "      <td>2.60</td>\n",
       "      <td>2.98</td>\n",
       "      <td>3.16</td>\n",
       "      <td>...</td>\n",
       "      <td>2.37</td>\n",
       "      <td>2.12</td>\n",
       "      <td>2.95</td>\n",
       "      <td>2.59</td>\n",
       "      <td>2.95</td>\n",
       "      <td>3.09</td>\n",
       "      <td>3.06</td>\n",
       "      <td>2.84</td>\n",
       "      <td>2.50</td>\n",
       "      <td>2.20</td>\n",
       "    </tr>\n",
       "    <tr>\n",
       "      <td>1</td>\n",
       "      <td>2.70</td>\n",
       "      <td>2.97</td>\n",
       "      <td>2.81</td>\n",
       "      <td>2.61</td>\n",
       "      <td>2.12</td>\n",
       "      <td>1.19</td>\n",
       "      <td>2.11</td>\n",
       "      <td>2.38</td>\n",
       "      <td>2.00</td>\n",
       "      <td>2.81</td>\n",
       "      <td>...</td>\n",
       "      <td>2.03</td>\n",
       "      <td>1.12</td>\n",
       "      <td>1.54</td>\n",
       "      <td>1.87</td>\n",
       "      <td>2.46</td>\n",
       "      <td>2.71</td>\n",
       "      <td>2.33</td>\n",
       "      <td>2.23</td>\n",
       "      <td>2.22</td>\n",
       "      <td>1.05</td>\n",
       "    </tr>\n",
       "    <tr>\n",
       "      <td>2</td>\n",
       "      <td>1.42</td>\n",
       "      <td>0.98</td>\n",
       "      <td>2.75</td>\n",
       "      <td>2.70</td>\n",
       "      <td>2.74</td>\n",
       "      <td>2.61</td>\n",
       "      <td>2.52</td>\n",
       "      <td>2.52</td>\n",
       "      <td>3.28</td>\n",
       "      <td>2.91</td>\n",
       "      <td>...</td>\n",
       "      <td>1.83</td>\n",
       "      <td>1.06</td>\n",
       "      <td>1.65</td>\n",
       "      <td>1.64</td>\n",
       "      <td>1.75</td>\n",
       "      <td>1.86</td>\n",
       "      <td>1.56</td>\n",
       "      <td>1.59</td>\n",
       "      <td>1.38</td>\n",
       "      <td>1.18</td>\n",
       "    </tr>\n",
       "    <tr>\n",
       "      <td>3</td>\n",
       "      <td>2.50</td>\n",
       "      <td>2.42</td>\n",
       "      <td>2.23</td>\n",
       "      <td>2.60</td>\n",
       "      <td>2.77</td>\n",
       "      <td>2.59</td>\n",
       "      <td>2.22</td>\n",
       "      <td>2.49</td>\n",
       "      <td>2.87</td>\n",
       "      <td>3.01</td>\n",
       "      <td>...</td>\n",
       "      <td>0.83</td>\n",
       "      <td>0.34</td>\n",
       "      <td>1.23</td>\n",
       "      <td>1.04</td>\n",
       "      <td>1.21</td>\n",
       "      <td>1.40</td>\n",
       "      <td>1.50</td>\n",
       "      <td>1.45</td>\n",
       "      <td>1.39</td>\n",
       "      <td>1.37</td>\n",
       "    </tr>\n",
       "    <tr>\n",
       "      <td>4</td>\n",
       "      <td>2.19</td>\n",
       "      <td>2.47</td>\n",
       "      <td>2.48</td>\n",
       "      <td>2.67</td>\n",
       "      <td>2.67</td>\n",
       "      <td>1.91</td>\n",
       "      <td>2.00</td>\n",
       "      <td>1.52</td>\n",
       "      <td>2.10</td>\n",
       "      <td>2.09</td>\n",
       "      <td>...</td>\n",
       "      <td>1.18</td>\n",
       "      <td>1.23</td>\n",
       "      <td>1.34</td>\n",
       "      <td>1.23</td>\n",
       "      <td>1.67</td>\n",
       "      <td>1.80</td>\n",
       "      <td>2.01</td>\n",
       "      <td>1.96</td>\n",
       "      <td>1.79</td>\n",
       "      <td>1.45</td>\n",
       "    </tr>\n",
       "  </tbody>\n",
       "</table>\n",
       "<p>5 rows × 42 columns</p>\n",
       "</div>"
      ],
      "text/plain": [
       "   S1997ngdp_rpch  F1997ngdp_rpch  S1998ngdp_rpch  F1998ngdp_rpch  \\\n",
       "0            2.20            2.35            2.22            2.58   \n",
       "1            2.70            2.97            2.81            2.61   \n",
       "2            1.42            0.98            2.75            2.70   \n",
       "3            2.50            2.42            2.23            2.60   \n",
       "4            2.19            2.47            2.48            2.67   \n",
       "\n",
       "   S1999ngdp_rpch  F1999ngdp_rpch  S2000ngdp_rpch  F2000ngdp_rpch  \\\n",
       "0            2.17            2.03            2.16            2.60   \n",
       "1            2.12            1.19            2.11            2.38   \n",
       "2            2.74            2.61            2.52            2.52   \n",
       "3            2.77            2.59            2.22            2.49   \n",
       "4            2.67            1.91            2.00            1.52   \n",
       "\n",
       "   S2001ngdp_rpch  F2001ngdp_rpch  ...  S2013ngdp_rpch  F2013ngdp_rpch  \\\n",
       "0            2.98            3.16  ...            2.37            2.12   \n",
       "1            2.00            2.81  ...            2.03            1.12   \n",
       "2            3.28            2.91  ...            1.83            1.06   \n",
       "3            2.87            3.01  ...            0.83            0.34   \n",
       "4            2.10            2.09  ...            1.18            1.23   \n",
       "\n",
       "   S2014ngdp_rpch  F2014ngdp_rpch  S2015ngdp_rpch  F2015ngdp_rpch  \\\n",
       "0            2.95            2.59            2.95            3.09   \n",
       "1            1.54            1.87            2.46            2.71   \n",
       "2            1.65            1.64            1.75            1.86   \n",
       "3            1.23            1.04            1.21            1.40   \n",
       "4            1.34            1.23            1.67            1.80   \n",
       "\n",
       "   S2016ngdp_rpch  F2016ngdp_rpch  S2017ngdp_rpch  F2017ngdp_rpch  \n",
       "0            3.06            2.84            2.50            2.20  \n",
       "1            2.33            2.23            2.22            1.05  \n",
       "2            1.56            1.59            1.38            1.18  \n",
       "3            1.50            1.45            1.39            1.37  \n",
       "4            2.01            1.96            1.79            1.45  \n",
       "\n",
       "[5 rows x 42 columns]"
      ]
     },
     "execution_count": 117,
     "metadata": {},
     "output_type": "execute_result"
    }
   ],
   "source": [
    "forecast.head()"
   ]
  },
  {
   "cell_type": "markdown",
   "metadata": {},
   "source": [
    "Let's stored every predicted values in variable 'pred' and real 'values' in re"
   ]
  },
  {
   "cell_type": "code",
   "execution_count": 118,
   "metadata": {},
   "outputs": [],
   "source": [
    "pred=[]\n",
    "for i in range(real.shape[0]):\n",
    "    a=list(forecast.iloc[i])\n",
    "    pred+=a"
   ]
  },
  {
   "cell_type": "code",
   "execution_count": 119,
   "metadata": {},
   "outputs": [
    {
     "data": {
      "text/plain": [
       "(177, 42)"
      ]
     },
     "execution_count": 119,
     "metadata": {},
     "output_type": "execute_result"
    }
   ],
   "source": [
    "forecast.shape\n"
   ]
  },
  {
   "cell_type": "code",
   "execution_count": 120,
   "metadata": {},
   "outputs": [
    {
     "data": {
      "text/plain": [
       "7434"
      ]
     },
     "execution_count": 120,
     "metadata": {},
     "output_type": "execute_result"
    }
   ],
   "source": [
    "len(pred)"
   ]
  },
  {
   "cell_type": "code",
   "execution_count": 121,
   "metadata": {},
   "outputs": [
    {
     "data": {
      "text/plain": [
       "7434"
      ]
     },
     "execution_count": 121,
     "metadata": {},
     "output_type": "execute_result"
    }
   ],
   "source": [
    "177*42\n"
   ]
  },
  {
   "cell_type": "code",
   "execution_count": 122,
   "metadata": {},
   "outputs": [],
   "source": [
    "re=[]\n",
    "for i in range(real.shape[0]):\n",
    "    b=list(real.iloc[i])\n",
    "    re+=b"
   ]
  },
  {
   "cell_type": "code",
   "execution_count": 123,
   "metadata": {},
   "outputs": [
    {
     "data": {
      "text/plain": [
       "(177, 42)"
      ]
     },
     "execution_count": 123,
     "metadata": {},
     "output_type": "execute_result"
    }
   ],
   "source": [
    "real.shape"
   ]
  },
  {
   "cell_type": "code",
   "execution_count": 124,
   "metadata": {},
   "outputs": [
    {
     "data": {
      "text/plain": [
       "7434"
      ]
     },
     "execution_count": 124,
     "metadata": {},
     "output_type": "execute_result"
    }
   ],
   "source": [
    "len(re)"
   ]
  },
  {
   "cell_type": "markdown",
   "metadata": {},
   "source": [
    "If predicted or real values are greater or equal than 0 let's call tham \"increase\", else \"decrease\" and store them in \"p\" and \"r\""
   ]
  },
  {
   "cell_type": "code",
   "execution_count": 125,
   "metadata": {},
   "outputs": [],
   "source": [
    "p=np.array([])\n",
    "for i in pred:\n",
    "    if i>=0:\n",
    "        t=\"increase\"\n",
    "    else:\n",
    "        t='decrease '\n",
    "    p=np.append(p,t)"
   ]
  },
  {
   "cell_type": "code",
   "execution_count": 126,
   "metadata": {},
   "outputs": [],
   "source": [
    "r=np.array([])\n",
    "for j in re:\n",
    "    if j>=0:\n",
    "        g=\"increase\"\n",
    "    else:\n",
    "        g='decrease '\n",
    "    r=np.append(r,g)"
   ]
  },
  {
   "cell_type": "code",
   "execution_count": 127,
   "metadata": {},
   "outputs": [
    {
     "data": {
      "text/plain": [
       "7434"
      ]
     },
     "execution_count": 127,
     "metadata": {},
     "output_type": "execute_result"
    }
   ],
   "source": [
    "len(r)"
   ]
  },
  {
   "cell_type": "markdown",
   "metadata": {},
   "source": [
    "Let's plot confusion matrix and calculate same accuray scores"
   ]
  },
  {
   "cell_type": "code",
   "execution_count": 128,
   "metadata": {},
   "outputs": [],
   "source": [
    "import matplotlib.pyplot as plt"
   ]
  },
  {
   "cell_type": "code",
   "execution_count": 129,
   "metadata": {},
   "outputs": [],
   "source": [
    "from mlxtend.plotting import plot_confusion_matrix"
   ]
  },
  {
   "cell_type": "code",
   "execution_count": 130,
   "metadata": {},
   "outputs": [
    {
     "data": {
      "image/png": "[encoded data removed]",
      "text/plain": [
       "<Figure size 432x288 with 1 Axes>"
      ]
     },
     "metadata": {
      "needs_background": "light"
     },
     "output_type": "display_data"
    }
   ],
   "source": [
    "plot_confusion_matrix(conf_mat=c,cmap=\"Paired\")\n",
    "plt.show()                     \n"
   ]
  },
  {
   "cell_type": "code",
   "execution_count": 131,
   "metadata": {},
   "outputs": [],
   "source": [
    "from sklearn.metrics import confusion_matrix \n",
    "c=confusion_matrix(y_true =r, y_pred = p)"
   ]
  },
  {
   "cell_type": "code",
   "execution_count": 132,
   "metadata": {},
   "outputs": [],
   "source": [
    "TP=6510\n",
    "FN=71\n",
    "TN=75\n",
    "FP=778"
   ]
  },
  {
   "cell_type": "code",
   "execution_count": 133,
   "metadata": {},
   "outputs": [
    {
     "name": "stdout",
     "output_type": "stream",
     "text": [
      "0.8857949959644875\n"
     ]
    }
   ],
   "source": [
    "Accuracy = (TP + TN) / (TP + TN + FP + FN)\n",
    "print(Accuracy)"
   ]
  },
  {
   "cell_type": "code",
   "execution_count": 134,
   "metadata": {},
   "outputs": [
    {
     "name": "stdout",
     "output_type": "stream",
     "text": [
      "0.9892113660537912\n"
     ]
    }
   ],
   "source": [
    "Recall = TP / (TP + FN)\n",
    "print(Recall)"
   ]
  },
  {
   "cell_type": "code",
   "execution_count": 135,
   "metadata": {},
   "outputs": [
    {
     "name": "stdout",
     "output_type": "stream",
     "text": [
      "0.8932491767288694\n"
     ]
    }
   ],
   "source": [
    "Precision = TP / (TP + FP)\n",
    "print(Precision)"
   ]
  },
  {
   "cell_type": "code",
   "execution_count": 136,
   "metadata": {},
   "outputs": [
    {
     "name": "stdout",
     "output_type": "stream",
     "text": [
      "0.9387843391736967\n"
     ]
    }
   ],
   "source": [
    "F_score = (2*Recall*Precision)/(Recall+Precision)\n",
    "print(F_score)"
   ]
  },
  {
   "cell_type": "code",
   "execution_count": 137,
   "metadata": {},
   "outputs": [
    {
     "name": "stdout",
     "output_type": "stream",
     "text": [
      "0.08792497069167643\n"
     ]
    }
   ],
   "source": [
    "Specificity = TN / (TN + FP)\n",
    "print(Specificity)"
   ]
  },
  {
   "cell_type": "code",
   "execution_count": 138,
   "metadata": {},
   "outputs": [],
   "source": [
    "from sklearn.metrics import cohen_kappa_score"
   ]
  },
  {
   "cell_type": "code",
   "execution_count": 139,
   "metadata": {},
   "outputs": [
    {
     "data": {
      "text/plain": [
       "0.12065833599210873"
      ]
     },
     "execution_count": 139,
     "metadata": {},
     "output_type": "execute_result"
    }
   ],
   "source": [
    "cohen_kappa_score(r,p)"
   ]
  }
 ],
 "metadata": {
  "kernelspec": {
   "display_name": "Python 3",
   "language": "python",
   "name": "python3"
  },
  "language_info": {
   "codemirror_mode": {
    "name": "ipython",
    "version": 3
   },
   "file_extension": ".py",
   "mimetype": "text/x-python",
   "name": "python",
   "nbconvert_exporter": "python",
   "pygments_lexer": "ipython3",
   "version": "3.7.4"
  }
 },
 "nbformat": 4,
 "nbformat_minor": 2
}
