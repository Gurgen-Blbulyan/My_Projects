{
 "cells": [
  {
   "cell_type": "code",
   "execution_count": 29,
   "metadata": {},
   "outputs": [],
   "source": [
    "import pandas as pd\n",
    "import numpy as np"
   ]
  },
  {
   "cell_type": "markdown",
   "metadata": {},
   "source": [
    "From 4 csv files i remove some empty and useless columns and than import to this notebook."
   ]
  },
  {
   "cell_type": "code",
   "execution_count": 30,
   "metadata": {},
   "outputs": [],
   "source": [
    "jeff=pd.read_excel(\"jefferson parish cash buyers.xlsx\")"
   ]
  },
  {
   "cell_type": "code",
   "execution_count": 31,
   "metadata": {},
   "outputs": [],
   "source": [
    "neworl=pd.read_excel(\"new orleans cash transactions.xlsx\")"
   ]
  },
  {
   "cell_type": "code",
   "execution_count": 32,
   "metadata": {},
   "outputs": [],
   "source": [
    "slidell=pd.read_excel(\"slidell cash buyer list.xlsx\")"
   ]
  },
  {
   "cell_type": "code",
   "execution_count": 33,
   "metadata": {},
   "outputs": [],
   "source": [
    "baton=pd.read_excel(\"baton rouge and surround areas cash sales.xlsx\")"
   ]
  },
  {
   "cell_type": "code",
   "execution_count": 34,
   "metadata": {},
   "outputs": [
    {
     "data": {
      "text/plain": [
       "(481, 23)"
      ]
     },
     "execution_count": 34,
     "metadata": {},
     "output_type": "execute_result"
    }
   ],
   "source": [
    "jeff.shape"
   ]
  },
  {
   "cell_type": "code",
   "execution_count": 35,
   "metadata": {},
   "outputs": [
    {
     "data": {
      "text/plain": [
       "(469, 14)"
      ]
     },
     "execution_count": 35,
     "metadata": {},
     "output_type": "execute_result"
    }
   ],
   "source": [
    "neworl.shape"
   ]
  },
  {
   "cell_type": "code",
   "execution_count": 36,
   "metadata": {},
   "outputs": [
    {
     "data": {
      "text/plain": [
       "(137, 15)"
      ]
     },
     "execution_count": 36,
     "metadata": {},
     "output_type": "execute_result"
    }
   ],
   "source": [
    "slidell.shape"
   ]
  },
  {
   "cell_type": "code",
   "execution_count": 37,
   "metadata": {},
   "outputs": [
    {
     "data": {
      "text/plain": [
       "(941, 18)"
      ]
     },
     "execution_count": 37,
     "metadata": {},
     "output_type": "execute_result"
    }
   ],
   "source": [
    "baton.shape"
   ]
  },
  {
   "cell_type": "code",
   "execution_count": 38,
   "metadata": {},
   "outputs": [],
   "source": [
    "jeff[\"PROPERTY ADDRESS\"]=range(481)"
   ]
  },
  {
   "cell_type": "code",
   "execution_count": 39,
   "metadata": {},
   "outputs": [
    {
     "data": {
      "text/html": [
       "<div>\n",
       "<style scoped>\n",
       "    .dataframe tbody tr th:only-of-type {\n",
       "        vertical-align: middle;\n",
       "    }\n",
       "\n",
       "    .dataframe tbody tr th {\n",
       "        vertical-align: top;\n",
       "    }\n",
       "\n",
       "    .dataframe thead th {\n",
       "        text-align: right;\n",
       "    }\n",
       "</style>\n",
       "<table border=\"1\" class=\"dataframe\">\n",
       "  <thead>\n",
       "    <tr style=\"text-align: right;\">\n",
       "      <th></th>\n",
       "      <th>PROPERTY ADDRESS</th>\n",
       "      <th>PROPERTY STREET NAME SUFFIX</th>\n",
       "      <th>PROPERTY CITY</th>\n",
       "      <th>COUNTY</th>\n",
       "      <th>LAST MARKET SALE DATE</th>\n",
       "      <th>EQUITY ($)</th>\n",
       "      <th>IMPROVED %</th>\n",
       "      <th>IMPROVED VALUE</th>\n",
       "      <th>LAND VALUE</th>\n",
       "      <th>LAST MARKET RECORDING DATE</th>\n",
       "      <th>...</th>\n",
       "      <th>LOT ACREAGE</th>\n",
       "      <th>PRIOR MARKET RECORDING DATE</th>\n",
       "      <th>PRIOR MARKET SALE DATE</th>\n",
       "      <th>PRIOR MARKET SALE PRICE</th>\n",
       "      <th>PROPERTY TAX AMOUNT</th>\n",
       "      <th>PROPERTY TYPE</th>\n",
       "      <th>TAX RATE AREA</th>\n",
       "      <th>TAX REDUCTION</th>\n",
       "      <th>TOTAL ASSESSED VALUE</th>\n",
       "      <th>LENGTH OF RESIDENCE</th>\n",
       "    </tr>\n",
       "  </thead>\n",
       "  <tbody>\n",
       "    <tr>\n",
       "      <td>476</td>\n",
       "      <td>476</td>\n",
       "      <td>Dr</td>\n",
       "      <td>Metairie</td>\n",
       "      <td>Jefferson</td>\n",
       "      <td>2019-04-18</td>\n",
       "      <td>241100</td>\n",
       "      <td>88</td>\n",
       "      <td>8980</td>\n",
       "      <td>1180</td>\n",
       "      <td>2019-04-22</td>\n",
       "      <td>...</td>\n",
       "      <td>0.00</td>\n",
       "      <td>2019-04-22</td>\n",
       "      <td>2019-04-18</td>\n",
       "      <td>235000.0</td>\n",
       "      <td>1262.85</td>\n",
       "      <td>Sfr</td>\n",
       "      <td>1</td>\n",
       "      <td>4</td>\n",
       "      <td>10160</td>\n",
       "      <td>7</td>\n",
       "    </tr>\n",
       "    <tr>\n",
       "      <td>477</td>\n",
       "      <td>477</td>\n",
       "      <td>Dr</td>\n",
       "      <td>Westwego</td>\n",
       "      <td>Jefferson</td>\n",
       "      <td>2019-04-15</td>\n",
       "      <td>91300</td>\n",
       "      <td>78</td>\n",
       "      <td>6190</td>\n",
       "      <td>1790</td>\n",
       "      <td>2019-04-16</td>\n",
       "      <td>...</td>\n",
       "      <td>0.00</td>\n",
       "      <td>2004-10-01</td>\n",
       "      <td>NaT</td>\n",
       "      <td>0.0</td>\n",
       "      <td>781.06</td>\n",
       "      <td>Sfr</td>\n",
       "      <td>4</td>\n",
       "      <td>9</td>\n",
       "      <td>7980</td>\n",
       "      <td>8</td>\n",
       "    </tr>\n",
       "    <tr>\n",
       "      <td>478</td>\n",
       "      <td>478</td>\n",
       "      <td>Ave</td>\n",
       "      <td>Westwego</td>\n",
       "      <td>Jefferson</td>\n",
       "      <td>2019-04-23</td>\n",
       "      <td>119900</td>\n",
       "      <td>68</td>\n",
       "      <td>3800</td>\n",
       "      <td>1800</td>\n",
       "      <td>2019-04-23</td>\n",
       "      <td>...</td>\n",
       "      <td>0.14</td>\n",
       "      <td>1976-09-01</td>\n",
       "      <td>NaT</td>\n",
       "      <td>21900.0</td>\n",
       "      <td>680.08</td>\n",
       "      <td>Sfr</td>\n",
       "      <td>9</td>\n",
       "      <td>5</td>\n",
       "      <td>5600</td>\n",
       "      <td>7</td>\n",
       "    </tr>\n",
       "    <tr>\n",
       "      <td>479</td>\n",
       "      <td>479</td>\n",
       "      <td>Ave</td>\n",
       "      <td>Jefferson</td>\n",
       "      <td>Jefferson</td>\n",
       "      <td>2019-10-07</td>\n",
       "      <td>117100</td>\n",
       "      <td>53</td>\n",
       "      <td>4200</td>\n",
       "      <td>3740</td>\n",
       "      <td>2019-10-08</td>\n",
       "      <td>...</td>\n",
       "      <td>0.13</td>\n",
       "      <td>1994-09-01</td>\n",
       "      <td>NaT</td>\n",
       "      <td>0.0</td>\n",
       "      <td>900.40</td>\n",
       "      <td>Sfr</td>\n",
       "      <td>4</td>\n",
       "      <td>7</td>\n",
       "      <td>7940</td>\n",
       "      <td>2</td>\n",
       "    </tr>\n",
       "    <tr>\n",
       "      <td>480</td>\n",
       "      <td>480</td>\n",
       "      <td>Dr</td>\n",
       "      <td>Marrero</td>\n",
       "      <td>Jefferson</td>\n",
       "      <td>2019-05-17</td>\n",
       "      <td>128100</td>\n",
       "      <td>60</td>\n",
       "      <td>6150</td>\n",
       "      <td>4120</td>\n",
       "      <td>2019-05-17</td>\n",
       "      <td>...</td>\n",
       "      <td>0.11</td>\n",
       "      <td>1997-07-01</td>\n",
       "      <td>NaT</td>\n",
       "      <td>60500.0</td>\n",
       "      <td>1251.74</td>\n",
       "      <td>Sfr</td>\n",
       "      <td>7</td>\n",
       "      <td>8</td>\n",
       "      <td>10270</td>\n",
       "      <td>7</td>\n",
       "    </tr>\n",
       "  </tbody>\n",
       "</table>\n",
       "<p>5 rows × 23 columns</p>\n",
       "</div>"
      ],
      "text/plain": [
       "     PROPERTY ADDRESS PROPERTY STREET NAME SUFFIX PROPERTY CITY     COUNTY  \\\n",
       "476               476                          Dr      Metairie  Jefferson   \n",
       "477               477                          Dr      Westwego  Jefferson   \n",
       "478               478                         Ave      Westwego  Jefferson   \n",
       "479               479                         Ave     Jefferson  Jefferson   \n",
       "480               480                          Dr       Marrero  Jefferson   \n",
       "\n",
       "    LAST MARKET SALE DATE  EQUITY ($)  IMPROVED %  IMPROVED VALUE  LAND VALUE  \\\n",
       "476            2019-04-18      241100          88            8980        1180   \n",
       "477            2019-04-15       91300          78            6190        1790   \n",
       "478            2019-04-23      119900          68            3800        1800   \n",
       "479            2019-10-07      117100          53            4200        3740   \n",
       "480            2019-05-17      128100          60            6150        4120   \n",
       "\n",
       "    LAST MARKET RECORDING DATE  ... LOT ACREAGE  PRIOR MARKET RECORDING DATE  \\\n",
       "476                 2019-04-22  ...        0.00                   2019-04-22   \n",
       "477                 2019-04-16  ...        0.00                   2004-10-01   \n",
       "478                 2019-04-23  ...        0.14                   1976-09-01   \n",
       "479                 2019-10-08  ...        0.13                   1994-09-01   \n",
       "480                 2019-05-17  ...        0.11                   1997-07-01   \n",
       "\n",
       "     PRIOR MARKET SALE DATE  PRIOR MARKET SALE PRICE PROPERTY TAX AMOUNT  \\\n",
       "476              2019-04-18                 235000.0             1262.85   \n",
       "477                     NaT                      0.0              781.06   \n",
       "478                     NaT                  21900.0              680.08   \n",
       "479                     NaT                      0.0              900.40   \n",
       "480                     NaT                  60500.0             1251.74   \n",
       "\n",
       "    PROPERTY TYPE  TAX RATE AREA  TAX REDUCTION TOTAL ASSESSED VALUE  \\\n",
       "476           Sfr              1              4                10160   \n",
       "477           Sfr              4              9                 7980   \n",
       "478           Sfr              9              5                 5600   \n",
       "479           Sfr              4              7                 7940   \n",
       "480           Sfr              7              8                10270   \n",
       "\n",
       "    LENGTH OF RESIDENCE  \n",
       "476                   7  \n",
       "477                   8  \n",
       "478                   7  \n",
       "479                   2  \n",
       "480                   7  \n",
       "\n",
       "[5 rows x 23 columns]"
      ]
     },
     "execution_count": 39,
     "metadata": {},
     "output_type": "execute_result"
    }
   ],
   "source": [
    "jeff.tail()"
   ]
  },
  {
   "cell_type": "code",
   "execution_count": 40,
   "metadata": {},
   "outputs": [],
   "source": [
    "neworl[\"PROPERTY ADDRESS\"]=range(481,481+469)"
   ]
  },
  {
   "cell_type": "code",
   "execution_count": 41,
   "metadata": {},
   "outputs": [
    {
     "data": {
      "text/html": [
       "<div>\n",
       "<style scoped>\n",
       "    .dataframe tbody tr th:only-of-type {\n",
       "        vertical-align: middle;\n",
       "    }\n",
       "\n",
       "    .dataframe tbody tr th {\n",
       "        vertical-align: top;\n",
       "    }\n",
       "\n",
       "    .dataframe thead th {\n",
       "        text-align: right;\n",
       "    }\n",
       "</style>\n",
       "<table border=\"1\" class=\"dataframe\">\n",
       "  <thead>\n",
       "    <tr style=\"text-align: right;\">\n",
       "      <th></th>\n",
       "      <th>PROPERTY ADDRESS</th>\n",
       "      <th>PROPERTY STREET NAME SUFFIX</th>\n",
       "      <th>PROPERTY CITY</th>\n",
       "      <th>COUNTY</th>\n",
       "      <th>PROPERTY TYPE</th>\n",
       "      <th>LAST MARKET SALE DATE</th>\n",
       "      <th>EQUITY ($)</th>\n",
       "      <th>LAST MARKET RECORDING DATE</th>\n",
       "      <th>LAST MARKET SALE DEED TYPE</th>\n",
       "      <th>LAST MARKET SALE PRICE</th>\n",
       "      <th>PRIOR MARKET SALE DATE</th>\n",
       "      <th>PRIOR MARKET SALE PRICE</th>\n",
       "      <th>PROPERTY TAX AMOUNT</th>\n",
       "      <th>LENGTH OF RESIDENCE</th>\n",
       "    </tr>\n",
       "  </thead>\n",
       "  <tbody>\n",
       "    <tr>\n",
       "      <td>0</td>\n",
       "      <td>481</td>\n",
       "      <td>St</td>\n",
       "      <td>New Orleans</td>\n",
       "      <td>Orleans</td>\n",
       "      <td>Sfr</td>\n",
       "      <td>2019-03-28</td>\n",
       "      <td>221448</td>\n",
       "      <td>2019-04-01</td>\n",
       "      <td>Deed (Reg)</td>\n",
       "      <td>100000</td>\n",
       "      <td>2019-03-28</td>\n",
       "      <td>75000.0</td>\n",
       "      <td>1477.63</td>\n",
       "      <td>2</td>\n",
       "    </tr>\n",
       "    <tr>\n",
       "      <td>1</td>\n",
       "      <td>482</td>\n",
       "      <td>St</td>\n",
       "      <td>New Orleans</td>\n",
       "      <td>Orleans</td>\n",
       "      <td>Sfr</td>\n",
       "      <td>2018-12-12</td>\n",
       "      <td>284259</td>\n",
       "      <td>2018-12-18</td>\n",
       "      <td>Deed (Reg)</td>\n",
       "      <td>319000</td>\n",
       "      <td>NaT</td>\n",
       "      <td>NaN</td>\n",
       "      <td>5833.48</td>\n",
       "      <td>6</td>\n",
       "    </tr>\n",
       "    <tr>\n",
       "      <td>2</td>\n",
       "      <td>483</td>\n",
       "      <td>Blvd</td>\n",
       "      <td>New Orleans</td>\n",
       "      <td>Orleans</td>\n",
       "      <td>Sfr</td>\n",
       "      <td>2019-02-01</td>\n",
       "      <td>136733</td>\n",
       "      <td>2019-02-05</td>\n",
       "      <td>Deed (Reg)</td>\n",
       "      <td>105000</td>\n",
       "      <td>1999-02-22</td>\n",
       "      <td>34994.0</td>\n",
       "      <td>1032.22</td>\n",
       "      <td>4</td>\n",
       "    </tr>\n",
       "    <tr>\n",
       "      <td>3</td>\n",
       "      <td>484</td>\n",
       "      <td>St</td>\n",
       "      <td>New Orleans</td>\n",
       "      <td>Orleans</td>\n",
       "      <td>Sfr</td>\n",
       "      <td>2018-08-21</td>\n",
       "      <td>91930</td>\n",
       "      <td>2018-09-20</td>\n",
       "      <td>Deed (Reg)</td>\n",
       "      <td>50000</td>\n",
       "      <td>2012-12-18</td>\n",
       "      <td>104861.0</td>\n",
       "      <td>243.45</td>\n",
       "      <td>10</td>\n",
       "    </tr>\n",
       "    <tr>\n",
       "      <td>4</td>\n",
       "      <td>485</td>\n",
       "      <td>St</td>\n",
       "      <td>New Orleans</td>\n",
       "      <td>Orleans</td>\n",
       "      <td>Sfr</td>\n",
       "      <td>2018-04-20</td>\n",
       "      <td>75236</td>\n",
       "      <td>2018-04-30</td>\n",
       "      <td>Deed (Reg)</td>\n",
       "      <td>57000</td>\n",
       "      <td>1999-03-22</td>\n",
       "      <td>50000.0</td>\n",
       "      <td>972.48</td>\n",
       "      <td>14</td>\n",
       "    </tr>\n",
       "  </tbody>\n",
       "</table>\n",
       "</div>"
      ],
      "text/plain": [
       "   PROPERTY ADDRESS PROPERTY STREET NAME SUFFIX PROPERTY CITY   COUNTY  \\\n",
       "0               481                          St   New Orleans  Orleans   \n",
       "1               482                          St   New Orleans  Orleans   \n",
       "2               483                        Blvd   New Orleans  Orleans   \n",
       "3               484                          St   New Orleans  Orleans   \n",
       "4               485                          St   New Orleans  Orleans   \n",
       "\n",
       "  PROPERTY TYPE LAST MARKET SALE DATE  EQUITY ($) LAST MARKET RECORDING DATE  \\\n",
       "0           Sfr            2019-03-28      221448                 2019-04-01   \n",
       "1           Sfr            2018-12-12      284259                 2018-12-18   \n",
       "2           Sfr            2019-02-01      136733                 2019-02-05   \n",
       "3           Sfr            2018-08-21       91930                 2018-09-20   \n",
       "4           Sfr            2018-04-20       75236                 2018-04-30   \n",
       "\n",
       "  LAST MARKET SALE DEED TYPE  LAST MARKET SALE PRICE PRIOR MARKET SALE DATE  \\\n",
       "0                 Deed (Reg)                  100000             2019-03-28   \n",
       "1                 Deed (Reg)                  319000                    NaT   \n",
       "2                 Deed (Reg)                  105000             1999-02-22   \n",
       "3                 Deed (Reg)                   50000             2012-12-18   \n",
       "4                 Deed (Reg)                   57000             1999-03-22   \n",
       "\n",
       "   PRIOR MARKET SALE PRICE  PROPERTY TAX AMOUNT  LENGTH OF RESIDENCE  \n",
       "0                  75000.0              1477.63                    2  \n",
       "1                      NaN              5833.48                    6  \n",
       "2                  34994.0              1032.22                    4  \n",
       "3                 104861.0               243.45                   10  \n",
       "4                  50000.0               972.48                   14  "
      ]
     },
     "execution_count": 41,
     "metadata": {},
     "output_type": "execute_result"
    }
   ],
   "source": [
    "neworl.head()"
   ]
  },
  {
   "cell_type": "code",
   "execution_count": 42,
   "metadata": {},
   "outputs": [],
   "source": [
    "slidell[\"PROPERTY ADDRESS\"]=range(950,950+137)"
   ]
  },
  {
   "cell_type": "code",
   "execution_count": 43,
   "metadata": {},
   "outputs": [
    {
     "data": {
      "text/html": [
       "<div>\n",
       "<style scoped>\n",
       "    .dataframe tbody tr th:only-of-type {\n",
       "        vertical-align: middle;\n",
       "    }\n",
       "\n",
       "    .dataframe tbody tr th {\n",
       "        vertical-align: top;\n",
       "    }\n",
       "\n",
       "    .dataframe thead th {\n",
       "        text-align: right;\n",
       "    }\n",
       "</style>\n",
       "<table border=\"1\" class=\"dataframe\">\n",
       "  <thead>\n",
       "    <tr style=\"text-align: right;\">\n",
       "      <th></th>\n",
       "      <th>PROPERTY ADDRESS</th>\n",
       "      <th>PROPERTY STREET NAME SUFFIX</th>\n",
       "      <th>PROPERTY CITY</th>\n",
       "      <th>COUNTY</th>\n",
       "      <th>LAST MARKET RECORDING DATE</th>\n",
       "      <th>PROPERTY TYPE</th>\n",
       "      <th>EQUITY ($)</th>\n",
       "      <th>LAST MARKET SALE DATE</th>\n",
       "      <th>LAST MARKET SALE DEED TYPE</th>\n",
       "      <th>LAST MARKET SALE PRICE</th>\n",
       "      <th>PRIOR MARKET RECORDING DATE</th>\n",
       "      <th>PRIOR MARKET SALE DATE</th>\n",
       "      <th>PRIOR MARKET SALE PRICE</th>\n",
       "      <th>PROPERTY TAX AMOUNT</th>\n",
       "      <th>LENGTH OF RESIDENCE</th>\n",
       "    </tr>\n",
       "  </thead>\n",
       "  <tbody>\n",
       "    <tr>\n",
       "      <td>132</td>\n",
       "      <td>1082</td>\n",
       "      <td>Blvd</td>\n",
       "      <td>Slidell</td>\n",
       "      <td>St Tammany</td>\n",
       "      <td>2019-10-02</td>\n",
       "      <td>Sfr</td>\n",
       "      <td>709600</td>\n",
       "      <td>2019-09-24</td>\n",
       "      <td>Deed (Reg)</td>\n",
       "      <td>650000</td>\n",
       "      <td>2017-11-17</td>\n",
       "      <td>2017-11-15</td>\n",
       "      <td>202000.0</td>\n",
       "      <td>7413.44</td>\n",
       "      <td>3</td>\n",
       "    </tr>\n",
       "    <tr>\n",
       "      <td>133</td>\n",
       "      <td>1083</td>\n",
       "      <td>Dr</td>\n",
       "      <td>Slidell</td>\n",
       "      <td>St Tammany</td>\n",
       "      <td>2019-08-28</td>\n",
       "      <td>Sfr</td>\n",
       "      <td>331200</td>\n",
       "      <td>2019-08-28</td>\n",
       "      <td>Deed (Reg)</td>\n",
       "      <td>340000</td>\n",
       "      <td>NaT</td>\n",
       "      <td>NaT</td>\n",
       "      <td>NaN</td>\n",
       "      <td>6136.81</td>\n",
       "      <td>4</td>\n",
       "    </tr>\n",
       "    <tr>\n",
       "      <td>134</td>\n",
       "      <td>1084</td>\n",
       "      <td>Ct</td>\n",
       "      <td>Slidell</td>\n",
       "      <td>St Tammany</td>\n",
       "      <td>2019-07-16</td>\n",
       "      <td>Sfr</td>\n",
       "      <td>122700</td>\n",
       "      <td>2019-07-12</td>\n",
       "      <td>Deed (Reg)</td>\n",
       "      <td>125000</td>\n",
       "      <td>NaT</td>\n",
       "      <td>NaT</td>\n",
       "      <td>NaN</td>\n",
       "      <td>1620.59</td>\n",
       "      <td>5</td>\n",
       "    </tr>\n",
       "    <tr>\n",
       "      <td>135</td>\n",
       "      <td>1085</td>\n",
       "      <td>Ln</td>\n",
       "      <td>Slidell</td>\n",
       "      <td>St Tammany</td>\n",
       "      <td>2019-01-23</td>\n",
       "      <td>Sfr</td>\n",
       "      <td>155300</td>\n",
       "      <td>2019-01-22</td>\n",
       "      <td>Deed (Reg)</td>\n",
       "      <td>139271</td>\n",
       "      <td>2005-12-30</td>\n",
       "      <td>2005-12-22</td>\n",
       "      <td>193501.0</td>\n",
       "      <td>2473.57</td>\n",
       "      <td>11</td>\n",
       "    </tr>\n",
       "    <tr>\n",
       "      <td>136</td>\n",
       "      <td>1086</td>\n",
       "      <td>Dr</td>\n",
       "      <td>Slidell</td>\n",
       "      <td>St Tammany</td>\n",
       "      <td>2019-05-01</td>\n",
       "      <td>Sfr</td>\n",
       "      <td>149700</td>\n",
       "      <td>2018-05-24</td>\n",
       "      <td>Quit Claim Deed</td>\n",
       "      <td>11543</td>\n",
       "      <td>NaT</td>\n",
       "      <td>NaT</td>\n",
       "      <td>NaN</td>\n",
       "      <td>1022.09</td>\n",
       "      <td>19</td>\n",
       "    </tr>\n",
       "  </tbody>\n",
       "</table>\n",
       "</div>"
      ],
      "text/plain": [
       "     PROPERTY ADDRESS PROPERTY STREET NAME SUFFIX PROPERTY CITY      COUNTY  \\\n",
       "132              1082                        Blvd       Slidell  St Tammany   \n",
       "133              1083                          Dr       Slidell  St Tammany   \n",
       "134              1084                          Ct       Slidell  St Tammany   \n",
       "135              1085                          Ln       Slidell  St Tammany   \n",
       "136              1086                          Dr       Slidell  St Tammany   \n",
       "\n",
       "    LAST MARKET RECORDING DATE PROPERTY TYPE  EQUITY ($)  \\\n",
       "132                 2019-10-02           Sfr      709600   \n",
       "133                 2019-08-28           Sfr      331200   \n",
       "134                 2019-07-16           Sfr      122700   \n",
       "135                 2019-01-23           Sfr      155300   \n",
       "136                 2019-05-01           Sfr      149700   \n",
       "\n",
       "    LAST MARKET SALE DATE LAST MARKET SALE DEED TYPE  LAST MARKET SALE PRICE  \\\n",
       "132            2019-09-24                 Deed (Reg)                  650000   \n",
       "133            2019-08-28                 Deed (Reg)                  340000   \n",
       "134            2019-07-12                 Deed (Reg)                  125000   \n",
       "135            2019-01-22                 Deed (Reg)                  139271   \n",
       "136            2018-05-24            Quit Claim Deed                   11543   \n",
       "\n",
       "    PRIOR MARKET RECORDING DATE PRIOR MARKET SALE DATE  \\\n",
       "132                  2017-11-17             2017-11-15   \n",
       "133                         NaT                    NaT   \n",
       "134                         NaT                    NaT   \n",
       "135                  2005-12-30             2005-12-22   \n",
       "136                         NaT                    NaT   \n",
       "\n",
       "     PRIOR MARKET SALE PRICE  PROPERTY TAX AMOUNT  LENGTH OF RESIDENCE  \n",
       "132                 202000.0              7413.44                    3  \n",
       "133                      NaN              6136.81                    4  \n",
       "134                      NaN              1620.59                    5  \n",
       "135                 193501.0              2473.57                   11  \n",
       "136                      NaN              1022.09                   19  "
      ]
     },
     "execution_count": 43,
     "metadata": {},
     "output_type": "execute_result"
    }
   ],
   "source": [
    "slidell.tail()"
   ]
  },
  {
   "cell_type": "code",
   "execution_count": 44,
   "metadata": {},
   "outputs": [],
   "source": [
    "baton[\"PROPERTY ADDRESS\"]=range(1087,1087+941)"
   ]
  },
  {
   "cell_type": "code",
   "execution_count": 45,
   "metadata": {},
   "outputs": [
    {
     "data": {
      "text/html": [
       "<div>\n",
       "<style scoped>\n",
       "    .dataframe tbody tr th:only-of-type {\n",
       "        vertical-align: middle;\n",
       "    }\n",
       "\n",
       "    .dataframe tbody tr th {\n",
       "        vertical-align: top;\n",
       "    }\n",
       "\n",
       "    .dataframe thead th {\n",
       "        text-align: right;\n",
       "    }\n",
       "</style>\n",
       "<table border=\"1\" class=\"dataframe\">\n",
       "  <thead>\n",
       "    <tr style=\"text-align: right;\">\n",
       "      <th></th>\n",
       "      <th>PROPERTY ADDRESS</th>\n",
       "      <th>PROPERTY STREET NAME SUFFIX</th>\n",
       "      <th>PROPERTY CITY</th>\n",
       "      <th>COUNTY</th>\n",
       "      <th>LAST MARKET RECORDING DATE</th>\n",
       "      <th>PROPERTY TYPE</th>\n",
       "      <th>PRIOR MARKET RECORDING DATE</th>\n",
       "      <th>PRIOR MARKET SALE DATE</th>\n",
       "      <th>PRIOR MARKET SALE PRICE</th>\n",
       "      <th>PROPERTY TAX AMOUNT</th>\n",
       "      <th>LAND VALUE</th>\n",
       "      <th>LAST MARKET SALE DATE</th>\n",
       "      <th>LAST MARKET SALE DEED TYPE</th>\n",
       "      <th>LAST MARKET SALE PRICE</th>\n",
       "      <th>LOT AREA</th>\n",
       "      <th>LOT ACREAGE</th>\n",
       "      <th>BLDG/LIVING AREA</th>\n",
       "      <th>LENGTH OF RESIDENCE</th>\n",
       "    </tr>\n",
       "  </thead>\n",
       "  <tbody>\n",
       "    <tr>\n",
       "      <td>0</td>\n",
       "      <td>1087</td>\n",
       "      <td>Ave</td>\n",
       "      <td>Baton Rouge</td>\n",
       "      <td>East Baton Rouge</td>\n",
       "      <td>2019-03-18</td>\n",
       "      <td>Condominium</td>\n",
       "      <td>2012-11-14</td>\n",
       "      <td>2012-01-01</td>\n",
       "      <td>88646.0</td>\n",
       "      <td>1262.11</td>\n",
       "      <td>500</td>\n",
       "      <td>2019-03-14</td>\n",
       "      <td>Deed (Reg)</td>\n",
       "      <td>55000</td>\n",
       "      <td>0</td>\n",
       "      <td>0.00</td>\n",
       "      <td>675.0</td>\n",
       "      <td>9</td>\n",
       "    </tr>\n",
       "    <tr>\n",
       "      <td>1</td>\n",
       "      <td>1088</td>\n",
       "      <td>Dr</td>\n",
       "      <td>Greenwell Springs</td>\n",
       "      <td>East Baton Rouge</td>\n",
       "      <td>2019-04-01</td>\n",
       "      <td>Sfr</td>\n",
       "      <td>1994-04-25</td>\n",
       "      <td>NaT</td>\n",
       "      <td>0.0</td>\n",
       "      <td>1555.94</td>\n",
       "      <td>1400</td>\n",
       "      <td>2019-03-21</td>\n",
       "      <td>Deed (Reg)</td>\n",
       "      <td>90000</td>\n",
       "      <td>7965</td>\n",
       "      <td>0.18</td>\n",
       "      <td>1360.0</td>\n",
       "      <td>9</td>\n",
       "    </tr>\n",
       "    <tr>\n",
       "      <td>2</td>\n",
       "      <td>1089</td>\n",
       "      <td>Rd</td>\n",
       "      <td>Baton Rouge</td>\n",
       "      <td>East Baton Rouge</td>\n",
       "      <td>2019-10-04</td>\n",
       "      <td>Condominium</td>\n",
       "      <td>2005-12-20</td>\n",
       "      <td>2005-12-09</td>\n",
       "      <td>129000.0</td>\n",
       "      <td>1255.94</td>\n",
       "      <td>1000</td>\n",
       "      <td>2019-10-01</td>\n",
       "      <td>Deed (Reg)</td>\n",
       "      <td>110000</td>\n",
       "      <td>0</td>\n",
       "      <td>0.00</td>\n",
       "      <td>998.0</td>\n",
       "      <td>2</td>\n",
       "    </tr>\n",
       "    <tr>\n",
       "      <td>3</td>\n",
       "      <td>1090</td>\n",
       "      <td>Rd</td>\n",
       "      <td>Baton Rouge</td>\n",
       "      <td>East Baton Rouge</td>\n",
       "      <td>2019-03-28</td>\n",
       "      <td>Sfr</td>\n",
       "      <td>NaT</td>\n",
       "      <td>NaT</td>\n",
       "      <td>NaN</td>\n",
       "      <td>659.62</td>\n",
       "      <td>1500</td>\n",
       "      <td>2019-03-26</td>\n",
       "      <td>Deed (Reg)</td>\n",
       "      <td>225000</td>\n",
       "      <td>46906</td>\n",
       "      <td>1.08</td>\n",
       "      <td>2038.0</td>\n",
       "      <td>9</td>\n",
       "    </tr>\n",
       "    <tr>\n",
       "      <td>4</td>\n",
       "      <td>1091</td>\n",
       "      <td>Dr</td>\n",
       "      <td>Baton Rouge</td>\n",
       "      <td>East Baton Rouge</td>\n",
       "      <td>2019-04-08</td>\n",
       "      <td>Condominium</td>\n",
       "      <td>2017-05-08</td>\n",
       "      <td>2017-04-28</td>\n",
       "      <td>148000.0</td>\n",
       "      <td>1768.37</td>\n",
       "      <td>1000</td>\n",
       "      <td>2019-03-01</td>\n",
       "      <td>Deed (Reg)</td>\n",
       "      <td>140000</td>\n",
       "      <td>0</td>\n",
       "      <td>0.00</td>\n",
       "      <td>0.0</td>\n",
       "      <td>9</td>\n",
       "    </tr>\n",
       "  </tbody>\n",
       "</table>\n",
       "</div>"
      ],
      "text/plain": [
       "   PROPERTY ADDRESS PROPERTY STREET NAME SUFFIX      PROPERTY CITY  \\\n",
       "0              1087                         Ave        Baton Rouge   \n",
       "1              1088                          Dr  Greenwell Springs   \n",
       "2              1089                          Rd        Baton Rouge   \n",
       "3              1090                          Rd        Baton Rouge   \n",
       "4              1091                          Dr        Baton Rouge   \n",
       "\n",
       "             COUNTY LAST MARKET RECORDING DATE PROPERTY TYPE  \\\n",
       "0  East Baton Rouge                 2019-03-18   Condominium   \n",
       "1  East Baton Rouge                 2019-04-01           Sfr   \n",
       "2  East Baton Rouge                 2019-10-04   Condominium   \n",
       "3  East Baton Rouge                 2019-03-28           Sfr   \n",
       "4  East Baton Rouge                 2019-04-08   Condominium   \n",
       "\n",
       "  PRIOR MARKET RECORDING DATE PRIOR MARKET SALE DATE  PRIOR MARKET SALE PRICE  \\\n",
       "0                  2012-11-14             2012-01-01                  88646.0   \n",
       "1                  1994-04-25                    NaT                      0.0   \n",
       "2                  2005-12-20             2005-12-09                 129000.0   \n",
       "3                         NaT                    NaT                      NaN   \n",
       "4                  2017-05-08             2017-04-28                 148000.0   \n",
       "\n",
       "   PROPERTY TAX AMOUNT  LAND VALUE LAST MARKET SALE DATE  \\\n",
       "0              1262.11         500            2019-03-14   \n",
       "1              1555.94        1400            2019-03-21   \n",
       "2              1255.94        1000            2019-10-01   \n",
       "3               659.62        1500            2019-03-26   \n",
       "4              1768.37        1000            2019-03-01   \n",
       "\n",
       "  LAST MARKET SALE DEED TYPE  LAST MARKET SALE PRICE  LOT AREA  LOT ACREAGE  \\\n",
       "0                 Deed (Reg)                   55000         0         0.00   \n",
       "1                 Deed (Reg)                   90000      7965         0.18   \n",
       "2                 Deed (Reg)                  110000         0         0.00   \n",
       "3                 Deed (Reg)                  225000     46906         1.08   \n",
       "4                 Deed (Reg)                  140000         0         0.00   \n",
       "\n",
       "   BLDG/LIVING AREA  LENGTH OF RESIDENCE  \n",
       "0             675.0                    9  \n",
       "1            1360.0                    9  \n",
       "2             998.0                    2  \n",
       "3            2038.0                    9  \n",
       "4               0.0                    9  "
      ]
     },
     "execution_count": 45,
     "metadata": {},
     "output_type": "execute_result"
    }
   ],
   "source": [
    "baton.head()"
   ]
  },
  {
   "cell_type": "markdown",
   "metadata": {},
   "source": [
    "Let's get same columns in 4 dataframes."
   ]
  },
  {
   "cell_type": "code",
   "execution_count": 46,
   "metadata": {},
   "outputs": [],
   "source": [
    "jeffcol=set(jeff.columns)"
   ]
  },
  {
   "cell_type": "code",
   "execution_count": 47,
   "metadata": {},
   "outputs": [],
   "source": [
    "neworlcol=set(neworl.columns)"
   ]
  },
  {
   "cell_type": "code",
   "execution_count": 48,
   "metadata": {},
   "outputs": [],
   "source": [
    "slidellcol=set(slidell.columns)"
   ]
  },
  {
   "cell_type": "code",
   "execution_count": 49,
   "metadata": {},
   "outputs": [],
   "source": [
    "batoncol=set(baton.columns)"
   ]
  },
  {
   "cell_type": "code",
   "execution_count": 50,
   "metadata": {},
   "outputs": [],
   "source": [
    "samecol=batoncol.intersection(slidellcol, neworlcol, jeffcol)"
   ]
  },
  {
   "cell_type": "markdown",
   "metadata": {},
   "source": [
    "And now we get unique columns on each dataframes."
   ]
  },
  {
   "cell_type": "code",
   "execution_count": 51,
   "metadata": {},
   "outputs": [
    {
     "data": {
      "text/plain": [
       "{'BLDG/LIVING AREA',\n",
       " 'LAND VALUE',\n",
       " 'LOT ACREAGE',\n",
       " 'LOT AREA',\n",
       " 'PRIOR MARKET RECORDING DATE'}"
      ]
     },
     "execution_count": 51,
     "metadata": {},
     "output_type": "execute_result"
    }
   ],
   "source": [
    "batoncol-samecol"
   ]
  },
  {
   "cell_type": "code",
   "execution_count": 52,
   "metadata": {},
   "outputs": [
    {
     "data": {
      "text/plain": [
       "{'EQUITY ($)', 'PRIOR MARKET RECORDING DATE'}"
      ]
     },
     "execution_count": 52,
     "metadata": {},
     "output_type": "execute_result"
    }
   ],
   "source": [
    "slidellcol-samecol"
   ]
  },
  {
   "cell_type": "code",
   "execution_count": 53,
   "metadata": {},
   "outputs": [
    {
     "data": {
      "text/plain": [
       "{'EQUITY ($)'}"
      ]
     },
     "execution_count": 53,
     "metadata": {},
     "output_type": "execute_result"
    }
   ],
   "source": [
    "neworlcol-samecol"
   ]
  },
  {
   "cell_type": "code",
   "execution_count": 54,
   "metadata": {},
   "outputs": [
    {
     "data": {
      "text/plain": [
       "{'EQUITY ($)',\n",
       " 'IMPROVED %',\n",
       " 'IMPROVED VALUE',\n",
       " 'LAND VALUE',\n",
       " 'LOT ACREAGE',\n",
       " 'LOT AREA',\n",
       " 'PRIOR MARKET RECORDING DATE',\n",
       " 'TAX RATE AREA',\n",
       " 'TAX REDUCTION',\n",
       " 'TOTAL ASSESSED VALUE'}"
      ]
     },
     "execution_count": 54,
     "metadata": {},
     "output_type": "execute_result"
    }
   ],
   "source": [
    "jeffcol-samecol"
   ]
  },
  {
   "cell_type": "markdown",
   "metadata": {},
   "source": [
    "We see, that we don't have \"EQUITY\" in \"baton\" dataframe and don't have \"PRIOR MARKET RECORDING DATE\" in \"neworl\""
   ]
  },
  {
   "cell_type": "code",
   "execution_count": 55,
   "metadata": {},
   "outputs": [
    {
     "data": {
      "text/plain": [
       "Timedelta('6 days 18:58:12.215568')"
      ]
     },
     "execution_count": 55,
     "metadata": {},
     "output_type": "execute_result"
    }
   ],
   "source": [
    "(baton['PRIOR MARKET RECORDING DATE']-baton['PRIOR MARKET SALE DATE']).mean()"
   ]
  },
  {
   "cell_type": "code",
   "execution_count": 56,
   "metadata": {},
   "outputs": [
    {
     "data": {
      "text/plain": [
       "259"
      ]
     },
     "execution_count": 56,
     "metadata": {},
     "output_type": "execute_result"
    }
   ],
   "source": [
    "baton['PRIOR MARKET RECORDING DATE'].isnull().sum()"
   ]
  },
  {
   "cell_type": "code",
   "execution_count": 57,
   "metadata": {},
   "outputs": [
    {
     "data": {
      "text/plain": [
       "423"
      ]
     },
     "execution_count": 57,
     "metadata": {},
     "output_type": "execute_result"
    }
   ],
   "source": [
    "baton['PRIOR MARKET SALE DATE'].isnull().sum()"
   ]
  },
  {
   "cell_type": "markdown",
   "metadata": {},
   "source": [
    "We sow that MARKET RECORDING DATE and SALE DATE don't differ so match and RECORGING DATE more complete than SALE DATE let's change \"PRIOR MARKET SALE DATE\" column name in neworl dataframe to 'PRIOR MARKET RECORDING DATE' to make our dataframes more similar."
   ]
  },
  {
   "cell_type": "code",
   "execution_count": 58,
   "metadata": {},
   "outputs": [],
   "source": [
    "neworl=neworl.rename(columns={\"PRIOR MARKET SALE DATE\":'PRIOR MARKET RECORDING DATE'})"
   ]
  },
  {
   "cell_type": "markdown",
   "metadata": {},
   "source": [
    "In our dataframes most columns have jeff dataframe. One of the methods, that I want to calculate probabilities is logistic regression that's why delete columns that doesn't contain in \"jeff\". We will understand this step later."
   ]
  },
  {
   "cell_type": "code",
   "execution_count": 59,
   "metadata": {},
   "outputs": [
    {
     "data": {
      "text/plain": [
       "{'COUNTY',\n",
       " 'LAST MARKET RECORDING DATE',\n",
       " 'LAST MARKET SALE DATE',\n",
       " 'LAST MARKET SALE DEED TYPE',\n",
       " 'LAST MARKET SALE PRICE',\n",
       " 'LENGTH OF RESIDENCE',\n",
       " 'PRIOR MARKET RECORDING DATE',\n",
       " 'PRIOR MARKET SALE PRICE',\n",
       " 'PROPERTY ADDRESS',\n",
       " 'PROPERTY CITY',\n",
       " 'PROPERTY STREET NAME SUFFIX',\n",
       " 'PROPERTY TAX AMOUNT',\n",
       " 'PROPERTY TYPE'}"
      ]
     },
     "execution_count": 59,
     "metadata": {},
     "output_type": "execute_result"
    }
   ],
   "source": [
    "set(neworl.columns).intersection(set(baton.columns),set(jeff.columns),set(slidell.columns))"
   ]
  },
  {
   "cell_type": "code",
   "execution_count": 60,
   "metadata": {},
   "outputs": [
    {
     "data": {
      "text/plain": [
       "{'BLDG/LIVING AREA'}"
      ]
     },
     "execution_count": 60,
     "metadata": {},
     "output_type": "execute_result"
    }
   ],
   "source": [
    "batoncol-jeffcol"
   ]
  },
  {
   "cell_type": "code",
   "execution_count": 61,
   "metadata": {},
   "outputs": [],
   "source": [
    "del baton['BLDG/LIVING AREA']"
   ]
  },
  {
   "cell_type": "code",
   "execution_count": 62,
   "metadata": {},
   "outputs": [
    {
     "data": {
      "text/plain": [
       "set()"
      ]
     },
     "execution_count": 62,
     "metadata": {},
     "output_type": "execute_result"
    }
   ],
   "source": [
    "set(baton.columns)-jeffcol"
   ]
  },
  {
   "cell_type": "code",
   "execution_count": 63,
   "metadata": {},
   "outputs": [
    {
     "data": {
      "text/plain": [
       "set()"
      ]
     },
     "execution_count": 63,
     "metadata": {},
     "output_type": "execute_result"
    }
   ],
   "source": [
    "slidellcol-jeffcol"
   ]
  },
  {
   "cell_type": "code",
   "execution_count": 64,
   "metadata": {},
   "outputs": [
    {
     "data": {
      "text/plain": [
       "set()"
      ]
     },
     "execution_count": 64,
     "metadata": {},
     "output_type": "execute_result"
    }
   ],
   "source": [
    "neworlcol-jeffcol"
   ]
  },
  {
   "cell_type": "markdown",
   "metadata": {},
   "source": [
    "Let's delete some useless columns"
   ]
  },
  {
   "cell_type": "code",
   "execution_count": 65,
   "metadata": {},
   "outputs": [],
   "source": [
    "del neworl['LAST MARKET SALE DATE'],baton['LAST MARKET SALE DATE'],jeff['LAST MARKET SALE DATE'],slidell['LAST MARKET SALE DATE']"
   ]
  },
  {
   "cell_type": "code",
   "execution_count": 66,
   "metadata": {},
   "outputs": [],
   "source": [
    "del baton['PRIOR MARKET SALE DATE'],jeff['PRIOR MARKET SALE DATE'],slidell['PRIOR MARKET SALE DATE']"
   ]
  },
  {
   "cell_type": "code",
   "execution_count": 67,
   "metadata": {},
   "outputs": [],
   "source": [
    "del neworl['COUNTY'],baton['COUNTY'],jeff['COUNTY'],slidell['COUNTY']"
   ]
  },
  {
   "cell_type": "code",
   "execution_count": 68,
   "metadata": {},
   "outputs": [],
   "source": [
    "del neworl['PROPERTY CITY'],baton['PROPERTY CITY'],jeff['PROPERTY CITY'],slidell['PROPERTY CITY']"
   ]
  },
  {
   "cell_type": "code",
   "execution_count": 69,
   "metadata": {},
   "outputs": [],
   "source": [
    "del neworl['PROPERTY TYPE'],baton['PROPERTY TYPE'],jeff['PROPERTY TYPE'],slidell['PROPERTY TYPE']"
   ]
  },
  {
   "cell_type": "code",
   "execution_count": 70,
   "metadata": {},
   "outputs": [
    {
     "data": {
      "text/plain": [
       "{'LAST MARKET RECORDING DATE',\n",
       " 'LAST MARKET SALE DEED TYPE',\n",
       " 'LAST MARKET SALE PRICE',\n",
       " 'LENGTH OF RESIDENCE',\n",
       " 'PRIOR MARKET RECORDING DATE',\n",
       " 'PRIOR MARKET SALE PRICE',\n",
       " 'PROPERTY ADDRESS',\n",
       " 'PROPERTY STREET NAME SUFFIX',\n",
       " 'PROPERTY TAX AMOUNT'}"
      ]
     },
     "execution_count": 70,
     "metadata": {},
     "output_type": "execute_result"
    }
   ],
   "source": [
    "set(neworl).intersection(set(baton),set(jeff),set(slidell))"
   ]
  },
  {
   "cell_type": "markdown",
   "metadata": {},
   "source": [
    "Now let's meke dummy variables from 'PROPERTY STREET NAME SUFFIX' and 'LAST MARKET SALE DEED TYPE' columns."
   ]
  },
  {
   "cell_type": "code",
   "execution_count": 71,
   "metadata": {},
   "outputs": [
    {
     "data": {
      "text/plain": [
       "{False, True}"
      ]
     },
     "execution_count": 71,
     "metadata": {},
     "output_type": "execute_result"
    }
   ],
   "source": [
    "set(jeff['PROPERTY STREET NAME SUFFIX'].isnull())"
   ]
  },
  {
   "cell_type": "markdown",
   "metadata": {},
   "source": [
    "I will fill NA values with \"rrrr\" to put it in variable \"other\""
   ]
  },
  {
   "cell_type": "code",
   "execution_count": 72,
   "metadata": {},
   "outputs": [],
   "source": [
    "jeff['PROPERTY STREET NAME SUFFIX'].fillna(\"rrrr\",inplace=True)"
   ]
  },
  {
   "cell_type": "code",
   "execution_count": 73,
   "metadata": {},
   "outputs": [],
   "source": [
    "j=pd.get_dummies(jeff['PROPERTY STREET NAME SUFFIX'])"
   ]
  },
  {
   "cell_type": "code",
   "execution_count": 74,
   "metadata": {},
   "outputs": [
    {
     "data": {
      "text/html": [
       "<div>\n",
       "<style scoped>\n",
       "    .dataframe tbody tr th:only-of-type {\n",
       "        vertical-align: middle;\n",
       "    }\n",
       "\n",
       "    .dataframe tbody tr th {\n",
       "        vertical-align: top;\n",
       "    }\n",
       "\n",
       "    .dataframe thead th {\n",
       "        text-align: right;\n",
       "    }\n",
       "</style>\n",
       "<table border=\"1\" class=\"dataframe\">\n",
       "  <thead>\n",
       "    <tr style=\"text-align: right;\">\n",
       "      <th></th>\n",
       "      <th>Ave</th>\n",
       "      <th>Blvd</th>\n",
       "      <th>Cir</th>\n",
       "      <th>Ct</th>\n",
       "      <th>Dr</th>\n",
       "      <th>Hwy</th>\n",
       "      <th>Ln</th>\n",
       "      <th>Park</th>\n",
       "      <th>Pkwy</th>\n",
       "      <th>Pl</th>\n",
       "      <th>Rd</th>\n",
       "      <th>St</th>\n",
       "      <th>Trce</th>\n",
       "      <th>rrrr</th>\n",
       "    </tr>\n",
       "  </thead>\n",
       "  <tbody>\n",
       "    <tr>\n",
       "      <td>0</td>\n",
       "      <td>0</td>\n",
       "      <td>0</td>\n",
       "      <td>0</td>\n",
       "      <td>0</td>\n",
       "      <td>0</td>\n",
       "      <td>0</td>\n",
       "      <td>0</td>\n",
       "      <td>0</td>\n",
       "      <td>0</td>\n",
       "      <td>0</td>\n",
       "      <td>0</td>\n",
       "      <td>1</td>\n",
       "      <td>0</td>\n",
       "      <td>0</td>\n",
       "    </tr>\n",
       "    <tr>\n",
       "      <td>1</td>\n",
       "      <td>0</td>\n",
       "      <td>0</td>\n",
       "      <td>0</td>\n",
       "      <td>0</td>\n",
       "      <td>0</td>\n",
       "      <td>0</td>\n",
       "      <td>0</td>\n",
       "      <td>0</td>\n",
       "      <td>0</td>\n",
       "      <td>0</td>\n",
       "      <td>0</td>\n",
       "      <td>1</td>\n",
       "      <td>0</td>\n",
       "      <td>0</td>\n",
       "    </tr>\n",
       "    <tr>\n",
       "      <td>2</td>\n",
       "      <td>1</td>\n",
       "      <td>0</td>\n",
       "      <td>0</td>\n",
       "      <td>0</td>\n",
       "      <td>0</td>\n",
       "      <td>0</td>\n",
       "      <td>0</td>\n",
       "      <td>0</td>\n",
       "      <td>0</td>\n",
       "      <td>0</td>\n",
       "      <td>0</td>\n",
       "      <td>0</td>\n",
       "      <td>0</td>\n",
       "      <td>0</td>\n",
       "    </tr>\n",
       "    <tr>\n",
       "      <td>3</td>\n",
       "      <td>0</td>\n",
       "      <td>0</td>\n",
       "      <td>0</td>\n",
       "      <td>0</td>\n",
       "      <td>1</td>\n",
       "      <td>0</td>\n",
       "      <td>0</td>\n",
       "      <td>0</td>\n",
       "      <td>0</td>\n",
       "      <td>0</td>\n",
       "      <td>0</td>\n",
       "      <td>0</td>\n",
       "      <td>0</td>\n",
       "      <td>0</td>\n",
       "    </tr>\n",
       "    <tr>\n",
       "      <td>4</td>\n",
       "      <td>1</td>\n",
       "      <td>0</td>\n",
       "      <td>0</td>\n",
       "      <td>0</td>\n",
       "      <td>0</td>\n",
       "      <td>0</td>\n",
       "      <td>0</td>\n",
       "      <td>0</td>\n",
       "      <td>0</td>\n",
       "      <td>0</td>\n",
       "      <td>0</td>\n",
       "      <td>0</td>\n",
       "      <td>0</td>\n",
       "      <td>0</td>\n",
       "    </tr>\n",
       "    <tr>\n",
       "      <td>...</td>\n",
       "      <td>...</td>\n",
       "      <td>...</td>\n",
       "      <td>...</td>\n",
       "      <td>...</td>\n",
       "      <td>...</td>\n",
       "      <td>...</td>\n",
       "      <td>...</td>\n",
       "      <td>...</td>\n",
       "      <td>...</td>\n",
       "      <td>...</td>\n",
       "      <td>...</td>\n",
       "      <td>...</td>\n",
       "      <td>...</td>\n",
       "      <td>...</td>\n",
       "    </tr>\n",
       "    <tr>\n",
       "      <td>476</td>\n",
       "      <td>0</td>\n",
       "      <td>0</td>\n",
       "      <td>0</td>\n",
       "      <td>0</td>\n",
       "      <td>1</td>\n",
       "      <td>0</td>\n",
       "      <td>0</td>\n",
       "      <td>0</td>\n",
       "      <td>0</td>\n",
       "      <td>0</td>\n",
       "      <td>0</td>\n",
       "      <td>0</td>\n",
       "      <td>0</td>\n",
       "      <td>0</td>\n",
       "    </tr>\n",
       "    <tr>\n",
       "      <td>477</td>\n",
       "      <td>0</td>\n",
       "      <td>0</td>\n",
       "      <td>0</td>\n",
       "      <td>0</td>\n",
       "      <td>1</td>\n",
       "      <td>0</td>\n",
       "      <td>0</td>\n",
       "      <td>0</td>\n",
       "      <td>0</td>\n",
       "      <td>0</td>\n",
       "      <td>0</td>\n",
       "      <td>0</td>\n",
       "      <td>0</td>\n",
       "      <td>0</td>\n",
       "    </tr>\n",
       "    <tr>\n",
       "      <td>478</td>\n",
       "      <td>1</td>\n",
       "      <td>0</td>\n",
       "      <td>0</td>\n",
       "      <td>0</td>\n",
       "      <td>0</td>\n",
       "      <td>0</td>\n",
       "      <td>0</td>\n",
       "      <td>0</td>\n",
       "      <td>0</td>\n",
       "      <td>0</td>\n",
       "      <td>0</td>\n",
       "      <td>0</td>\n",
       "      <td>0</td>\n",
       "      <td>0</td>\n",
       "    </tr>\n",
       "    <tr>\n",
       "      <td>479</td>\n",
       "      <td>1</td>\n",
       "      <td>0</td>\n",
       "      <td>0</td>\n",
       "      <td>0</td>\n",
       "      <td>0</td>\n",
       "      <td>0</td>\n",
       "      <td>0</td>\n",
       "      <td>0</td>\n",
       "      <td>0</td>\n",
       "      <td>0</td>\n",
       "      <td>0</td>\n",
       "      <td>0</td>\n",
       "      <td>0</td>\n",
       "      <td>0</td>\n",
       "    </tr>\n",
       "    <tr>\n",
       "      <td>480</td>\n",
       "      <td>0</td>\n",
       "      <td>0</td>\n",
       "      <td>0</td>\n",
       "      <td>0</td>\n",
       "      <td>1</td>\n",
       "      <td>0</td>\n",
       "      <td>0</td>\n",
       "      <td>0</td>\n",
       "      <td>0</td>\n",
       "      <td>0</td>\n",
       "      <td>0</td>\n",
       "      <td>0</td>\n",
       "      <td>0</td>\n",
       "      <td>0</td>\n",
       "    </tr>\n",
       "  </tbody>\n",
       "</table>\n",
       "<p>481 rows × 14 columns</p>\n",
       "</div>"
      ],
      "text/plain": [
       "     Ave  Blvd  Cir  Ct  Dr  Hwy  Ln  Park  Pkwy  Pl  Rd  St  Trce  rrrr\n",
       "0      0     0    0   0   0    0   0     0     0   0   0   1     0     0\n",
       "1      0     0    0   0   0    0   0     0     0   0   0   1     0     0\n",
       "2      1     0    0   0   0    0   0     0     0   0   0   0     0     0\n",
       "3      0     0    0   0   1    0   0     0     0   0   0   0     0     0\n",
       "4      1     0    0   0   0    0   0     0     0   0   0   0     0     0\n",
       "..   ...   ...  ...  ..  ..  ...  ..   ...   ...  ..  ..  ..   ...   ...\n",
       "476    0     0    0   0   1    0   0     0     0   0   0   0     0     0\n",
       "477    0     0    0   0   1    0   0     0     0   0   0   0     0     0\n",
       "478    1     0    0   0   0    0   0     0     0   0   0   0     0     0\n",
       "479    1     0    0   0   0    0   0     0     0   0   0   0     0     0\n",
       "480    0     0    0   0   1    0   0     0     0   0   0   0     0     0\n",
       "\n",
       "[481 rows x 14 columns]"
      ]
     },
     "execution_count": 74,
     "metadata": {},
     "output_type": "execute_result"
    }
   ],
   "source": [
    "j"
   ]
  },
  {
   "cell_type": "code",
   "execution_count": 75,
   "metadata": {},
   "outputs": [],
   "source": [
    "neworl['PROPERTY STREET NAME SUFFIX'].fillna(\"rrrr\",inplace=True)"
   ]
  },
  {
   "cell_type": "code",
   "execution_count": 76,
   "metadata": {},
   "outputs": [],
   "source": [
    "n=pd.get_dummies(neworl['PROPERTY STREET NAME SUFFIX'])"
   ]
  },
  {
   "cell_type": "code",
   "execution_count": 77,
   "metadata": {},
   "outputs": [],
   "source": [
    "slidell['PROPERTY STREET NAME SUFFIX'].fillna(\"rrrr\",inplace=True)"
   ]
  },
  {
   "cell_type": "code",
   "execution_count": 78,
   "metadata": {},
   "outputs": [],
   "source": [
    "s=pd.get_dummies(slidell['PROPERTY STREET NAME SUFFIX'])"
   ]
  },
  {
   "cell_type": "code",
   "execution_count": 79,
   "metadata": {},
   "outputs": [],
   "source": [
    "baton['PROPERTY STREET NAME SUFFIX'].fillna(\"rrrr\",inplace=True)"
   ]
  },
  {
   "cell_type": "code",
   "execution_count": 80,
   "metadata": {},
   "outputs": [],
   "source": [
    "b=pd.get_dummies(baton['PROPERTY STREET NAME SUFFIX'])"
   ]
  },
  {
   "cell_type": "markdown",
   "metadata": {},
   "source": [
    "To make dataframes similar I do folowing steps."
   ]
  },
  {
   "cell_type": "code",
   "execution_count": 81,
   "metadata": {},
   "outputs": [],
   "source": [
    "oth=set(j).intersection(set(b),set(n),set(s))"
   ]
  },
  {
   "cell_type": "code",
   "execution_count": 82,
   "metadata": {},
   "outputs": [
    {
     "data": {
      "text/plain": [
       "{'Ave', 'Blvd', 'Cir', 'Ct', 'Dr', 'Ln', 'Pl', 'Rd', 'St', 'rrrr'}"
      ]
     },
     "execution_count": 82,
     "metadata": {},
     "output_type": "execute_result"
    }
   ],
   "source": [
    "oth"
   ]
  },
  {
   "cell_type": "code",
   "execution_count": 83,
   "metadata": {},
   "outputs": [
    {
     "data": {
      "text/plain": [
       "{'Crk', 'Ext', 'Hwy', 'Pkwy', 'Walk', 'Way'}"
      ]
     },
     "execution_count": 83,
     "metadata": {},
     "output_type": "execute_result"
    }
   ],
   "source": [
    "set(b.columns)-set(oth)"
   ]
  },
  {
   "cell_type": "code",
   "execution_count": 84,
   "metadata": {},
   "outputs": [],
   "source": [
    "b[\"Other\"]=b[\"Crk\"]+b[\"Ext\"]+b[\"Walk\"]+b[\"Way\"]+b[\"Pkwy\"]+b[\"Hwy\"]+b['rrrr']"
   ]
  },
  {
   "cell_type": "code",
   "execution_count": 85,
   "metadata": {},
   "outputs": [],
   "source": [
    "del b[\"Crk\"],b[\"Ext\"],b[\"Walk\"],b[\"Way\"],b[\"Pkwy\"],b[\"Hwy\"],b['rrrr']"
   ]
  },
  {
   "cell_type": "code",
   "execution_count": 86,
   "metadata": {},
   "outputs": [
    {
     "data": {
      "text/html": [
       "<div>\n",
       "<style scoped>\n",
       "    .dataframe tbody tr th:only-of-type {\n",
       "        vertical-align: middle;\n",
       "    }\n",
       "\n",
       "    .dataframe tbody tr th {\n",
       "        vertical-align: top;\n",
       "    }\n",
       "\n",
       "    .dataframe thead th {\n",
       "        text-align: right;\n",
       "    }\n",
       "</style>\n",
       "<table border=\"1\" class=\"dataframe\">\n",
       "  <thead>\n",
       "    <tr style=\"text-align: right;\">\n",
       "      <th></th>\n",
       "      <th>Ave</th>\n",
       "      <th>Blvd</th>\n",
       "      <th>Cir</th>\n",
       "      <th>Ct</th>\n",
       "      <th>Dr</th>\n",
       "      <th>Ln</th>\n",
       "      <th>Pl</th>\n",
       "      <th>Rd</th>\n",
       "      <th>St</th>\n",
       "      <th>Other</th>\n",
       "    </tr>\n",
       "  </thead>\n",
       "  <tbody>\n",
       "    <tr>\n",
       "      <td>0</td>\n",
       "      <td>1</td>\n",
       "      <td>0</td>\n",
       "      <td>0</td>\n",
       "      <td>0</td>\n",
       "      <td>0</td>\n",
       "      <td>0</td>\n",
       "      <td>0</td>\n",
       "      <td>0</td>\n",
       "      <td>0</td>\n",
       "      <td>0</td>\n",
       "    </tr>\n",
       "    <tr>\n",
       "      <td>1</td>\n",
       "      <td>0</td>\n",
       "      <td>0</td>\n",
       "      <td>0</td>\n",
       "      <td>0</td>\n",
       "      <td>1</td>\n",
       "      <td>0</td>\n",
       "      <td>0</td>\n",
       "      <td>0</td>\n",
       "      <td>0</td>\n",
       "      <td>0</td>\n",
       "    </tr>\n",
       "    <tr>\n",
       "      <td>2</td>\n",
       "      <td>0</td>\n",
       "      <td>0</td>\n",
       "      <td>0</td>\n",
       "      <td>0</td>\n",
       "      <td>0</td>\n",
       "      <td>0</td>\n",
       "      <td>0</td>\n",
       "      <td>1</td>\n",
       "      <td>0</td>\n",
       "      <td>0</td>\n",
       "    </tr>\n",
       "    <tr>\n",
       "      <td>3</td>\n",
       "      <td>0</td>\n",
       "      <td>0</td>\n",
       "      <td>0</td>\n",
       "      <td>0</td>\n",
       "      <td>0</td>\n",
       "      <td>0</td>\n",
       "      <td>0</td>\n",
       "      <td>1</td>\n",
       "      <td>0</td>\n",
       "      <td>0</td>\n",
       "    </tr>\n",
       "    <tr>\n",
       "      <td>4</td>\n",
       "      <td>0</td>\n",
       "      <td>0</td>\n",
       "      <td>0</td>\n",
       "      <td>0</td>\n",
       "      <td>1</td>\n",
       "      <td>0</td>\n",
       "      <td>0</td>\n",
       "      <td>0</td>\n",
       "      <td>0</td>\n",
       "      <td>0</td>\n",
       "    </tr>\n",
       "    <tr>\n",
       "      <td>...</td>\n",
       "      <td>...</td>\n",
       "      <td>...</td>\n",
       "      <td>...</td>\n",
       "      <td>...</td>\n",
       "      <td>...</td>\n",
       "      <td>...</td>\n",
       "      <td>...</td>\n",
       "      <td>...</td>\n",
       "      <td>...</td>\n",
       "      <td>...</td>\n",
       "    </tr>\n",
       "    <tr>\n",
       "      <td>936</td>\n",
       "      <td>0</td>\n",
       "      <td>0</td>\n",
       "      <td>0</td>\n",
       "      <td>0</td>\n",
       "      <td>1</td>\n",
       "      <td>0</td>\n",
       "      <td>0</td>\n",
       "      <td>0</td>\n",
       "      <td>0</td>\n",
       "      <td>0</td>\n",
       "    </tr>\n",
       "    <tr>\n",
       "      <td>937</td>\n",
       "      <td>0</td>\n",
       "      <td>0</td>\n",
       "      <td>0</td>\n",
       "      <td>0</td>\n",
       "      <td>0</td>\n",
       "      <td>0</td>\n",
       "      <td>0</td>\n",
       "      <td>1</td>\n",
       "      <td>0</td>\n",
       "      <td>0</td>\n",
       "    </tr>\n",
       "    <tr>\n",
       "      <td>938</td>\n",
       "      <td>1</td>\n",
       "      <td>0</td>\n",
       "      <td>0</td>\n",
       "      <td>0</td>\n",
       "      <td>0</td>\n",
       "      <td>0</td>\n",
       "      <td>0</td>\n",
       "      <td>0</td>\n",
       "      <td>0</td>\n",
       "      <td>0</td>\n",
       "    </tr>\n",
       "    <tr>\n",
       "      <td>939</td>\n",
       "      <td>0</td>\n",
       "      <td>1</td>\n",
       "      <td>0</td>\n",
       "      <td>0</td>\n",
       "      <td>0</td>\n",
       "      <td>0</td>\n",
       "      <td>0</td>\n",
       "      <td>0</td>\n",
       "      <td>0</td>\n",
       "      <td>0</td>\n",
       "    </tr>\n",
       "    <tr>\n",
       "      <td>940</td>\n",
       "      <td>1</td>\n",
       "      <td>0</td>\n",
       "      <td>0</td>\n",
       "      <td>0</td>\n",
       "      <td>0</td>\n",
       "      <td>0</td>\n",
       "      <td>0</td>\n",
       "      <td>0</td>\n",
       "      <td>0</td>\n",
       "      <td>0</td>\n",
       "    </tr>\n",
       "  </tbody>\n",
       "</table>\n",
       "<p>941 rows × 10 columns</p>\n",
       "</div>"
      ],
      "text/plain": [
       "     Ave  Blvd  Cir  Ct  Dr  Ln  Pl  Rd  St  Other\n",
       "0      1     0    0   0   0   0   0   0   0      0\n",
       "1      0     0    0   0   1   0   0   0   0      0\n",
       "2      0     0    0   0   0   0   0   1   0      0\n",
       "3      0     0    0   0   0   0   0   1   0      0\n",
       "4      0     0    0   0   1   0   0   0   0      0\n",
       "..   ...   ...  ...  ..  ..  ..  ..  ..  ..    ...\n",
       "936    0     0    0   0   1   0   0   0   0      0\n",
       "937    0     0    0   0   0   0   0   1   0      0\n",
       "938    1     0    0   0   0   0   0   0   0      0\n",
       "939    0     1    0   0   0   0   0   0   0      0\n",
       "940    1     0    0   0   0   0   0   0   0      0\n",
       "\n",
       "[941 rows x 10 columns]"
      ]
     },
     "execution_count": 86,
     "metadata": {},
     "output_type": "execute_result"
    }
   ],
   "source": [
    "b"
   ]
  },
  {
   "cell_type": "code",
   "execution_count": 87,
   "metadata": {},
   "outputs": [
    {
     "data": {
      "text/plain": [
       "{'Hwy', 'Park', 'Pkwy', 'Trce'}"
      ]
     },
     "execution_count": 87,
     "metadata": {},
     "output_type": "execute_result"
    }
   ],
   "source": [
    "set(j.columns)-set(oth)"
   ]
  },
  {
   "cell_type": "code",
   "execution_count": 88,
   "metadata": {},
   "outputs": [],
   "source": [
    "j[\"Other\"]=j[\"Trce\"]+j[\"Park\"]+j[\"Pkwy\"]+j[\"Hwy\"]+j['rrrr']"
   ]
  },
  {
   "cell_type": "code",
   "execution_count": 89,
   "metadata": {},
   "outputs": [],
   "source": [
    "del j[\"Trce\"],j[\"Park\"],j[\"Pkwy\"],j[\"Hwy\"],j['rrrr']"
   ]
  },
  {
   "cell_type": "code",
   "execution_count": 90,
   "metadata": {},
   "outputs": [
    {
     "data": {
      "text/plain": [
       "{'Cv', 'Loop', 'Row', 'Sq', 'Trl'}"
      ]
     },
     "execution_count": 90,
     "metadata": {},
     "output_type": "execute_result"
    }
   ],
   "source": [
    "set(s.columns)-set(oth)"
   ]
  },
  {
   "cell_type": "code",
   "execution_count": 91,
   "metadata": {},
   "outputs": [],
   "source": [
    "s[\"Other\"]=s[\"Cv\"]+s[\"Loop\"]+s[\"Row\"]+s[\"Sq\"]+s[\"Trl\"]+s['rrrr']"
   ]
  },
  {
   "cell_type": "code",
   "execution_count": 92,
   "metadata": {},
   "outputs": [],
   "source": [
    "del s[\"Cv\"],s[\"Loop\"],s[\"Row\"],s[\"Sq\"],s[\"Trl\"],s['rrrr']"
   ]
  },
  {
   "cell_type": "code",
   "execution_count": 93,
   "metadata": {},
   "outputs": [
    {
     "data": {
      "text/plain": [
       "{'Hwy', 'Ter', 'Trce'}"
      ]
     },
     "execution_count": 93,
     "metadata": {},
     "output_type": "execute_result"
    }
   ],
   "source": [
    "set(n.columns)-set(oth)"
   ]
  },
  {
   "cell_type": "code",
   "execution_count": 94,
   "metadata": {},
   "outputs": [],
   "source": [
    "n[\"Other\"]=n[\"Ter\"]+n[\"Hwy\"]+n[\"Trce\"]+n['rrrr']"
   ]
  },
  {
   "cell_type": "code",
   "execution_count": 95,
   "metadata": {},
   "outputs": [],
   "source": [
    "del n[\"Ter\"],n[\"Hwy\"],n[\"Trce\"],n['rrrr']"
   ]
  },
  {
   "cell_type": "code",
   "execution_count": 96,
   "metadata": {},
   "outputs": [
    {
     "name": "stdout",
     "output_type": "stream",
     "text": [
      "{False}\n",
      "{False}\n",
      "{False}\n",
      "{False}\n"
     ]
    }
   ],
   "source": [
    "print(set(jeff['LAST MARKET SALE DEED TYPE'].isnull()))\n",
    "print(set(neworl['LAST MARKET SALE DEED TYPE'].isnull()))\n",
    "print(set(baton['LAST MARKET SALE DEED TYPE'].isnull()))\n",
    "print(set(slidell['LAST MARKET SALE DEED TYPE'].isnull()))"
   ]
  },
  {
   "cell_type": "code",
   "execution_count": 97,
   "metadata": {},
   "outputs": [],
   "source": [
    "j1=pd.get_dummies(jeff['LAST MARKET SALE DEED TYPE'])\n"
   ]
  },
  {
   "cell_type": "code",
   "execution_count": 98,
   "metadata": {},
   "outputs": [],
   "source": [
    "n1=pd.get_dummies(neworl['LAST MARKET SALE DEED TYPE'])"
   ]
  },
  {
   "cell_type": "code",
   "execution_count": 99,
   "metadata": {},
   "outputs": [],
   "source": [
    "b1=pd.get_dummies(baton['LAST MARKET SALE DEED TYPE'])\n"
   ]
  },
  {
   "cell_type": "code",
   "execution_count": 100,
   "metadata": {},
   "outputs": [],
   "source": [
    "s1=pd.get_dummies(slidell['LAST MARKET SALE DEED TYPE'])\n"
   ]
  },
  {
   "cell_type": "code",
   "execution_count": 101,
   "metadata": {},
   "outputs": [],
   "source": [
    "ot=set(j1).intersection(set(b1),set(n1),set(s1))\n"
   ]
  },
  {
   "cell_type": "code",
   "execution_count": 102,
   "metadata": {},
   "outputs": [
    {
     "data": {
      "text/plain": [
       "{'Contract Of Sale', 'Deed Of Assumption', 'Gift Deed', 'Warranty Deed'}"
      ]
     },
     "execution_count": 102,
     "metadata": {},
     "output_type": "execute_result"
    }
   ],
   "source": [
    "set(b1.columns)-set(ot)"
   ]
  },
  {
   "cell_type": "code",
   "execution_count": 103,
   "metadata": {},
   "outputs": [],
   "source": [
    "b1[\"OTHER1\"]=b1['Contract Of Sale']+b1['Deed Of Assumption']+b1['Gift Deed']+b1['Warranty Deed']"
   ]
  },
  {
   "cell_type": "code",
   "execution_count": 104,
   "metadata": {},
   "outputs": [],
   "source": [
    "del b1['Contract Of Sale'],b1['Deed Of Assumption'],b1['Gift Deed'],b1['Warranty Deed']"
   ]
  },
  {
   "cell_type": "code",
   "execution_count": 105,
   "metadata": {},
   "outputs": [
    {
     "data": {
      "text/plain": [
       "{'Contract Of Sale', \"Sheriff's Deed\"}"
      ]
     },
     "execution_count": 105,
     "metadata": {},
     "output_type": "execute_result"
    }
   ],
   "source": [
    "set(s1.columns)-set(ot)"
   ]
  },
  {
   "cell_type": "code",
   "execution_count": 106,
   "metadata": {},
   "outputs": [],
   "source": [
    "\n",
    "s1[\"OTHER1\"]=s1['Contract Of Sale']+s1[\"Sheriff's Deed\"]"
   ]
  },
  {
   "cell_type": "code",
   "execution_count": 107,
   "metadata": {},
   "outputs": [],
   "source": [
    "del s1['Contract Of Sale'],s1[\"Sheriff's Deed\"]"
   ]
  },
  {
   "cell_type": "code",
   "execution_count": 108,
   "metadata": {},
   "outputs": [
    {
     "data": {
      "text/plain": [
       "{'Foreclosure Deed', 'Gift Deed', \"Sheriff's Deed\", 'Warranty Deed'}"
      ]
     },
     "execution_count": 108,
     "metadata": {},
     "output_type": "execute_result"
    }
   ],
   "source": [
    "set(n1.columns)-set(ot)"
   ]
  },
  {
   "cell_type": "code",
   "execution_count": 109,
   "metadata": {},
   "outputs": [],
   "source": [
    "n1[\"OTHER1\"]=n1[\"Sheriff's Deed\"]+n1['Foreclosure Deed']+n1['Gift Deed']+n1['Warranty Deed']"
   ]
  },
  {
   "cell_type": "code",
   "execution_count": 110,
   "metadata": {},
   "outputs": [],
   "source": [
    "del n1[\"Sheriff's Deed\"],n1['Foreclosure Deed'],n1['Gift Deed'],n1['Warranty Deed']"
   ]
  },
  {
   "cell_type": "code",
   "execution_count": 111,
   "metadata": {},
   "outputs": [
    {
     "data": {
      "text/plain": [
       "{'Deed Of Assumption'}"
      ]
     },
     "execution_count": 111,
     "metadata": {},
     "output_type": "execute_result"
    }
   ],
   "source": [
    "set(j1.columns)-set(ot)"
   ]
  },
  {
   "cell_type": "code",
   "execution_count": 112,
   "metadata": {},
   "outputs": [],
   "source": [
    "j1[\"OTHER1\"]=j1['Deed Of Assumption']"
   ]
  },
  {
   "cell_type": "code",
   "execution_count": 113,
   "metadata": {},
   "outputs": [],
   "source": [
    "del j1['Deed Of Assumption']"
   ]
  },
  {
   "cell_type": "code",
   "execution_count": 114,
   "metadata": {},
   "outputs": [],
   "source": [
    "del jeff['PROPERTY STREET NAME SUFFIX'],neworl['PROPERTY STREET NAME SUFFIX'],slidell['PROPERTY STREET NAME SUFFIX'],baton['PROPERTY STREET NAME SUFFIX']"
   ]
  },
  {
   "cell_type": "code",
   "execution_count": 115,
   "metadata": {},
   "outputs": [],
   "source": [
    "del jeff['LAST MARKET SALE DEED TYPE'],neworl['LAST MARKET SALE DEED TYPE'],slidell['LAST MARKET SALE DEED TYPE'],baton['LAST MARKET SALE DEED TYPE']"
   ]
  },
  {
   "cell_type": "code",
   "execution_count": 116,
   "metadata": {},
   "outputs": [],
   "source": [
    "del jeff['TAX RATE AREA']"
   ]
  },
  {
   "cell_type": "markdown",
   "metadata": {},
   "source": [
    "For evary equity let's calculate how many mounths prior resident owned it. And let's fill NA values with median."
   ]
  },
  {
   "cell_type": "code",
   "execution_count": 117,
   "metadata": {},
   "outputs": [],
   "source": [
    "jeff[\"PRIOR LENGTH OF RESIDENCE\"]=(jeff[\"LAST MARKET RECORDING DATE\"]-jeff[\"PRIOR MARKET RECORDING DATE\"])/np.timedelta64(1, 'M')"
   ]
  },
  {
   "cell_type": "code",
   "execution_count": 118,
   "metadata": {},
   "outputs": [
    {
     "data": {
      "text/plain": [
       "{False, True}"
      ]
     },
     "execution_count": 118,
     "metadata": {},
     "output_type": "execute_result"
    }
   ],
   "source": [
    "set(jeff[\"PRIOR LENGTH OF RESIDENCE\"].isnull())"
   ]
  },
  {
   "cell_type": "code",
   "execution_count": 119,
   "metadata": {},
   "outputs": [],
   "source": [
    "jeff[\"PRIOR LENGTH OF RESIDENCE\"].fillna(jeff[\"PRIOR LENGTH OF RESIDENCE\"].median(),inplace=True)"
   ]
  },
  {
   "cell_type": "code",
   "execution_count": 120,
   "metadata": {},
   "outputs": [],
   "source": [
    "jeff[\"PRIOR LENGTH OF RESIDENCE\"]=jeff[\"PRIOR LENGTH OF RESIDENCE\"].astype(int)"
   ]
  },
  {
   "cell_type": "code",
   "execution_count": 121,
   "metadata": {},
   "outputs": [
    {
     "data": {
      "text/plain": [
       "{False}"
      ]
     },
     "execution_count": 121,
     "metadata": {},
     "output_type": "execute_result"
    }
   ],
   "source": [
    "set(jeff[\"PRIOR LENGTH OF RESIDENCE\"].isnull())"
   ]
  },
  {
   "cell_type": "code",
   "execution_count": 122,
   "metadata": {},
   "outputs": [],
   "source": [
    "del jeff[\"LAST MARKET RECORDING DATE\"],jeff[\"PRIOR MARKET RECORDING DATE\"]"
   ]
  },
  {
   "cell_type": "markdown",
   "metadata": {},
   "source": [
    "And all NAs let's fill with mean."
   ]
  },
  {
   "cell_type": "code",
   "execution_count": 123,
   "metadata": {},
   "outputs": [],
   "source": [
    "jeff.fillna(jeff.mean(),inplace=True)\n"
   ]
  },
  {
   "cell_type": "code",
   "execution_count": 124,
   "metadata": {},
   "outputs": [
    {
     "data": {
      "text/plain": [
       "PROPERTY ADDRESS             0\n",
       "EQUITY ($)                   0\n",
       "IMPROVED %                   0\n",
       "IMPROVED VALUE               0\n",
       "LAND VALUE                   0\n",
       "LAST MARKET SALE PRICE       0\n",
       "LOT AREA                     0\n",
       "LOT ACREAGE                  0\n",
       "PRIOR MARKET SALE PRICE      0\n",
       "PROPERTY TAX AMOUNT          0\n",
       "TAX REDUCTION                0\n",
       "TOTAL ASSESSED VALUE         0\n",
       "LENGTH OF RESIDENCE          0\n",
       "PRIOR LENGTH OF RESIDENCE    0\n",
       "dtype: int64"
      ]
     },
     "execution_count": 124,
     "metadata": {},
     "output_type": "execute_result"
    }
   ],
   "source": [
    "jeff.isnull().sum()"
   ]
  },
  {
   "cell_type": "code",
   "execution_count": 125,
   "metadata": {},
   "outputs": [],
   "source": [
    "baton[\"PRIOR LENGTH OF RESIDENCE\"]=(baton[\"LAST MARKET RECORDING DATE\"]-baton[\"PRIOR MARKET RECORDING DATE\"])/np.timedelta64(1, 'M')"
   ]
  },
  {
   "cell_type": "code",
   "execution_count": 126,
   "metadata": {},
   "outputs": [
    {
     "data": {
      "text/plain": [
       "{False, True}"
      ]
     },
     "execution_count": 126,
     "metadata": {},
     "output_type": "execute_result"
    }
   ],
   "source": [
    "set(baton[\"PRIOR LENGTH OF RESIDENCE\"].isnull())"
   ]
  },
  {
   "cell_type": "code",
   "execution_count": 127,
   "metadata": {},
   "outputs": [],
   "source": [
    "baton[\"PRIOR LENGTH OF RESIDENCE\"].fillna(baton[\"PRIOR LENGTH OF RESIDENCE\"].median(),inplace=True)"
   ]
  },
  {
   "cell_type": "code",
   "execution_count": 128,
   "metadata": {},
   "outputs": [],
   "source": [
    "baton[\"PRIOR LENGTH OF RESIDENCE\"]=baton[\"PRIOR LENGTH OF RESIDENCE\"].astype(int)"
   ]
  },
  {
   "cell_type": "code",
   "execution_count": 129,
   "metadata": {},
   "outputs": [],
   "source": [
    "del baton[\"LAST MARKET RECORDING DATE\"],baton[\"PRIOR MARKET RECORDING DATE\"]"
   ]
  },
  {
   "cell_type": "code",
   "execution_count": 130,
   "metadata": {},
   "outputs": [],
   "source": [
    "baton.fillna(baton.mean(),inplace=True)"
   ]
  },
  {
   "cell_type": "code",
   "execution_count": 131,
   "metadata": {},
   "outputs": [
    {
     "data": {
      "text/plain": [
       "PROPERTY ADDRESS             0\n",
       "PRIOR MARKET SALE PRICE      0\n",
       "PROPERTY TAX AMOUNT          0\n",
       "LAND VALUE                   0\n",
       "LAST MARKET SALE PRICE       0\n",
       "LOT AREA                     0\n",
       "LOT ACREAGE                  0\n",
       "LENGTH OF RESIDENCE          0\n",
       "PRIOR LENGTH OF RESIDENCE    0\n",
       "dtype: int64"
      ]
     },
     "execution_count": 131,
     "metadata": {},
     "output_type": "execute_result"
    }
   ],
   "source": [
    "baton.isnull().sum()"
   ]
  },
  {
   "cell_type": "code",
   "execution_count": 132,
   "metadata": {},
   "outputs": [],
   "source": [
    "slidell[\"PRIOR LENGTH OF RESIDENCE\"]=(slidell[\"LAST MARKET RECORDING DATE\"]-slidell[\"PRIOR MARKET RECORDING DATE\"])/np.timedelta64(1, 'M')"
   ]
  },
  {
   "cell_type": "code",
   "execution_count": 133,
   "metadata": {},
   "outputs": [
    {
     "data": {
      "text/plain": [
       "{False, True}"
      ]
     },
     "execution_count": 133,
     "metadata": {},
     "output_type": "execute_result"
    }
   ],
   "source": [
    "set(slidell[\"PRIOR LENGTH OF RESIDENCE\"].isnull())"
   ]
  },
  {
   "cell_type": "code",
   "execution_count": 134,
   "metadata": {},
   "outputs": [],
   "source": [
    "slidell[\"PRIOR LENGTH OF RESIDENCE\"].fillna(slidell[\"PRIOR LENGTH OF RESIDENCE\"].median(),inplace=True)"
   ]
  },
  {
   "cell_type": "code",
   "execution_count": 135,
   "metadata": {},
   "outputs": [],
   "source": [
    "slidell[\"PRIOR LENGTH OF RESIDENCE\"]=slidell[\"PRIOR LENGTH OF RESIDENCE\"].astype(int)"
   ]
  },
  {
   "cell_type": "code",
   "execution_count": 136,
   "metadata": {},
   "outputs": [],
   "source": [
    "del slidell[\"LAST MARKET RECORDING DATE\"],slidell[\"PRIOR MARKET RECORDING DATE\"]"
   ]
  },
  {
   "cell_type": "code",
   "execution_count": 137,
   "metadata": {},
   "outputs": [],
   "source": [
    "slidell.fillna(baton.mean(),inplace=True)"
   ]
  },
  {
   "cell_type": "code",
   "execution_count": 138,
   "metadata": {},
   "outputs": [
    {
     "data": {
      "text/plain": [
       "PROPERTY ADDRESS             0\n",
       "EQUITY ($)                   0\n",
       "LAST MARKET SALE PRICE       0\n",
       "PRIOR MARKET SALE PRICE      0\n",
       "PROPERTY TAX AMOUNT          0\n",
       "LENGTH OF RESIDENCE          0\n",
       "PRIOR LENGTH OF RESIDENCE    0\n",
       "dtype: int64"
      ]
     },
     "execution_count": 138,
     "metadata": {},
     "output_type": "execute_result"
    }
   ],
   "source": [
    "slidell.isnull().sum()"
   ]
  },
  {
   "cell_type": "code",
   "execution_count": 139,
   "metadata": {},
   "outputs": [],
   "source": [
    "neworl[\"PRIOR LENGTH OF RESIDENCE\"]=(neworl[\"LAST MARKET RECORDING DATE\"]-neworl[\"PRIOR MARKET RECORDING DATE\"])/np.timedelta64(1, 'M')"
   ]
  },
  {
   "cell_type": "code",
   "execution_count": 140,
   "metadata": {},
   "outputs": [
    {
     "data": {
      "text/plain": [
       "{False, True}"
      ]
     },
     "execution_count": 140,
     "metadata": {},
     "output_type": "execute_result"
    }
   ],
   "source": [
    "set(neworl[\"PRIOR LENGTH OF RESIDENCE\"].isnull())"
   ]
  },
  {
   "cell_type": "code",
   "execution_count": 141,
   "metadata": {},
   "outputs": [],
   "source": [
    "neworl[\"PRIOR LENGTH OF RESIDENCE\"].fillna(neworl[\"PRIOR LENGTH OF RESIDENCE\"].median(),inplace=True)"
   ]
  },
  {
   "cell_type": "code",
   "execution_count": 142,
   "metadata": {},
   "outputs": [],
   "source": [
    "neworl[\"PRIOR LENGTH OF RESIDENCE\"]=neworl[\"PRIOR LENGTH OF RESIDENCE\"].astype(int)"
   ]
  },
  {
   "cell_type": "code",
   "execution_count": 143,
   "metadata": {},
   "outputs": [],
   "source": [
    "del neworl[\"LAST MARKET RECORDING DATE\"],neworl[\"PRIOR MARKET RECORDING DATE\"]"
   ]
  },
  {
   "cell_type": "code",
   "execution_count": 144,
   "metadata": {},
   "outputs": [],
   "source": [
    "neworl.fillna(baton.mean(),inplace=True)"
   ]
  },
  {
   "cell_type": "code",
   "execution_count": 145,
   "metadata": {},
   "outputs": [
    {
     "data": {
      "text/plain": [
       "PROPERTY ADDRESS             0\n",
       "EQUITY ($)                   0\n",
       "LAST MARKET SALE PRICE       0\n",
       "PRIOR MARKET SALE PRICE      0\n",
       "PROPERTY TAX AMOUNT          0\n",
       "LENGTH OF RESIDENCE          0\n",
       "PRIOR LENGTH OF RESIDENCE    0\n",
       "dtype: int64"
      ]
     },
     "execution_count": 145,
     "metadata": {},
     "output_type": "execute_result"
    }
   ],
   "source": [
    "neworl.isnull().sum()"
   ]
  },
  {
   "cell_type": "markdown",
   "metadata": {},
   "source": [
    "Now I arrange columns by same oreder in three dataframes and attach unique values."
   ]
  },
  {
   "cell_type": "code",
   "execution_count": 146,
   "metadata": {},
   "outputs": [],
   "source": [
    "t=set(jeff.columns).intersection(set(neworl.columns), set(baton.columns), set(slidell.columns))\n",
    "h=list(t)"
   ]
  },
  {
   "cell_type": "code",
   "execution_count": 147,
   "metadata": {},
   "outputs": [
    {
     "data": {
      "text/plain": [
       "{'EQUITY ($)'}"
      ]
     },
     "execution_count": 147,
     "metadata": {},
     "output_type": "execute_result"
    }
   ],
   "source": [
    "set(neworl.columns)-t"
   ]
  },
  {
   "cell_type": "code",
   "execution_count": 148,
   "metadata": {},
   "outputs": [
    {
     "data": {
      "text/plain": [
       "{'LAND VALUE', 'LOT ACREAGE', 'LOT AREA'}"
      ]
     },
     "execution_count": 148,
     "metadata": {},
     "output_type": "execute_result"
    }
   ],
   "source": [
    "set(baton.columns)-t"
   ]
  },
  {
   "cell_type": "code",
   "execution_count": 149,
   "metadata": {},
   "outputs": [
    {
     "data": {
      "text/plain": [
       "{'EQUITY ($)'}"
      ]
     },
     "execution_count": 149,
     "metadata": {},
     "output_type": "execute_result"
    }
   ],
   "source": [
    "set(slidell.columns)-t"
   ]
  },
  {
   "cell_type": "code",
   "execution_count": 150,
   "metadata": {},
   "outputs": [],
   "source": [
    "jeff=jeff[h+list(set(jeff.columns)-t)]"
   ]
  },
  {
   "cell_type": "code",
   "execution_count": 151,
   "metadata": {},
   "outputs": [],
   "source": [
    "baton=baton[h+list(set(set(baton.columns)-t))]"
   ]
  },
  {
   "cell_type": "code",
   "execution_count": 152,
   "metadata": {},
   "outputs": [],
   "source": [
    "neworl=neworl[h+list(set(neworl.columns)-t)]"
   ]
  },
  {
   "cell_type": "code",
   "execution_count": 153,
   "metadata": {},
   "outputs": [],
   "source": [
    "slidell=slidell[h+list(set(slidell.columns)-t)]"
   ]
  },
  {
   "cell_type": "markdown",
   "metadata": {},
   "source": [
    "Thare are 0 values in dataframes insted of NA, I also fill them with mean."
   ]
  },
  {
   "cell_type": "code",
   "execution_count": 154,
   "metadata": {},
   "outputs": [],
   "source": [
    "neworl['LENGTH OF RESIDENCE'].replace(to_replace=0, value=neworl['LENGTH OF RESIDENCE'].mean(),inplace=True)\n",
    "neworl['PRIOR MARKET SALE PRICE'].replace(to_replace=0, value=neworl['PRIOR MARKET SALE PRICE'].mean(),inplace=True)\n",
    "neworl['PRIOR LENGTH OF RESIDENCE'].replace(to_replace=0, value=neworl['PRIOR LENGTH OF RESIDENCE'].mean(),inplace=True)\n",
    "neworl['LAST MARKET SALE PRICE'].replace(to_replace=0, value=neworl['LAST MARKET SALE PRICE'].mean(),inplace=True)\n",
    "neworl['EQUITY ($)'].replace(to_replace=0, value=neworl['EQUITY ($)'].mean(),inplace=True)"
   ]
  },
  {
   "cell_type": "code",
   "execution_count": 155,
   "metadata": {},
   "outputs": [],
   "source": [
    "baton['LENGTH OF RESIDENCE'].replace(to_replace=0, value=baton['LENGTH OF RESIDENCE'].mean(),inplace=True)\n",
    "baton['PRIOR MARKET SALE PRICE'].replace(to_replace=0, value=baton['PRIOR MARKET SALE PRICE'].mean(),inplace=True)\n",
    "baton['PRIOR LENGTH OF RESIDENCE'].replace(to_replace=0, value=baton['PRIOR LENGTH OF RESIDENCE'].mean(),inplace=True)\n",
    "baton['LAST MARKET SALE PRICE'].replace(to_replace=0, value=baton['LAST MARKET SALE PRICE'].mean(),inplace=True)\n",
    "baton['LAND VALUE'].replace(to_replace=0, value=baton['LAND VALUE'].mean(),inplace=True)"
   ]
  },
  {
   "cell_type": "code",
   "execution_count": 156,
   "metadata": {},
   "outputs": [],
   "source": [
    "slidell['LENGTH OF RESIDENCE'].replace(to_replace=0, value=slidell['LENGTH OF RESIDENCE'].mean(),inplace=True)\n",
    "slidell['PRIOR MARKET SALE PRICE'].replace(to_replace=0, value=slidell['PRIOR MARKET SALE PRICE'].mean(),inplace=True)\n",
    "slidell['PRIOR LENGTH OF RESIDENCE'].replace(to_replace=0, value=slidell['PRIOR LENGTH OF RESIDENCE'].mean(),inplace=True)\n",
    "slidell['LAST MARKET SALE PRICE'].replace(to_replace=0, value=slidell['LAST MARKET SALE PRICE'].mean(),inplace=True)\n",
    "slidell['EQUITY ($)'].replace(to_replace=0, value=slidell['EQUITY ($)'].mean(),inplace=True)"
   ]
  },
  {
   "cell_type": "code",
   "execution_count": 157,
   "metadata": {},
   "outputs": [],
   "source": [
    "jeff['LENGTH OF RESIDENCE'].replace(to_replace=0, value=jeff['LENGTH OF RESIDENCE'].mean(),inplace=True)\n",
    "jeff['PRIOR MARKET SALE PRICE'].replace(to_replace=0, value=jeff['PRIOR MARKET SALE PRICE'].mean(),inplace=True)\n",
    "jeff['PRIOR LENGTH OF RESIDENCE'].replace(to_replace=0, value=jeff['PRIOR LENGTH OF RESIDENCE'].mean(),inplace=True)\n",
    "jeff['LAST MARKET SALE PRICE'].replace(to_replace=0, value=jeff['LAST MARKET SALE PRICE'].mean(),inplace=True)\n",
    "jeff['EQUITY ($)'].replace(to_replace=0, value=jeff['EQUITY ($)'].mean(),inplace=True)\n",
    "jeff['TOTAL ASSESSED VALUE'].replace(to_replace=0, value=jeff['TOTAL ASSESSED VALUE'].mean(),inplace=True)\n",
    "jeff['LAND VALUE'].replace(to_replace=0, value=jeff['LAND VALUE'].mean(),inplace=True)"
   ]
  },
  {
   "cell_type": "markdown",
   "metadata": {},
   "source": [
    "I set 'PROPERTY ADDRESS' as a index of dataframes."
   ]
  },
  {
   "cell_type": "code",
   "execution_count": 158,
   "metadata": {},
   "outputs": [],
   "source": [
    "jeff.set_index('PROPERTY ADDRESS',inplace=True)\n",
    "slidell.set_index('PROPERTY ADDRESS',inplace=True)\n",
    "neworl.set_index('PROPERTY ADDRESS',inplace=True)\n",
    "baton.set_index('PROPERTY ADDRESS',inplace=True)"
   ]
  },
  {
   "cell_type": "markdown",
   "metadata": {},
   "source": [
    "Now I have clear data and it is time to apply models on this data."
   ]
  },
  {
   "cell_type": "markdown",
   "metadata": {},
   "source": [
    "First model I want to try is \"Gaussian Mixture Model\", this algorithm will give me probabilities ang labels simultaneously."
   ]
  },
  {
   "cell_type": "code",
   "execution_count": 159,
   "metadata": {},
   "outputs": [
    {
     "data": {
      "text/html": [
       "<div>\n",
       "<style scoped>\n",
       "    .dataframe tbody tr th:only-of-type {\n",
       "        vertical-align: middle;\n",
       "    }\n",
       "\n",
       "    .dataframe tbody tr th {\n",
       "        vertical-align: top;\n",
       "    }\n",
       "\n",
       "    .dataframe thead th {\n",
       "        text-align: right;\n",
       "    }\n",
       "</style>\n",
       "<table border=\"1\" class=\"dataframe\">\n",
       "  <thead>\n",
       "    <tr style=\"text-align: right;\">\n",
       "      <th></th>\n",
       "      <th>PROPERTY TAX AMOUNT</th>\n",
       "      <th>PRIOR LENGTH OF RESIDENCE</th>\n",
       "      <th>LAST MARKET SALE PRICE</th>\n",
       "      <th>PRIOR MARKET SALE PRICE</th>\n",
       "      <th>LENGTH OF RESIDENCE</th>\n",
       "      <th>LOT AREA</th>\n",
       "      <th>EQUITY ($)</th>\n",
       "      <th>IMPROVED %</th>\n",
       "      <th>LAND VALUE</th>\n",
       "      <th>TAX REDUCTION</th>\n",
       "      <th>IMPROVED VALUE</th>\n",
       "      <th>TOTAL ASSESSED VALUE</th>\n",
       "      <th>LOT ACREAGE</th>\n",
       "    </tr>\n",
       "  </thead>\n",
       "  <tbody>\n",
       "    <tr>\n",
       "      <td>PROPERTY TAX AMOUNT</td>\n",
       "      <td>1.000000</td>\n",
       "      <td>-0.100111</td>\n",
       "      <td>0.455975</td>\n",
       "      <td>0.474335</td>\n",
       "      <td>-0.067734</td>\n",
       "      <td>0.004219</td>\n",
       "      <td>0.430644</td>\n",
       "      <td>0.117202</td>\n",
       "      <td>0.646580</td>\n",
       "      <td>0.695139</td>\n",
       "      <td>0.958709</td>\n",
       "      <td>0.994548</td>\n",
       "      <td>0.003043</td>\n",
       "    </tr>\n",
       "    <tr>\n",
       "      <td>PRIOR LENGTH OF RESIDENCE</td>\n",
       "      <td>-0.100111</td>\n",
       "      <td>1.000000</td>\n",
       "      <td>0.051314</td>\n",
       "      <td>-0.299404</td>\n",
       "      <td>-0.055604</td>\n",
       "      <td>0.027123</td>\n",
       "      <td>0.059541</td>\n",
       "      <td>-0.194477</td>\n",
       "      <td>0.011488</td>\n",
       "      <td>-0.123419</td>\n",
       "      <td>-0.130113</td>\n",
       "      <td>-0.106406</td>\n",
       "      <td>0.028484</td>\n",
       "    </tr>\n",
       "    <tr>\n",
       "      <td>LAST MARKET SALE PRICE</td>\n",
       "      <td>0.455975</td>\n",
       "      <td>0.051314</td>\n",
       "      <td>1.000000</td>\n",
       "      <td>0.464245</td>\n",
       "      <td>-0.102140</td>\n",
       "      <td>0.019659</td>\n",
       "      <td>0.940748</td>\n",
       "      <td>-0.154912</td>\n",
       "      <td>0.686020</td>\n",
       "      <td>-0.188188</td>\n",
       "      <td>0.303267</td>\n",
       "      <td>0.453224</td>\n",
       "      <td>0.018880</td>\n",
       "    </tr>\n",
       "    <tr>\n",
       "      <td>PRIOR MARKET SALE PRICE</td>\n",
       "      <td>0.474335</td>\n",
       "      <td>-0.299404</td>\n",
       "      <td>0.464245</td>\n",
       "      <td>1.000000</td>\n",
       "      <td>-0.005376</td>\n",
       "      <td>-0.033081</td>\n",
       "      <td>0.441459</td>\n",
       "      <td>0.083611</td>\n",
       "      <td>0.433932</td>\n",
       "      <td>0.062744</td>\n",
       "      <td>0.422175</td>\n",
       "      <td>0.480913</td>\n",
       "      <td>-0.032312</td>\n",
       "    </tr>\n",
       "    <tr>\n",
       "      <td>LENGTH OF RESIDENCE</td>\n",
       "      <td>-0.067734</td>\n",
       "      <td>-0.055604</td>\n",
       "      <td>-0.102140</td>\n",
       "      <td>-0.005376</td>\n",
       "      <td>1.000000</td>\n",
       "      <td>0.032001</td>\n",
       "      <td>-0.056832</td>\n",
       "      <td>-0.057321</td>\n",
       "      <td>-0.013825</td>\n",
       "      <td>-0.021157</td>\n",
       "      <td>-0.080457</td>\n",
       "      <td>-0.071823</td>\n",
       "      <td>0.030318</td>\n",
       "    </tr>\n",
       "    <tr>\n",
       "      <td>LOT AREA</td>\n",
       "      <td>0.004219</td>\n",
       "      <td>0.027123</td>\n",
       "      <td>0.019659</td>\n",
       "      <td>-0.033081</td>\n",
       "      <td>0.032001</td>\n",
       "      <td>1.000000</td>\n",
       "      <td>0.045789</td>\n",
       "      <td>-0.080398</td>\n",
       "      <td>0.049345</td>\n",
       "      <td>0.031425</td>\n",
       "      <td>-0.011179</td>\n",
       "      <td>0.004780</td>\n",
       "      <td>0.998033</td>\n",
       "    </tr>\n",
       "    <tr>\n",
       "      <td>EQUITY ($)</td>\n",
       "      <td>0.430644</td>\n",
       "      <td>0.059541</td>\n",
       "      <td>0.940748</td>\n",
       "      <td>0.441459</td>\n",
       "      <td>-0.056832</td>\n",
       "      <td>0.045789</td>\n",
       "      <td>1.000000</td>\n",
       "      <td>-0.165419</td>\n",
       "      <td>0.668875</td>\n",
       "      <td>-0.216800</td>\n",
       "      <td>0.279113</td>\n",
       "      <td>0.427920</td>\n",
       "      <td>0.045049</td>\n",
       "    </tr>\n",
       "    <tr>\n",
       "      <td>IMPROVED %</td>\n",
       "      <td>0.117202</td>\n",
       "      <td>-0.194477</td>\n",
       "      <td>-0.154912</td>\n",
       "      <td>0.083611</td>\n",
       "      <td>-0.057321</td>\n",
       "      <td>-0.080398</td>\n",
       "      <td>-0.165419</td>\n",
       "      <td>1.000000</td>\n",
       "      <td>-0.453309</td>\n",
       "      <td>0.232260</td>\n",
       "      <td>0.301397</td>\n",
       "      <td>0.123636</td>\n",
       "      <td>-0.081388</td>\n",
       "    </tr>\n",
       "    <tr>\n",
       "      <td>LAND VALUE</td>\n",
       "      <td>0.646580</td>\n",
       "      <td>0.011488</td>\n",
       "      <td>0.686020</td>\n",
       "      <td>0.433932</td>\n",
       "      <td>-0.013825</td>\n",
       "      <td>0.049345</td>\n",
       "      <td>0.668875</td>\n",
       "      <td>-0.453309</td>\n",
       "      <td>1.000000</td>\n",
       "      <td>0.224997</td>\n",
       "      <td>0.424496</td>\n",
       "      <td>0.645840</td>\n",
       "      <td>0.048005</td>\n",
       "    </tr>\n",
       "    <tr>\n",
       "      <td>TAX REDUCTION</td>\n",
       "      <td>0.695139</td>\n",
       "      <td>-0.123419</td>\n",
       "      <td>-0.188188</td>\n",
       "      <td>0.062744</td>\n",
       "      <td>-0.021157</td>\n",
       "      <td>0.031425</td>\n",
       "      <td>-0.216800</td>\n",
       "      <td>0.232260</td>\n",
       "      <td>0.224997</td>\n",
       "      <td>1.000000</td>\n",
       "      <td>0.756758</td>\n",
       "      <td>0.702886</td>\n",
       "      <td>0.030835</td>\n",
       "    </tr>\n",
       "    <tr>\n",
       "      <td>IMPROVED VALUE</td>\n",
       "      <td>0.958709</td>\n",
       "      <td>-0.130113</td>\n",
       "      <td>0.303267</td>\n",
       "      <td>0.422175</td>\n",
       "      <td>-0.080457</td>\n",
       "      <td>-0.011179</td>\n",
       "      <td>0.279113</td>\n",
       "      <td>0.301397</td>\n",
       "      <td>0.424496</td>\n",
       "      <td>0.756758</td>\n",
       "      <td>1.000000</td>\n",
       "      <td>0.965427</td>\n",
       "      <td>-0.011990</td>\n",
       "    </tr>\n",
       "    <tr>\n",
       "      <td>TOTAL ASSESSED VALUE</td>\n",
       "      <td>0.994548</td>\n",
       "      <td>-0.106406</td>\n",
       "      <td>0.453224</td>\n",
       "      <td>0.480913</td>\n",
       "      <td>-0.071823</td>\n",
       "      <td>0.004780</td>\n",
       "      <td>0.427920</td>\n",
       "      <td>0.123636</td>\n",
       "      <td>0.645840</td>\n",
       "      <td>0.702886</td>\n",
       "      <td>0.965427</td>\n",
       "      <td>1.000000</td>\n",
       "      <td>0.003710</td>\n",
       "    </tr>\n",
       "    <tr>\n",
       "      <td>LOT ACREAGE</td>\n",
       "      <td>0.003043</td>\n",
       "      <td>0.028484</td>\n",
       "      <td>0.018880</td>\n",
       "      <td>-0.032312</td>\n",
       "      <td>0.030318</td>\n",
       "      <td>0.998033</td>\n",
       "      <td>0.045049</td>\n",
       "      <td>-0.081388</td>\n",
       "      <td>0.048005</td>\n",
       "      <td>0.030835</td>\n",
       "      <td>-0.011990</td>\n",
       "      <td>0.003710</td>\n",
       "      <td>1.000000</td>\n",
       "    </tr>\n",
       "  </tbody>\n",
       "</table>\n",
       "</div>"
      ],
      "text/plain": [
       "                           PROPERTY TAX AMOUNT  PRIOR LENGTH OF RESIDENCE  \\\n",
       "PROPERTY TAX AMOUNT                   1.000000                  -0.100111   \n",
       "PRIOR LENGTH OF RESIDENCE            -0.100111                   1.000000   \n",
       "LAST MARKET SALE PRICE                0.455975                   0.051314   \n",
       "PRIOR MARKET SALE PRICE               0.474335                  -0.299404   \n",
       "LENGTH OF RESIDENCE                  -0.067734                  -0.055604   \n",
       "LOT AREA                              0.004219                   0.027123   \n",
       "EQUITY ($)                            0.430644                   0.059541   \n",
       "IMPROVED %                            0.117202                  -0.194477   \n",
       "LAND VALUE                            0.646580                   0.011488   \n",
       "TAX REDUCTION                         0.695139                  -0.123419   \n",
       "IMPROVED VALUE                        0.958709                  -0.130113   \n",
       "TOTAL ASSESSED VALUE                  0.994548                  -0.106406   \n",
       "LOT ACREAGE                           0.003043                   0.028484   \n",
       "\n",
       "                           LAST MARKET SALE PRICE  PRIOR MARKET SALE PRICE  \\\n",
       "PROPERTY TAX AMOUNT                      0.455975                 0.474335   \n",
       "PRIOR LENGTH OF RESIDENCE                0.051314                -0.299404   \n",
       "LAST MARKET SALE PRICE                   1.000000                 0.464245   \n",
       "PRIOR MARKET SALE PRICE                  0.464245                 1.000000   \n",
       "LENGTH OF RESIDENCE                     -0.102140                -0.005376   \n",
       "LOT AREA                                 0.019659                -0.033081   \n",
       "EQUITY ($)                               0.940748                 0.441459   \n",
       "IMPROVED %                              -0.154912                 0.083611   \n",
       "LAND VALUE                               0.686020                 0.433932   \n",
       "TAX REDUCTION                           -0.188188                 0.062744   \n",
       "IMPROVED VALUE                           0.303267                 0.422175   \n",
       "TOTAL ASSESSED VALUE                     0.453224                 0.480913   \n",
       "LOT ACREAGE                              0.018880                -0.032312   \n",
       "\n",
       "                           LENGTH OF RESIDENCE  LOT AREA  EQUITY ($)  \\\n",
       "PROPERTY TAX AMOUNT                  -0.067734  0.004219    0.430644   \n",
       "PRIOR LENGTH OF RESIDENCE            -0.055604  0.027123    0.059541   \n",
       "LAST MARKET SALE PRICE               -0.102140  0.019659    0.940748   \n",
       "PRIOR MARKET SALE PRICE              -0.005376 -0.033081    0.441459   \n",
       "LENGTH OF RESIDENCE                   1.000000  0.032001   -0.056832   \n",
       "LOT AREA                              0.032001  1.000000    0.045789   \n",
       "EQUITY ($)                           -0.056832  0.045789    1.000000   \n",
       "IMPROVED %                           -0.057321 -0.080398   -0.165419   \n",
       "LAND VALUE                           -0.013825  0.049345    0.668875   \n",
       "TAX REDUCTION                        -0.021157  0.031425   -0.216800   \n",
       "IMPROVED VALUE                       -0.080457 -0.011179    0.279113   \n",
       "TOTAL ASSESSED VALUE                 -0.071823  0.004780    0.427920   \n",
       "LOT ACREAGE                           0.030318  0.998033    0.045049   \n",
       "\n",
       "                           IMPROVED %  LAND VALUE  TAX REDUCTION  \\\n",
       "PROPERTY TAX AMOUNT          0.117202    0.646580       0.695139   \n",
       "PRIOR LENGTH OF RESIDENCE   -0.194477    0.011488      -0.123419   \n",
       "LAST MARKET SALE PRICE      -0.154912    0.686020      -0.188188   \n",
       "PRIOR MARKET SALE PRICE      0.083611    0.433932       0.062744   \n",
       "LENGTH OF RESIDENCE         -0.057321   -0.013825      -0.021157   \n",
       "LOT AREA                    -0.080398    0.049345       0.031425   \n",
       "EQUITY ($)                  -0.165419    0.668875      -0.216800   \n",
       "IMPROVED %                   1.000000   -0.453309       0.232260   \n",
       "LAND VALUE                  -0.453309    1.000000       0.224997   \n",
       "TAX REDUCTION                0.232260    0.224997       1.000000   \n",
       "IMPROVED VALUE               0.301397    0.424496       0.756758   \n",
       "TOTAL ASSESSED VALUE         0.123636    0.645840       0.702886   \n",
       "LOT ACREAGE                 -0.081388    0.048005       0.030835   \n",
       "\n",
       "                           IMPROVED VALUE  TOTAL ASSESSED VALUE  LOT ACREAGE  \n",
       "PROPERTY TAX AMOUNT              0.958709              0.994548     0.003043  \n",
       "PRIOR LENGTH OF RESIDENCE       -0.130113             -0.106406     0.028484  \n",
       "LAST MARKET SALE PRICE           0.303267              0.453224     0.018880  \n",
       "PRIOR MARKET SALE PRICE          0.422175              0.480913    -0.032312  \n",
       "LENGTH OF RESIDENCE             -0.080457             -0.071823     0.030318  \n",
       "LOT AREA                        -0.011179              0.004780     0.998033  \n",
       "EQUITY ($)                       0.279113              0.427920     0.045049  \n",
       "IMPROVED %                       0.301397              0.123636    -0.081388  \n",
       "LAND VALUE                       0.424496              0.645840     0.048005  \n",
       "TAX REDUCTION                    0.756758              0.702886     0.030835  \n",
       "IMPROVED VALUE                   1.000000              0.965427    -0.011990  \n",
       "TOTAL ASSESSED VALUE             0.965427              1.000000     0.003710  \n",
       "LOT ACREAGE                     -0.011990              0.003710     1.000000  "
      ]
     },
     "execution_count": 159,
     "metadata": {},
     "output_type": "execute_result"
    }
   ],
   "source": [
    "jeff.corr()"
   ]
  },
  {
   "cell_type": "code",
   "execution_count": 160,
   "metadata": {},
   "outputs": [
    {
     "data": {
      "text/html": [
       "<div>\n",
       "<style scoped>\n",
       "    .dataframe tbody tr th:only-of-type {\n",
       "        vertical-align: middle;\n",
       "    }\n",
       "\n",
       "    .dataframe tbody tr th {\n",
       "        vertical-align: top;\n",
       "    }\n",
       "\n",
       "    .dataframe thead th {\n",
       "        text-align: right;\n",
       "    }\n",
       "</style>\n",
       "<table border=\"1\" class=\"dataframe\">\n",
       "  <thead>\n",
       "    <tr style=\"text-align: right;\">\n",
       "      <th></th>\n",
       "      <th>PROPERTY TAX AMOUNT</th>\n",
       "      <th>PRIOR LENGTH OF RESIDENCE</th>\n",
       "      <th>LAST MARKET SALE PRICE</th>\n",
       "      <th>PRIOR MARKET SALE PRICE</th>\n",
       "      <th>LENGTH OF RESIDENCE</th>\n",
       "      <th>EQUITY ($)</th>\n",
       "    </tr>\n",
       "  </thead>\n",
       "  <tbody>\n",
       "    <tr>\n",
       "      <td>PROPERTY TAX AMOUNT</td>\n",
       "      <td>1.000000</td>\n",
       "      <td>-0.143456</td>\n",
       "      <td>0.782139</td>\n",
       "      <td>0.781238</td>\n",
       "      <td>0.005820</td>\n",
       "      <td>0.867196</td>\n",
       "    </tr>\n",
       "    <tr>\n",
       "      <td>PRIOR LENGTH OF RESIDENCE</td>\n",
       "      <td>-0.143456</td>\n",
       "      <td>1.000000</td>\n",
       "      <td>-0.141080</td>\n",
       "      <td>-0.334079</td>\n",
       "      <td>-0.048564</td>\n",
       "      <td>-0.136315</td>\n",
       "    </tr>\n",
       "    <tr>\n",
       "      <td>LAST MARKET SALE PRICE</td>\n",
       "      <td>0.782139</td>\n",
       "      <td>-0.141080</td>\n",
       "      <td>1.000000</td>\n",
       "      <td>0.620927</td>\n",
       "      <td>0.014571</td>\n",
       "      <td>0.858062</td>\n",
       "    </tr>\n",
       "    <tr>\n",
       "      <td>PRIOR MARKET SALE PRICE</td>\n",
       "      <td>0.781238</td>\n",
       "      <td>-0.334079</td>\n",
       "      <td>0.620927</td>\n",
       "      <td>1.000000</td>\n",
       "      <td>-0.007575</td>\n",
       "      <td>0.722889</td>\n",
       "    </tr>\n",
       "    <tr>\n",
       "      <td>LENGTH OF RESIDENCE</td>\n",
       "      <td>0.005820</td>\n",
       "      <td>-0.048564</td>\n",
       "      <td>0.014571</td>\n",
       "      <td>-0.007575</td>\n",
       "      <td>1.000000</td>\n",
       "      <td>0.026500</td>\n",
       "    </tr>\n",
       "    <tr>\n",
       "      <td>EQUITY ($)</td>\n",
       "      <td>0.867196</td>\n",
       "      <td>-0.136315</td>\n",
       "      <td>0.858062</td>\n",
       "      <td>0.722889</td>\n",
       "      <td>0.026500</td>\n",
       "      <td>1.000000</td>\n",
       "    </tr>\n",
       "  </tbody>\n",
       "</table>\n",
       "</div>"
      ],
      "text/plain": [
       "                           PROPERTY TAX AMOUNT  PRIOR LENGTH OF RESIDENCE  \\\n",
       "PROPERTY TAX AMOUNT                   1.000000                  -0.143456   \n",
       "PRIOR LENGTH OF RESIDENCE            -0.143456                   1.000000   \n",
       "LAST MARKET SALE PRICE                0.782139                  -0.141080   \n",
       "PRIOR MARKET SALE PRICE               0.781238                  -0.334079   \n",
       "LENGTH OF RESIDENCE                   0.005820                  -0.048564   \n",
       "EQUITY ($)                            0.867196                  -0.136315   \n",
       "\n",
       "                           LAST MARKET SALE PRICE  PRIOR MARKET SALE PRICE  \\\n",
       "PROPERTY TAX AMOUNT                      0.782139                 0.781238   \n",
       "PRIOR LENGTH OF RESIDENCE               -0.141080                -0.334079   \n",
       "LAST MARKET SALE PRICE                   1.000000                 0.620927   \n",
       "PRIOR MARKET SALE PRICE                  0.620927                 1.000000   \n",
       "LENGTH OF RESIDENCE                      0.014571                -0.007575   \n",
       "EQUITY ($)                               0.858062                 0.722889   \n",
       "\n",
       "                           LENGTH OF RESIDENCE  EQUITY ($)  \n",
       "PROPERTY TAX AMOUNT                   0.005820    0.867196  \n",
       "PRIOR LENGTH OF RESIDENCE            -0.048564   -0.136315  \n",
       "LAST MARKET SALE PRICE                0.014571    0.858062  \n",
       "PRIOR MARKET SALE PRICE              -0.007575    0.722889  \n",
       "LENGTH OF RESIDENCE                   1.000000    0.026500  \n",
       "EQUITY ($)                            0.026500    1.000000  "
      ]
     },
     "execution_count": 160,
     "metadata": {},
     "output_type": "execute_result"
    }
   ],
   "source": [
    "neworl.corr()"
   ]
  },
  {
   "cell_type": "code",
   "execution_count": 161,
   "metadata": {},
   "outputs": [
    {
     "data": {
      "text/html": [
       "<div>\n",
       "<style scoped>\n",
       "    .dataframe tbody tr th:only-of-type {\n",
       "        vertical-align: middle;\n",
       "    }\n",
       "\n",
       "    .dataframe tbody tr th {\n",
       "        vertical-align: top;\n",
       "    }\n",
       "\n",
       "    .dataframe thead th {\n",
       "        text-align: right;\n",
       "    }\n",
       "</style>\n",
       "<table border=\"1\" class=\"dataframe\">\n",
       "  <thead>\n",
       "    <tr style=\"text-align: right;\">\n",
       "      <th></th>\n",
       "      <th>PROPERTY TAX AMOUNT</th>\n",
       "      <th>PRIOR LENGTH OF RESIDENCE</th>\n",
       "      <th>LAST MARKET SALE PRICE</th>\n",
       "      <th>PRIOR MARKET SALE PRICE</th>\n",
       "      <th>LENGTH OF RESIDENCE</th>\n",
       "      <th>EQUITY ($)</th>\n",
       "    </tr>\n",
       "  </thead>\n",
       "  <tbody>\n",
       "    <tr>\n",
       "      <td>PROPERTY TAX AMOUNT</td>\n",
       "      <td>1.000000</td>\n",
       "      <td>-0.005639</td>\n",
       "      <td>0.383599</td>\n",
       "      <td>0.165124</td>\n",
       "      <td>-0.001072</td>\n",
       "      <td>0.721383</td>\n",
       "    </tr>\n",
       "    <tr>\n",
       "      <td>PRIOR LENGTH OF RESIDENCE</td>\n",
       "      <td>-0.005639</td>\n",
       "      <td>1.000000</td>\n",
       "      <td>0.124906</td>\n",
       "      <td>-0.119520</td>\n",
       "      <td>-0.001256</td>\n",
       "      <td>-0.043430</td>\n",
       "    </tr>\n",
       "    <tr>\n",
       "      <td>LAST MARKET SALE PRICE</td>\n",
       "      <td>0.383599</td>\n",
       "      <td>0.124906</td>\n",
       "      <td>1.000000</td>\n",
       "      <td>0.046536</td>\n",
       "      <td>-0.049324</td>\n",
       "      <td>0.627706</td>\n",
       "    </tr>\n",
       "    <tr>\n",
       "      <td>PRIOR MARKET SALE PRICE</td>\n",
       "      <td>0.165124</td>\n",
       "      <td>-0.119520</td>\n",
       "      <td>0.046536</td>\n",
       "      <td>1.000000</td>\n",
       "      <td>-0.088951</td>\n",
       "      <td>0.090443</td>\n",
       "    </tr>\n",
       "    <tr>\n",
       "      <td>LENGTH OF RESIDENCE</td>\n",
       "      <td>-0.001072</td>\n",
       "      <td>-0.001256</td>\n",
       "      <td>-0.049324</td>\n",
       "      <td>-0.088951</td>\n",
       "      <td>1.000000</td>\n",
       "      <td>0.001670</td>\n",
       "    </tr>\n",
       "    <tr>\n",
       "      <td>EQUITY ($)</td>\n",
       "      <td>0.721383</td>\n",
       "      <td>-0.043430</td>\n",
       "      <td>0.627706</td>\n",
       "      <td>0.090443</td>\n",
       "      <td>0.001670</td>\n",
       "      <td>1.000000</td>\n",
       "    </tr>\n",
       "  </tbody>\n",
       "</table>\n",
       "</div>"
      ],
      "text/plain": [
       "                           PROPERTY TAX AMOUNT  PRIOR LENGTH OF RESIDENCE  \\\n",
       "PROPERTY TAX AMOUNT                   1.000000                  -0.005639   \n",
       "PRIOR LENGTH OF RESIDENCE            -0.005639                   1.000000   \n",
       "LAST MARKET SALE PRICE                0.383599                   0.124906   \n",
       "PRIOR MARKET SALE PRICE               0.165124                  -0.119520   \n",
       "LENGTH OF RESIDENCE                  -0.001072                  -0.001256   \n",
       "EQUITY ($)                            0.721383                  -0.043430   \n",
       "\n",
       "                           LAST MARKET SALE PRICE  PRIOR MARKET SALE PRICE  \\\n",
       "PROPERTY TAX AMOUNT                      0.383599                 0.165124   \n",
       "PRIOR LENGTH OF RESIDENCE                0.124906                -0.119520   \n",
       "LAST MARKET SALE PRICE                   1.000000                 0.046536   \n",
       "PRIOR MARKET SALE PRICE                  0.046536                 1.000000   \n",
       "LENGTH OF RESIDENCE                     -0.049324                -0.088951   \n",
       "EQUITY ($)                               0.627706                 0.090443   \n",
       "\n",
       "                           LENGTH OF RESIDENCE  EQUITY ($)  \n",
       "PROPERTY TAX AMOUNT                  -0.001072    0.721383  \n",
       "PRIOR LENGTH OF RESIDENCE            -0.001256   -0.043430  \n",
       "LAST MARKET SALE PRICE               -0.049324    0.627706  \n",
       "PRIOR MARKET SALE PRICE              -0.088951    0.090443  \n",
       "LENGTH OF RESIDENCE                   1.000000    0.001670  \n",
       "EQUITY ($)                            0.001670    1.000000  "
      ]
     },
     "execution_count": 161,
     "metadata": {},
     "output_type": "execute_result"
    }
   ],
   "source": [
    "slidell.corr()"
   ]
  },
  {
   "cell_type": "code",
   "execution_count": 162,
   "metadata": {},
   "outputs": [
    {
     "data": {
      "text/html": [
       "<div>\n",
       "<style scoped>\n",
       "    .dataframe tbody tr th:only-of-type {\n",
       "        vertical-align: middle;\n",
       "    }\n",
       "\n",
       "    .dataframe tbody tr th {\n",
       "        vertical-align: top;\n",
       "    }\n",
       "\n",
       "    .dataframe thead th {\n",
       "        text-align: right;\n",
       "    }\n",
       "</style>\n",
       "<table border=\"1\" class=\"dataframe\">\n",
       "  <thead>\n",
       "    <tr style=\"text-align: right;\">\n",
       "      <th></th>\n",
       "      <th>PROPERTY TAX AMOUNT</th>\n",
       "      <th>PRIOR LENGTH OF RESIDENCE</th>\n",
       "      <th>LAST MARKET SALE PRICE</th>\n",
       "      <th>PRIOR MARKET SALE PRICE</th>\n",
       "      <th>LENGTH OF RESIDENCE</th>\n",
       "      <th>LAND VALUE</th>\n",
       "      <th>LOT AREA</th>\n",
       "      <th>LOT ACREAGE</th>\n",
       "    </tr>\n",
       "  </thead>\n",
       "  <tbody>\n",
       "    <tr>\n",
       "      <td>PROPERTY TAX AMOUNT</td>\n",
       "      <td>1.000000</td>\n",
       "      <td>-0.064693</td>\n",
       "      <td>0.978562</td>\n",
       "      <td>0.981299</td>\n",
       "      <td>0.047192</td>\n",
       "      <td>0.986294</td>\n",
       "      <td>0.005223</td>\n",
       "      <td>0.005223</td>\n",
       "    </tr>\n",
       "    <tr>\n",
       "      <td>PRIOR LENGTH OF RESIDENCE</td>\n",
       "      <td>-0.064693</td>\n",
       "      <td>1.000000</td>\n",
       "      <td>-0.049991</td>\n",
       "      <td>-0.045715</td>\n",
       "      <td>0.051191</td>\n",
       "      <td>-0.053480</td>\n",
       "      <td>-0.035921</td>\n",
       "      <td>-0.035921</td>\n",
       "    </tr>\n",
       "    <tr>\n",
       "      <td>LAST MARKET SALE PRICE</td>\n",
       "      <td>0.978562</td>\n",
       "      <td>-0.049991</td>\n",
       "      <td>1.000000</td>\n",
       "      <td>0.969422</td>\n",
       "      <td>0.038080</td>\n",
       "      <td>0.966807</td>\n",
       "      <td>0.005039</td>\n",
       "      <td>0.005039</td>\n",
       "    </tr>\n",
       "    <tr>\n",
       "      <td>PRIOR MARKET SALE PRICE</td>\n",
       "      <td>0.981299</td>\n",
       "      <td>-0.045715</td>\n",
       "      <td>0.969422</td>\n",
       "      <td>1.000000</td>\n",
       "      <td>0.048906</td>\n",
       "      <td>0.975720</td>\n",
       "      <td>0.022925</td>\n",
       "      <td>0.022925</td>\n",
       "    </tr>\n",
       "    <tr>\n",
       "      <td>LENGTH OF RESIDENCE</td>\n",
       "      <td>0.047192</td>\n",
       "      <td>0.051191</td>\n",
       "      <td>0.038080</td>\n",
       "      <td>0.048906</td>\n",
       "      <td>1.000000</td>\n",
       "      <td>0.042140</td>\n",
       "      <td>-0.005672</td>\n",
       "      <td>-0.005672</td>\n",
       "    </tr>\n",
       "    <tr>\n",
       "      <td>LAND VALUE</td>\n",
       "      <td>0.986294</td>\n",
       "      <td>-0.053480</td>\n",
       "      <td>0.966807</td>\n",
       "      <td>0.975720</td>\n",
       "      <td>0.042140</td>\n",
       "      <td>1.000000</td>\n",
       "      <td>0.019836</td>\n",
       "      <td>0.019836</td>\n",
       "    </tr>\n",
       "    <tr>\n",
       "      <td>LOT AREA</td>\n",
       "      <td>0.005223</td>\n",
       "      <td>-0.035921</td>\n",
       "      <td>0.005039</td>\n",
       "      <td>0.022925</td>\n",
       "      <td>-0.005672</td>\n",
       "      <td>0.019836</td>\n",
       "      <td>1.000000</td>\n",
       "      <td>1.000000</td>\n",
       "    </tr>\n",
       "    <tr>\n",
       "      <td>LOT ACREAGE</td>\n",
       "      <td>0.005223</td>\n",
       "      <td>-0.035921</td>\n",
       "      <td>0.005039</td>\n",
       "      <td>0.022925</td>\n",
       "      <td>-0.005672</td>\n",
       "      <td>0.019836</td>\n",
       "      <td>1.000000</td>\n",
       "      <td>1.000000</td>\n",
       "    </tr>\n",
       "  </tbody>\n",
       "</table>\n",
       "</div>"
      ],
      "text/plain": [
       "                           PROPERTY TAX AMOUNT  PRIOR LENGTH OF RESIDENCE  \\\n",
       "PROPERTY TAX AMOUNT                   1.000000                  -0.064693   \n",
       "PRIOR LENGTH OF RESIDENCE            -0.064693                   1.000000   \n",
       "LAST MARKET SALE PRICE                0.978562                  -0.049991   \n",
       "PRIOR MARKET SALE PRICE               0.981299                  -0.045715   \n",
       "LENGTH OF RESIDENCE                   0.047192                   0.051191   \n",
       "LAND VALUE                            0.986294                  -0.053480   \n",
       "LOT AREA                              0.005223                  -0.035921   \n",
       "LOT ACREAGE                           0.005223                  -0.035921   \n",
       "\n",
       "                           LAST MARKET SALE PRICE  PRIOR MARKET SALE PRICE  \\\n",
       "PROPERTY TAX AMOUNT                      0.978562                 0.981299   \n",
       "PRIOR LENGTH OF RESIDENCE               -0.049991                -0.045715   \n",
       "LAST MARKET SALE PRICE                   1.000000                 0.969422   \n",
       "PRIOR MARKET SALE PRICE                  0.969422                 1.000000   \n",
       "LENGTH OF RESIDENCE                      0.038080                 0.048906   \n",
       "LAND VALUE                               0.966807                 0.975720   \n",
       "LOT AREA                                 0.005039                 0.022925   \n",
       "LOT ACREAGE                              0.005039                 0.022925   \n",
       "\n",
       "                           LENGTH OF RESIDENCE  LAND VALUE  LOT AREA  \\\n",
       "PROPERTY TAX AMOUNT                   0.047192    0.986294  0.005223   \n",
       "PRIOR LENGTH OF RESIDENCE             0.051191   -0.053480 -0.035921   \n",
       "LAST MARKET SALE PRICE                0.038080    0.966807  0.005039   \n",
       "PRIOR MARKET SALE PRICE               0.048906    0.975720  0.022925   \n",
       "LENGTH OF RESIDENCE                   1.000000    0.042140 -0.005672   \n",
       "LAND VALUE                            0.042140    1.000000  0.019836   \n",
       "LOT AREA                             -0.005672    0.019836  1.000000   \n",
       "LOT ACREAGE                          -0.005672    0.019836  1.000000   \n",
       "\n",
       "                           LOT ACREAGE  \n",
       "PROPERTY TAX AMOUNT           0.005223  \n",
       "PRIOR LENGTH OF RESIDENCE    -0.035921  \n",
       "LAST MARKET SALE PRICE        0.005039  \n",
       "PRIOR MARKET SALE PRICE       0.022925  \n",
       "LENGTH OF RESIDENCE          -0.005672  \n",
       "LAND VALUE                    0.019836  \n",
       "LOT AREA                      1.000000  \n",
       "LOT ACREAGE                   1.000000  "
      ]
     },
     "execution_count": 162,
     "metadata": {},
     "output_type": "execute_result"
    }
   ],
   "source": [
    "baton.corr()"
   ]
  },
  {
   "cell_type": "markdown",
   "metadata": {},
   "source": [
    "We see that 'LOT ACREAGE' and 'LOT AREA' highly correlated. Let's delete 'LOT ACREAGE'."
   ]
  },
  {
   "cell_type": "code",
   "execution_count": 163,
   "metadata": {},
   "outputs": [],
   "source": [
    "del baton['LOT ACREAGE'],jeff['LOT ACREAGE']"
   ]
  },
  {
   "cell_type": "markdown",
   "metadata": {},
   "source": [
    "Now I use StandardScaler to standardise data."
   ]
  },
  {
   "cell_type": "code",
   "execution_count": 164,
   "metadata": {},
   "outputs": [],
   "source": [
    "from sklearn.preprocessing import StandardScaler"
   ]
  },
  {
   "cell_type": "code",
   "execution_count": 165,
   "metadata": {},
   "outputs": [],
   "source": [
    "scaler = StandardScaler() \n",
    "scaler.fit(jeff)\n",
    "jeff_sc= scaler.transform(jeff)"
   ]
  },
  {
   "cell_type": "markdown",
   "metadata": {},
   "source": [
    "Now let's apply PCA transformation."
   ]
  },
  {
   "cell_type": "code",
   "execution_count": 166,
   "metadata": {},
   "outputs": [],
   "source": [
    "from sklearn.decomposition import PCA"
   ]
  },
  {
   "cell_type": "code",
   "execution_count": 167,
   "metadata": {},
   "outputs": [],
   "source": [
    "model = PCA().fit(jeff_sc)"
   ]
  },
  {
   "cell_type": "code",
   "execution_count": 168,
   "metadata": {},
   "outputs": [
    {
     "data": {
      "text/plain": [
       "array([0.39243199, 0.19683718, 0.1058061 , 0.09067666, 0.07971006,\n",
       "       0.068895  , 0.0398027 , 0.01390878, 0.00658132, 0.00473811,\n",
       "       0.00061211, 0.        ])"
      ]
     },
     "execution_count": 168,
     "metadata": {},
     "output_type": "execute_result"
    }
   ],
   "source": [
    "np.set_printoptions(suppress=True) \n",
    "model.explained_variance_ratio_"
   ]
  },
  {
   "cell_type": "code",
   "execution_count": 169,
   "metadata": {},
   "outputs": [
    {
     "data": {
      "text/plain": [
       "array([4.71899463, 2.36696705, 1.27231841, 1.09038685, 0.95851346,\n",
       "       0.82846232, 0.47862743, 0.16725314, 0.07914039, 0.05697575,\n",
       "       0.00736056, 0.        ])"
      ]
     },
     "execution_count": 169,
     "metadata": {},
     "output_type": "execute_result"
    }
   ],
   "source": [
    "model.explained_variance_"
   ]
  },
  {
   "cell_type": "code",
   "execution_count": 170,
   "metadata": {},
   "outputs": [
    {
     "data": {
      "text/plain": [
       "0.86546198817458"
      ]
     },
     "execution_count": 170,
     "metadata": {},
     "output_type": "execute_result"
    }
   ],
   "source": [
    "model.explained_variance_ratio_.cumsum()[4]"
   ]
  },
  {
   "cell_type": "code",
   "execution_count": 171,
   "metadata": {},
   "outputs": [],
   "source": [
    "pca_jeff = PCA(n_components=4).fit_transform(jeff_sc)"
   ]
  },
  {
   "cell_type": "markdown",
   "metadata": {},
   "source": [
    "I also try hierarchical clustering, k-means clustering for actual data,scaled data and PCA transformed data, but thay give few \"1\" labels."
   ]
  },
  {
   "cell_type": "code",
   "execution_count": 172,
   "metadata": {},
   "outputs": [],
   "source": [
    "from sklearn.mixture import GaussianMixture\n",
    "gmm = GaussianMixture(n_components=2, covariance_type = 'full',random_state=1)\n",
    "gmmjf=gmm.fit(pca_jeff) \n",
    "gmm_jeff = gmmjf.predict(pca_jeff)\n",
    "probgmmjf=gmmjf.predict_proba(pca_jeff)"
   ]
  },
  {
   "cell_type": "code",
   "execution_count": 173,
   "metadata": {},
   "outputs": [],
   "source": [
    "scaler.fit(neworl)\n",
    "new_sc= scaler.transform(neworl)"
   ]
  },
  {
   "cell_type": "code",
   "execution_count": 174,
   "metadata": {},
   "outputs": [],
   "source": [
    "model1 = PCA().fit(new_sc)"
   ]
  },
  {
   "cell_type": "code",
   "execution_count": 175,
   "metadata": {},
   "outputs": [
    {
     "data": {
      "text/plain": [
       "array([0.5633839 , 0.172475  , 0.15994431, 0.0603623 , 0.02560832,\n",
       "       0.01822617])"
      ]
     },
     "execution_count": 175,
     "metadata": {},
     "output_type": "execute_result"
    }
   ],
   "source": [
    "model1.explained_variance_ratio_"
   ]
  },
  {
   "cell_type": "code",
   "execution_count": 176,
   "metadata": {},
   "outputs": [
    {
     "data": {
      "text/plain": [
       "array([3.3875263 , 1.03706119, 0.9617164 , 0.36294766, 0.15397825,\n",
       "       0.10959072])"
      ]
     },
     "execution_count": 176,
     "metadata": {},
     "output_type": "execute_result"
    }
   ],
   "source": [
    "model1.explained_variance_"
   ]
  },
  {
   "cell_type": "code",
   "execution_count": 177,
   "metadata": {},
   "outputs": [
    {
     "data": {
      "text/plain": [
       "0.8958032057098558"
      ]
     },
     "execution_count": 177,
     "metadata": {},
     "output_type": "execute_result"
    }
   ],
   "source": [
    "model1.explained_variance_ratio_.cumsum()[2]"
   ]
  },
  {
   "cell_type": "code",
   "execution_count": 178,
   "metadata": {},
   "outputs": [],
   "source": [
    "pca_new = PCA(n_components=2).fit_transform(new_sc)\n"
   ]
  },
  {
   "cell_type": "code",
   "execution_count": 179,
   "metadata": {},
   "outputs": [],
   "source": [
    "gmmnew=gmm.fit(pca_new)\n",
    "gmm_new = gmmnew.predict(pca_new)\n",
    "probgmmnew=gmmnew.predict_proba(pca_new)"
   ]
  },
  {
   "cell_type": "code",
   "execution_count": 180,
   "metadata": {},
   "outputs": [],
   "source": [
    "scaler.fit(baton)\n",
    "baton_sc= scaler.transform(baton)"
   ]
  },
  {
   "cell_type": "code",
   "execution_count": 181,
   "metadata": {},
   "outputs": [],
   "source": [
    "model2 = PCA().fit(baton_sc)"
   ]
  },
  {
   "cell_type": "code",
   "execution_count": 182,
   "metadata": {},
   "outputs": [
    {
     "data": {
      "text/plain": [
       "array([0.56225437, 0.15213473, 0.14192442, 0.13363516, 0.00496074,\n",
       "       0.00353236, 0.00155822])"
      ]
     },
     "execution_count": 182,
     "metadata": {},
     "output_type": "execute_result"
    }
   ],
   "source": [
    "model2.explained_variance_ratio_"
   ]
  },
  {
   "cell_type": "code",
   "execution_count": 183,
   "metadata": {},
   "outputs": [
    {
     "data": {
      "text/plain": [
       "array([3.93996759, 1.06607603, 0.99452779, 0.93644127, 0.03476213,\n",
       "       0.02475284, 0.01091916])"
      ]
     },
     "execution_count": 183,
     "metadata": {},
     "output_type": "execute_result"
    }
   ],
   "source": [
    "model2.explained_variance_"
   ]
  },
  {
   "cell_type": "code",
   "execution_count": 184,
   "metadata": {},
   "outputs": [
    {
     "data": {
      "text/plain": [
       "0.8958032057098558"
      ]
     },
     "execution_count": 184,
     "metadata": {},
     "output_type": "execute_result"
    }
   ],
   "source": [
    "model1.explained_variance_ratio_.cumsum()[2]"
   ]
  },
  {
   "cell_type": "code",
   "execution_count": 185,
   "metadata": {},
   "outputs": [],
   "source": [
    "pca_baton = PCA(n_components=2).fit_transform(baton_sc)"
   ]
  },
  {
   "cell_type": "code",
   "execution_count": 186,
   "metadata": {},
   "outputs": [],
   "source": [
    "gmmb=gmm.fit(baton_sc) \n",
    "gmm_baton = gmmb.predict(baton_sc)\n",
    "probgmmb= gmmb.predict_proba(baton_sc)"
   ]
  },
  {
   "cell_type": "code",
   "execution_count": 187,
   "metadata": {},
   "outputs": [],
   "source": [
    "scaler.fit(slidell)\n",
    "slidell_sc= scaler.transform(slidell)"
   ]
  },
  {
   "cell_type": "code",
   "execution_count": 188,
   "metadata": {},
   "outputs": [],
   "source": [
    "model3 = PCA().fit(slidell_sc)"
   ]
  },
  {
   "cell_type": "code",
   "execution_count": 189,
   "metadata": {},
   "outputs": [
    {
     "data": {
      "text/plain": [
       "array([2.20943441, 1.16527016, 1.02767566, 0.84895823, 0.58919399,\n",
       "       0.20358519])"
      ]
     },
     "execution_count": 189,
     "metadata": {},
     "output_type": "execute_result"
    }
   ],
   "source": [
    "model3.explained_variance_"
   ]
  },
  {
   "cell_type": "code",
   "execution_count": 190,
   "metadata": {},
   "outputs": [
    {
     "data": {
      "text/plain": [
       "0.8688345875427259"
      ]
     },
     "execution_count": 190,
     "metadata": {},
     "output_type": "execute_result"
    }
   ],
   "source": [
    "model3.explained_variance_ratio_.cumsum()[3]"
   ]
  },
  {
   "cell_type": "code",
   "execution_count": 191,
   "metadata": {},
   "outputs": [],
   "source": [
    "pca_sl = PCA(n_components=3).fit_transform(slidell_sc)"
   ]
  },
  {
   "cell_type": "code",
   "execution_count": 192,
   "metadata": {},
   "outputs": [],
   "source": [
    "gmmsl=gmm.fit(slidell_sc) \n",
    "gmm_sl = gmmsl.predict(slidell_sc)\n",
    "probgmmsl=gmmsl.predict_proba(slidell_sc)"
   ]
  },
  {
   "cell_type": "markdown",
   "metadata": {},
   "source": [
    "For \"slidell\" and \"baton\" most \"1\" label gives scaled data and for \"jeff\" and \"neworl\" pca-transformed data."
   ]
  },
  {
   "cell_type": "markdown",
   "metadata": {},
   "source": [
    "For logistic regression let's attach dummy variables."
   ]
  },
  {
   "cell_type": "code",
   "execution_count": 193,
   "metadata": {},
   "outputs": [],
   "source": [
    "j.set_index(jeff.index,inplace=True)\n",
    "s.set_index(slidell.index,inplace=True)\n",
    "n.set_index(neworl.index,inplace=True)\n",
    "b.set_index(baton.index,inplace=True)\n",
    "j1.set_index(jeff.index,inplace=True)\n",
    "s1.set_index(slidell.index,inplace=True)\n",
    "n1.set_index(neworl.index,inplace=True)\n",
    "b1.set_index(baton.index,inplace=True)"
   ]
  },
  {
   "cell_type": "code",
   "execution_count": 194,
   "metadata": {},
   "outputs": [],
   "source": [
    "jeff=pd.concat([jeff,j1,j],axis=1)\n",
    "neworl=pd.concat([neworl,n1,n],axis=1)\n",
    "slidell=pd.concat([slidell,s1,s],axis=1)\n",
    "baton=pd.concat([baton,b1,b],axis=1)"
   ]
  },
  {
   "cell_type": "code",
   "execution_count": 195,
   "metadata": {},
   "outputs": [],
   "source": [
    "del baton['OTHER1'],neworl[\"OTHER1\"],slidell[\"OTHER1\"],jeff['OTHER1']\n",
    "del baton['Other'],neworl[\"Other\"],slidell[\"Other\"],jeff['Other']"
   ]
  },
  {
   "cell_type": "markdown",
   "metadata": {},
   "source": [
    "I consider jeff as a test dataset, jeff dataset labels will be GMM's labels."
   ]
  },
  {
   "cell_type": "code",
   "execution_count": 196,
   "metadata": {},
   "outputs": [],
   "source": [
    "from sklearn.linear_model import LogisticRegression"
   ]
  },
  {
   "cell_type": "code",
   "execution_count": 197,
   "metadata": {},
   "outputs": [],
   "source": [
    "XB=jeff[baton.columns]"
   ]
  },
  {
   "cell_type": "code",
   "execution_count": 198,
   "metadata": {},
   "outputs": [
    {
     "name": "stderr",
     "output_type": "stream",
     "text": [
      "/opt/anaconda3/lib/python3.7/site-packages/sklearn/linear_model/logistic.py:432: FutureWarning: Default solver will be changed to 'lbfgs' in 0.22. Specify a solver to silence this warning.\n",
      "  FutureWarning)\n"
     ]
    }
   ],
   "source": [
    "log = LogisticRegression()\n",
    "lrb=log.fit(XB, gmm_jeff)"
   ]
  },
  {
   "cell_type": "code",
   "execution_count": 199,
   "metadata": {},
   "outputs": [],
   "source": [
    "lr_baton = lrb.predict(baton)\n",
    "problrb=lrb.predict_proba(baton)"
   ]
  },
  {
   "cell_type": "code",
   "execution_count": 200,
   "metadata": {},
   "outputs": [
    {
     "name": "stderr",
     "output_type": "stream",
     "text": [
      "/opt/anaconda3/lib/python3.7/site-packages/sklearn/linear_model/logistic.py:432: FutureWarning: Default solver will be changed to 'lbfgs' in 0.22. Specify a solver to silence this warning.\n",
      "  FutureWarning)\n"
     ]
    }
   ],
   "source": [
    "XS=jeff[slidell.columns]\n",
    "lrs = log.fit(XS, gmm_jeff)\n",
    "lr_slidell = lrs.predict(slidell)\n",
    "problrsl=lrs.predict_proba(slidell)"
   ]
  },
  {
   "cell_type": "code",
   "execution_count": 201,
   "metadata": {},
   "outputs": [
    {
     "name": "stderr",
     "output_type": "stream",
     "text": [
      "/opt/anaconda3/lib/python3.7/site-packages/sklearn/linear_model/logistic.py:432: FutureWarning: Default solver will be changed to 'lbfgs' in 0.22. Specify a solver to silence this warning.\n",
      "  FutureWarning)\n"
     ]
    }
   ],
   "source": [
    "XN=jeff[neworl.columns]\n",
    "lrn = log.fit(XN, gmm_jeff)\n",
    "lr_new = lrn.predict(neworl)\n",
    "problrnew= lrn.predict_proba(neworl)"
   ]
  },
  {
   "cell_type": "code",
   "execution_count": 202,
   "metadata": {},
   "outputs": [
    {
     "name": "stderr",
     "output_type": "stream",
     "text": [
      "/opt/anaconda3/lib/python3.7/site-packages/sklearn/linear_model/logistic.py:432: FutureWarning: Default solver will be changed to 'lbfgs' in 0.22. Specify a solver to silence this warning.\n",
      "  FutureWarning)\n"
     ]
    }
   ],
   "source": [
    "lrj = log.fit(jeff, gmm_jeff)\n",
    "lr_jeff = lrj.predict(jeff)\n",
    "problrjeff= lrj.predict_proba(jeff)"
   ]
  },
  {
   "cell_type": "markdown",
   "metadata": {},
   "source": [
    "Now let's calculate how match gmm and lr labels matches."
   ]
  },
  {
   "cell_type": "code",
   "execution_count": 203,
   "metadata": {},
   "outputs": [],
   "source": [
    "from sklearn.metrics import confusion_matrix"
   ]
  },
  {
   "cell_type": "code",
   "execution_count": 204,
   "metadata": {},
   "outputs": [
    {
     "data": {
      "text/plain": [
       "array([[444,  16],\n",
       "       [ 11,  10]])"
      ]
     },
     "execution_count": 204,
     "metadata": {},
     "output_type": "execute_result"
    }
   ],
   "source": [
    "confusion_matrix(lr_jeff,gmm_jeff)"
   ]
  },
  {
   "cell_type": "code",
   "execution_count": 205,
   "metadata": {},
   "outputs": [
    {
     "data": {
      "text/plain": [
       "array([[ 53, 877],\n",
       "       [  7,   4]])"
      ]
     },
     "execution_count": 205,
     "metadata": {},
     "output_type": "execute_result"
    }
   ],
   "source": [
    "confusion_matrix(lr_baton,gmm_baton)"
   ]
  },
  {
   "cell_type": "code",
   "execution_count": 206,
   "metadata": {},
   "outputs": [
    {
     "data": {
      "text/plain": [
       "array([[102,  19],\n",
       "       [  7,   9]])"
      ]
     },
     "execution_count": 206,
     "metadata": {},
     "output_type": "execute_result"
    }
   ],
   "source": [
    "confusion_matrix(lr_slidell,gmm_sl)"
   ]
  },
  {
   "cell_type": "code",
   "execution_count": 207,
   "metadata": {},
   "outputs": [
    {
     "data": {
      "text/plain": [
       "array([[361,  55],\n",
       "       [ 17,  36]])"
      ]
     },
     "execution_count": 207,
     "metadata": {},
     "output_type": "execute_result"
    }
   ],
   "source": [
    "confusion_matrix(lr_new,gmm_new)"
   ]
  },
  {
   "cell_type": "code",
   "execution_count": 208,
   "metadata": {},
   "outputs": [
    {
     "data": {
      "text/plain": [
       "0.06057385759829968"
      ]
     },
     "execution_count": 208,
     "metadata": {},
     "output_type": "execute_result"
    }
   ],
   "source": [
    "from sklearn.metrics import accuracy_score \n",
    "accuracy_score(lr_baton,gmm_baton)"
   ]
  },
  {
   "cell_type": "markdown",
   "metadata": {},
   "source": [
    "Accuracy score is low because \"1\" and \"0\" labels was opposite."
   ]
  },
  {
   "cell_type": "code",
   "execution_count": 209,
   "metadata": {},
   "outputs": [
    {
     "data": {
      "text/plain": [
       "array([1, 1, 1, 1, 1, 1, 1, 1, 0, 1, 1, 1, 1, 1, 1, 1, 1, 1, 1, 1, 1, 1,\n",
       "       1, 1, 1, 1, 0, 1, 1, 1, 1, 1, 0, 1, 1, 1, 1, 0, 1, 1, 1, 1, 1, 1,\n",
       "       0, 0, 1, 1, 1, 1, 1, 1, 1, 1, 1, 1, 1, 1, 0, 0, 1, 0, 1, 1, 1, 1,\n",
       "       1, 1, 1, 1, 1, 1, 1, 1, 1, 0, 1, 1, 1, 1, 1, 1, 1, 1, 1, 1, 1, 1,\n",
       "       1, 1, 1, 1, 1, 1, 1, 1, 1, 1, 1, 1, 1, 1, 1, 1, 1, 1, 1, 1, 1, 1,\n",
       "       1, 1, 1, 1, 1, 1, 1, 1, 1, 1, 0, 1, 1, 1, 1, 1, 1, 1, 1, 1, 1, 1,\n",
       "       1, 1, 1, 1, 1, 1, 1, 1, 1, 1, 1, 1, 1, 1, 1, 1, 1, 1, 1, 1, 1, 1,\n",
       "       1, 1, 1, 1, 1, 1, 1, 1, 1, 1, 1, 1, 1, 0, 1, 1, 1, 1, 1, 1, 1, 1,\n",
       "       1, 1, 1, 1, 1, 1, 1, 1, 1, 1, 1, 1, 1, 1, 1, 1, 1, 1, 1, 1, 1, 1,\n",
       "       1, 1, 0, 1, 1, 1, 1, 1, 1, 1, 1, 0, 1, 1, 1, 1, 1, 1, 1, 1, 1, 1,\n",
       "       1, 1, 1, 1, 1, 1, 1, 1, 1, 1, 1, 1, 0, 1, 1, 0, 1, 1, 1, 1, 1, 1,\n",
       "       1, 1, 0, 1, 1, 1, 1, 1, 1, 1, 1, 1, 1, 1, 1, 0, 1, 1, 1, 1, 1, 1,\n",
       "       1, 1, 1, 1, 1, 1, 1, 0, 1, 1, 1, 1, 0, 1, 1, 1, 1, 1, 1, 1, 1, 1,\n",
       "       1, 1, 1, 1, 1, 1, 1, 1, 1, 1, 1, 1, 1, 1, 1, 1, 1, 1, 1, 1, 1, 1,\n",
       "       1, 1, 1, 1, 1, 1, 1, 1, 1, 1, 1, 1, 1, 1, 1, 1, 1, 1, 1, 1, 1, 1,\n",
       "       1, 0, 1, 1, 1, 1, 0, 1, 1, 1, 1, 1, 1, 1, 1, 1, 1, 1, 1, 1, 1, 1,\n",
       "       1, 1, 1, 1, 1, 1, 1, 1, 1, 1, 1, 1, 1, 1, 0, 1, 1, 1, 1, 1, 1, 1,\n",
       "       1, 1, 1, 1, 1, 1, 0, 1, 1, 1, 1, 0, 1, 1, 1, 1, 1, 1, 1, 1, 1, 1,\n",
       "       1, 1, 0, 1, 1, 1, 1, 1, 1, 1, 1, 1, 1, 1, 1, 1, 1, 1, 1, 1, 1, 0,\n",
       "       1, 1, 1, 1, 1, 1, 1, 1, 1, 1, 1, 1, 1, 1, 1, 1, 1, 1, 1, 1, 1, 1,\n",
       "       1, 1, 1, 0, 1, 0, 1, 1, 1, 1, 1, 1, 1, 0, 1, 1, 1, 0, 0, 1, 1, 1,\n",
       "       1, 1, 1, 1, 0, 1, 1, 1, 1, 1, 1, 1, 1, 1, 1, 1, 1, 1, 1, 1, 1, 1,\n",
       "       1, 0, 1, 1, 1, 1, 0, 1, 1, 1, 1, 1, 1, 1, 1, 1, 1, 1, 0, 1, 1, 1,\n",
       "       0, 1, 1, 1, 1, 1, 1, 1, 1, 1, 1, 1, 1, 1, 1, 1, 1, 0, 1, 1, 1, 1,\n",
       "       1, 1, 1, 1, 1, 1, 1, 1, 1, 1, 1, 1, 1, 1, 1, 1, 1, 1, 1, 1, 1, 1,\n",
       "       1, 1, 1, 1, 1, 1, 1, 1, 1, 1, 1, 1, 1, 1, 1, 1, 1, 0, 1, 1, 1, 1,\n",
       "       1, 1, 1, 1, 1, 1, 1, 1, 1, 1, 1, 1, 1, 1, 1, 1, 1, 1, 1, 1, 1, 1,\n",
       "       1, 1, 1, 1, 1, 1, 1, 1, 1, 1, 1, 1, 1, 0, 1, 1, 1, 1, 1, 0, 1, 1,\n",
       "       1, 1, 1, 1, 1, 1, 0, 1, 1, 1, 1, 1, 1, 1, 1, 1, 1, 1, 1, 1, 1, 1,\n",
       "       1, 1, 1, 0, 0, 1, 1, 1, 1, 1, 1, 1, 1, 1, 1, 0, 1, 1, 1, 1, 1, 1,\n",
       "       1, 1, 1, 1, 1, 1, 1, 1, 1, 1, 1, 1, 1, 1, 1, 1, 1, 1, 1, 1, 1, 1,\n",
       "       1, 1, 1, 1, 1, 1, 1, 1, 1, 1, 1, 1, 0, 1, 1, 1, 1, 1, 1, 1, 1, 1,\n",
       "       1, 1, 1, 1, 1, 1, 1, 0, 1, 1, 1, 1, 1, 1, 1, 1, 1, 1, 1, 1, 1, 1,\n",
       "       1, 1, 1, 1, 1, 1, 1, 1, 1, 1, 1, 1, 1, 1, 1, 1, 1, 1, 1, 1, 1, 1,\n",
       "       1, 1, 1, 1, 1, 1, 1, 1, 1, 1, 1, 1, 1, 1, 1, 1, 1, 1, 1, 1, 1, 1,\n",
       "       1, 0, 1, 1, 1, 1, 1, 1, 1, 1, 1, 0, 1, 1, 1, 1, 1, 1, 1, 1, 1, 1,\n",
       "       1, 1, 0, 1, 0, 1, 1, 1, 1, 0, 1, 1, 0, 0, 1, 1, 1, 1, 1, 1, 1, 1,\n",
       "       1, 1, 1, 1, 1, 1, 1, 1, 1, 1, 1, 1, 1, 1, 1, 1, 1, 1, 1, 1, 1, 1,\n",
       "       1, 1, 1, 1, 1, 1, 1, 1, 1, 1, 1, 1, 0, 1, 1, 1, 1, 1, 1, 1, 1, 1,\n",
       "       1, 1, 1, 1, 1, 1, 0, 1, 1, 1, 1, 1, 1, 1, 1, 1, 1, 1, 1, 1, 1, 1,\n",
       "       1, 1, 1, 1, 1, 1, 1, 1, 1, 1, 1, 1, 1, 1, 1, 1, 1, 1, 1, 1, 1, 1,\n",
       "       1, 1, 1, 1, 1, 1, 1, 1, 1, 1, 1, 0, 1, 1, 1, 1, 1, 1, 1, 1, 1, 1,\n",
       "       0, 1, 1, 1, 1, 0, 1, 1, 1, 1, 1, 1, 1, 0, 1, 1, 1])"
      ]
     },
     "execution_count": 209,
     "metadata": {},
     "output_type": "execute_result"
    }
   ],
   "source": [
    "gmm_baton"
   ]
  },
  {
   "cell_type": "code",
   "execution_count": 210,
   "metadata": {},
   "outputs": [],
   "source": [
    "gmm_baton=np.where(gmm_baton==1, 0, 1)"
   ]
  },
  {
   "cell_type": "code",
   "execution_count": 211,
   "metadata": {},
   "outputs": [
    {
     "data": {
      "text/plain": [
       "array([0, 0, 0, 0, 0, 0, 0, 0, 1, 0, 0, 0, 0, 0, 0, 0, 0, 0, 0, 0, 0, 0,\n",
       "       0, 0, 0, 0, 1, 0, 0, 0, 0, 0, 1, 0, 0, 0, 0, 1, 0, 0, 0, 0, 0, 0,\n",
       "       1, 1, 0, 0, 0, 0, 0, 0, 0, 0, 0, 0, 0, 0, 1, 1, 0, 1, 0, 0, 0, 0,\n",
       "       0, 0, 0, 0, 0, 0, 0, 0, 0, 1, 0, 0, 0, 0, 0, 0, 0, 0, 0, 0, 0, 0,\n",
       "       0, 0, 0, 0, 0, 0, 0, 0, 0, 0, 0, 0, 0, 0, 0, 0, 0, 0, 0, 0, 0, 0,\n",
       "       0, 0, 0, 0, 0, 0, 0, 0, 0, 0, 1, 0, 0, 0, 0, 0, 0, 0, 0, 0, 0, 0,\n",
       "       0, 0, 0, 0, 0, 0, 0, 0, 0, 0, 0, 0, 0, 0, 0, 0, 0, 0, 0, 0, 0, 0,\n",
       "       0, 0, 0, 0, 0, 0, 0, 0, 0, 0, 0, 0, 0, 1, 0, 0, 0, 0, 0, 0, 0, 0,\n",
       "       0, 0, 0, 0, 0, 0, 0, 0, 0, 0, 0, 0, 0, 0, 0, 0, 0, 0, 0, 0, 0, 0,\n",
       "       0, 0, 1, 0, 0, 0, 0, 0, 0, 0, 0, 1, 0, 0, 0, 0, 0, 0, 0, 0, 0, 0,\n",
       "       0, 0, 0, 0, 0, 0, 0, 0, 0, 0, 0, 0, 1, 0, 0, 1, 0, 0, 0, 0, 0, 0,\n",
       "       0, 0, 1, 0, 0, 0, 0, 0, 0, 0, 0, 0, 0, 0, 0, 1, 0, 0, 0, 0, 0, 0,\n",
       "       0, 0, 0, 0, 0, 0, 0, 1, 0, 0, 0, 0, 1, 0, 0, 0, 0, 0, 0, 0, 0, 0,\n",
       "       0, 0, 0, 0, 0, 0, 0, 0, 0, 0, 0, 0, 0, 0, 0, 0, 0, 0, 0, 0, 0, 0,\n",
       "       0, 0, 0, 0, 0, 0, 0, 0, 0, 0, 0, 0, 0, 0, 0, 0, 0, 0, 0, 0, 0, 0,\n",
       "       0, 1, 0, 0, 0, 0, 1, 0, 0, 0, 0, 0, 0, 0, 0, 0, 0, 0, 0, 0, 0, 0,\n",
       "       0, 0, 0, 0, 0, 0, 0, 0, 0, 0, 0, 0, 0, 0, 1, 0, 0, 0, 0, 0, 0, 0,\n",
       "       0, 0, 0, 0, 0, 0, 1, 0, 0, 0, 0, 1, 0, 0, 0, 0, 0, 0, 0, 0, 0, 0,\n",
       "       0, 0, 1, 0, 0, 0, 0, 0, 0, 0, 0, 0, 0, 0, 0, 0, 0, 0, 0, 0, 0, 1,\n",
       "       0, 0, 0, 0, 0, 0, 0, 0, 0, 0, 0, 0, 0, 0, 0, 0, 0, 0, 0, 0, 0, 0,\n",
       "       0, 0, 0, 1, 0, 1, 0, 0, 0, 0, 0, 0, 0, 1, 0, 0, 0, 1, 1, 0, 0, 0,\n",
       "       0, 0, 0, 0, 1, 0, 0, 0, 0, 0, 0, 0, 0, 0, 0, 0, 0, 0, 0, 0, 0, 0,\n",
       "       0, 1, 0, 0, 0, 0, 1, 0, 0, 0, 0, 0, 0, 0, 0, 0, 0, 0, 1, 0, 0, 0,\n",
       "       1, 0, 0, 0, 0, 0, 0, 0, 0, 0, 0, 0, 0, 0, 0, 0, 0, 1, 0, 0, 0, 0,\n",
       "       0, 0, 0, 0, 0, 0, 0, 0, 0, 0, 0, 0, 0, 0, 0, 0, 0, 0, 0, 0, 0, 0,\n",
       "       0, 0, 0, 0, 0, 0, 0, 0, 0, 0, 0, 0, 0, 0, 0, 0, 0, 1, 0, 0, 0, 0,\n",
       "       0, 0, 0, 0, 0, 0, 0, 0, 0, 0, 0, 0, 0, 0, 0, 0, 0, 0, 0, 0, 0, 0,\n",
       "       0, 0, 0, 0, 0, 0, 0, 0, 0, 0, 0, 0, 0, 1, 0, 0, 0, 0, 0, 1, 0, 0,\n",
       "       0, 0, 0, 0, 0, 0, 1, 0, 0, 0, 0, 0, 0, 0, 0, 0, 0, 0, 0, 0, 0, 0,\n",
       "       0, 0, 0, 1, 1, 0, 0, 0, 0, 0, 0, 0, 0, 0, 0, 1, 0, 0, 0, 0, 0, 0,\n",
       "       0, 0, 0, 0, 0, 0, 0, 0, 0, 0, 0, 0, 0, 0, 0, 0, 0, 0, 0, 0, 0, 0,\n",
       "       0, 0, 0, 0, 0, 0, 0, 0, 0, 0, 0, 0, 1, 0, 0, 0, 0, 0, 0, 0, 0, 0,\n",
       "       0, 0, 0, 0, 0, 0, 0, 1, 0, 0, 0, 0, 0, 0, 0, 0, 0, 0, 0, 0, 0, 0,\n",
       "       0, 0, 0, 0, 0, 0, 0, 0, 0, 0, 0, 0, 0, 0, 0, 0, 0, 0, 0, 0, 0, 0,\n",
       "       0, 0, 0, 0, 0, 0, 0, 0, 0, 0, 0, 0, 0, 0, 0, 0, 0, 0, 0, 0, 0, 0,\n",
       "       0, 1, 0, 0, 0, 0, 0, 0, 0, 0, 0, 1, 0, 0, 0, 0, 0, 0, 0, 0, 0, 0,\n",
       "       0, 0, 1, 0, 1, 0, 0, 0, 0, 1, 0, 0, 1, 1, 0, 0, 0, 0, 0, 0, 0, 0,\n",
       "       0, 0, 0, 0, 0, 0, 0, 0, 0, 0, 0, 0, 0, 0, 0, 0, 0, 0, 0, 0, 0, 0,\n",
       "       0, 0, 0, 0, 0, 0, 0, 0, 0, 0, 0, 0, 1, 0, 0, 0, 0, 0, 0, 0, 0, 0,\n",
       "       0, 0, 0, 0, 0, 0, 1, 0, 0, 0, 0, 0, 0, 0, 0, 0, 0, 0, 0, 0, 0, 0,\n",
       "       0, 0, 0, 0, 0, 0, 0, 0, 0, 0, 0, 0, 0, 0, 0, 0, 0, 0, 0, 0, 0, 0,\n",
       "       0, 0, 0, 0, 0, 0, 0, 0, 0, 0, 0, 1, 0, 0, 0, 0, 0, 0, 0, 0, 0, 0,\n",
       "       1, 0, 0, 0, 0, 1, 0, 0, 0, 0, 0, 0, 0, 1, 0, 0, 0])"
      ]
     },
     "execution_count": 211,
     "metadata": {},
     "output_type": "execute_result"
    }
   ],
   "source": [
    "gmm_baton"
   ]
  },
  {
   "cell_type": "code",
   "execution_count": 212,
   "metadata": {},
   "outputs": [
    {
     "data": {
      "text/plain": [
       "array([[0.00000002, 0.99999998],\n",
       "       [0.00000001, 0.99999999],\n",
       "       [0.        , 1.        ],\n",
       "       ...,\n",
       "       [0.00000002, 0.99999998],\n",
       "       [0.00000002, 0.99999998],\n",
       "       [0.00000003, 0.99999997]])"
      ]
     },
     "execution_count": 212,
     "metadata": {},
     "output_type": "execute_result"
    }
   ],
   "source": [
    "probgmmb"
   ]
  },
  {
   "cell_type": "code",
   "execution_count": 213,
   "metadata": {},
   "outputs": [],
   "source": [
    "gmm0=probgmmb[:,1]"
   ]
  },
  {
   "cell_type": "code",
   "execution_count": 214,
   "metadata": {},
   "outputs": [],
   "source": [
    "gmm1=probgmmb[:,0]"
   ]
  },
  {
   "cell_type": "code",
   "execution_count": 215,
   "metadata": {},
   "outputs": [],
   "source": [
    "probgmmb=np.array([gmm0,gmm1]).T"
   ]
  },
  {
   "cell_type": "code",
   "execution_count": 216,
   "metadata": {},
   "outputs": [
    {
     "data": {
      "text/plain": [
       "0.9394261424017003"
      ]
     },
     "execution_count": 216,
     "metadata": {},
     "output_type": "execute_result"
    }
   ],
   "source": [
    "accuracy_score(lr_baton,gmm_baton)"
   ]
  },
  {
   "cell_type": "code",
   "execution_count": 217,
   "metadata": {},
   "outputs": [
    {
     "data": {
      "text/plain": [
       "0.8102189781021898"
      ]
     },
     "execution_count": 217,
     "metadata": {},
     "output_type": "execute_result"
    }
   ],
   "source": [
    "accuracy_score(lr_slidell,gmm_sl)"
   ]
  },
  {
   "cell_type": "code",
   "execution_count": 218,
   "metadata": {},
   "outputs": [
    {
     "data": {
      "text/plain": [
       "0.8464818763326226"
      ]
     },
     "execution_count": 218,
     "metadata": {},
     "output_type": "execute_result"
    }
   ],
   "source": [
    "accuracy_score(lr_new,gmm_new)"
   ]
  },
  {
   "cell_type": "code",
   "execution_count": 219,
   "metadata": {},
   "outputs": [
    {
     "data": {
      "text/plain": [
       "0.9438669438669439"
      ]
     },
     "execution_count": 219,
     "metadata": {},
     "output_type": "execute_result"
    }
   ],
   "source": [
    "accuracy_score(lr_jeff,gmm_jeff)"
   ]
  },
  {
   "cell_type": "markdown",
   "metadata": {},
   "source": [
    "We can see that gmm and lr labels not match perfectly. That's why I decide to take the mean of gmm and lr probabilities."
   ]
  },
  {
   "cell_type": "code",
   "execution_count": 220,
   "metadata": {},
   "outputs": [],
   "source": [
    "baton['LRLABEL']=lr_baton\n",
    "baton['GMMLABEL']=gmm_baton"
   ]
  },
  {
   "cell_type": "code",
   "execution_count": 221,
   "metadata": {},
   "outputs": [],
   "source": [
    "slidell['LRLABEL']=lr_slidell\n",
    "slidell['GMMLABEL']=gmm_sl"
   ]
  },
  {
   "cell_type": "code",
   "execution_count": 222,
   "metadata": {},
   "outputs": [],
   "source": [
    "neworl['LRLABEL']=lr_new\n",
    "neworl[\"GMMLABEL\"]=gmm_new"
   ]
  },
  {
   "cell_type": "code",
   "execution_count": 223,
   "metadata": {},
   "outputs": [],
   "source": [
    "jeff[\"GMMLABEL\"]=gmm_jeff\n",
    "jeff[\"LRLABEL\"]=lr_jeff"
   ]
  },
  {
   "cell_type": "code",
   "execution_count": 224,
   "metadata": {},
   "outputs": [],
   "source": [
    "probsl=(problrsl+probgmmsl)/2"
   ]
  },
  {
   "cell_type": "code",
   "execution_count": 225,
   "metadata": {},
   "outputs": [],
   "source": [
    "probnew=(problrnew+probgmmnew)/2"
   ]
  },
  {
   "cell_type": "code",
   "execution_count": 226,
   "metadata": {},
   "outputs": [],
   "source": [
    "probbaton=(problrb+probgmmb)/2"
   ]
  },
  {
   "cell_type": "code",
   "execution_count": 227,
   "metadata": {},
   "outputs": [],
   "source": [
    "probjeff=(problrjeff+probgmmjf)/2"
   ]
  },
  {
   "cell_type": "markdown",
   "metadata": {},
   "source": [
    "Where probability greather than 0.5 let's give that datapoint \"1\" label"
   ]
  },
  {
   "cell_type": "code",
   "execution_count": 228,
   "metadata": {},
   "outputs": [],
   "source": [
    "neworl['LABEL']=np.where(probnew[:,1]>=0.5, 1, 0)"
   ]
  },
  {
   "cell_type": "code",
   "execution_count": 229,
   "metadata": {},
   "outputs": [],
   "source": [
    "slidell['LABEL']=np.where(probsl[:,1]>=0.5, 1, 0)"
   ]
  },
  {
   "cell_type": "code",
   "execution_count": 230,
   "metadata": {},
   "outputs": [],
   "source": [
    "baton['LABEL']=np.where(probbaton[:,1]>=0.5, 1, 0)"
   ]
  },
  {
   "cell_type": "code",
   "execution_count": 231,
   "metadata": {},
   "outputs": [],
   "source": [
    "jeff['LABEL']=np.where(probjeff[:,1]>=0.5, 1, 0)"
   ]
  },
  {
   "cell_type": "markdown",
   "metadata": {},
   "source": [
    "Let's create new columns for probability and label."
   ]
  },
  {
   "cell_type": "code",
   "execution_count": 232,
   "metadata": {},
   "outputs": [],
   "source": [
    "slidell[\"PROB\"]=probsl[:,1]\n",
    "neworl[\"PROB\"]=probnew[:,1]\n",
    "jeff[\"PROB\"]=probjeff[:,1]\n",
    "baton[\"PROB\"]=probbaton[:,1]"
   ]
  },
  {
   "cell_type": "code",
   "execution_count": 233,
   "metadata": {},
   "outputs": [],
   "source": [
    "baton0=baton[baton['LABEL']==0]\n",
    "baton1=baton[baton['LABEL']==1]"
   ]
  },
  {
   "cell_type": "code",
   "execution_count": 234,
   "metadata": {},
   "outputs": [],
   "source": [
    "jeff0=jeff[jeff['LABEL']==0]\n",
    "jeff1=jeff[jeff['LABEL']==1]"
   ]
  },
  {
   "cell_type": "code",
   "execution_count": 235,
   "metadata": {},
   "outputs": [],
   "source": [
    "neworl0=neworl[neworl['LABEL']==0]\n",
    "neworl1=neworl[neworl['LABEL']==1]"
   ]
  },
  {
   "cell_type": "code",
   "execution_count": 236,
   "metadata": {},
   "outputs": [],
   "source": [
    "slidell0=slidell[slidell['LABEL']==0]\n",
    "slidell1=slidell[slidell['LABEL']==1]"
   ]
  },
  {
   "cell_type": "markdown",
   "metadata": {},
   "source": [
    "To know which label means that asset will be sold, let's do some research."
   ]
  },
  {
   "cell_type": "markdown",
   "metadata": {},
   "source": [
    "First of all let's explain variables."
   ]
  },
  {
   "cell_type": "code",
   "execution_count": 237,
   "metadata": {},
   "outputs": [
    {
     "data": {
      "text/plain": [
       "Index(['PROPERTY TAX AMOUNT', 'PRIOR LENGTH OF RESIDENCE',\n",
       "       'LAST MARKET SALE PRICE', 'PRIOR MARKET SALE PRICE',\n",
       "       'LENGTH OF RESIDENCE', 'LOT AREA', 'EQUITY ($)', 'IMPROVED %',\n",
       "       'LAND VALUE', 'TAX REDUCTION', 'IMPROVED VALUE', 'TOTAL ASSESSED VALUE',\n",
       "       'Deed (Reg)', 'Limited Warranty Deed', 'Quit Claim Deed',\n",
       "       'Special Warranty Deed', 'Ave', 'Blvd', 'Cir', 'Ct', 'Dr', 'Ln', 'Pl',\n",
       "       'Rd', 'St', 'GMMLABEL', 'LRLABEL', 'LABEL', 'PROB'],\n",
       "      dtype='object')"
      ]
     },
     "execution_count": 237,
     "metadata": {},
     "output_type": "execute_result"
    }
   ],
   "source": [
    "jeff.columns"
   ]
  },
  {
   "cell_type": "markdown",
   "metadata": {},
   "source": [
    " # 4. GOAL  METADATA\n",
    "PRIOR MARKET SALE PRICE   - money,that prior owner paid to buy asset.\\\n",
    "LAST MARKET SALE PRICE    - money,that prior owner paid to buy asset.\\\n",
    "PROPERTY TAX AMOUNT       - tax value for asset.\\\n",
    "PRIOR LENGTH OF RESIDENCE - lengt that prior resident owned asset (by mouths)\\\n",
    "LENGTH OF RESIDENCE       - lengt that last resident owns asset (by mouths)\\\n",
    "IMPROVED VALUS            - spent money for improving asset.\\\n",
    "IMPROVED %                - percentage of asset that improved.\\\n",
    "TOTAL ASSESSED VALUE      - value assigned to a property to measure applicable taxes.\\\n",
    "LOT AREA                  - total horizontal area within the lines of the lot.\\\n",
    "EQUITY ($)                - market value of asset.\\\n",
    "TAX REDUCTION             - reduced percentage of asset tax during years.\\\n",
    "LAND VALUE                - measure of how much a plot of land is worth.\\\n",
    "\n",
    "A property deed is a written and signed legal instrument that is used to transfer ownership of real property from the old owner to the new owner. \n",
    "\n",
    "A street suffix is the word that follows the name of a street to further describe that street."
   ]
  },
  {
   "cell_type": "code",
   "execution_count": 238,
   "metadata": {},
   "outputs": [],
   "source": [
    "pd.set_option('display.float_format', lambda x: '%.3f' % x)"
   ]
  },
  {
   "cell_type": "code",
   "execution_count": 239,
   "metadata": {},
   "outputs": [
    {
     "data": {
      "text/html": [
       "<div>\n",
       "<style scoped>\n",
       "    .dataframe tbody tr th:only-of-type {\n",
       "        vertical-align: middle;\n",
       "    }\n",
       "\n",
       "    .dataframe tbody tr th {\n",
       "        vertical-align: top;\n",
       "    }\n",
       "\n",
       "    .dataframe thead th {\n",
       "        text-align: right;\n",
       "    }\n",
       "</style>\n",
       "<table border=\"1\" class=\"dataframe\">\n",
       "  <thead>\n",
       "    <tr style=\"text-align: right;\">\n",
       "      <th></th>\n",
       "      <th>PROPERTY TAX AMOUNT</th>\n",
       "      <th>PRIOR LENGTH OF RESIDENCE</th>\n",
       "      <th>LAST MARKET SALE PRICE</th>\n",
       "      <th>PRIOR MARKET SALE PRICE</th>\n",
       "      <th>LENGTH OF RESIDENCE</th>\n",
       "      <th>LAND VALUE</th>\n",
       "      <th>LOT AREA</th>\n",
       "    </tr>\n",
       "  </thead>\n",
       "  <tbody>\n",
       "    <tr>\n",
       "      <td>count</td>\n",
       "      <td>-827.000</td>\n",
       "      <td>-827.000</td>\n",
       "      <td>-827.000</td>\n",
       "      <td>-827.000</td>\n",
       "      <td>-827.000</td>\n",
       "      <td>-827.000</td>\n",
       "      <td>-827.000</td>\n",
       "    </tr>\n",
       "    <tr>\n",
       "      <td>mean</td>\n",
       "      <td>6303.296</td>\n",
       "      <td>-29.691</td>\n",
       "      <td>925347.178</td>\n",
       "      <td>587011.964</td>\n",
       "      <td>0.318</td>\n",
       "      <td>9587.557</td>\n",
       "      <td>7305064.557</td>\n",
       "    </tr>\n",
       "    <tr>\n",
       "      <td>std</td>\n",
       "      <td>22390.905</td>\n",
       "      <td>-14.470</td>\n",
       "      <td>3034861.760</td>\n",
       "      <td>2270492.280</td>\n",
       "      <td>-1.188</td>\n",
       "      <td>34152.778</td>\n",
       "      <td>53993187.795</td>\n",
       "    </tr>\n",
       "    <tr>\n",
       "      <td>min</td>\n",
       "      <td>241.520</td>\n",
       "      <td>0.000</td>\n",
       "      <td>41000.000</td>\n",
       "      <td>17900.000</td>\n",
       "      <td>0.000</td>\n",
       "      <td>390.000</td>\n",
       "      <td>0.000</td>\n",
       "    </tr>\n",
       "    <tr>\n",
       "      <td>25%</td>\n",
       "      <td>559.527</td>\n",
       "      <td>-41.750</td>\n",
       "      <td>157000.000</td>\n",
       "      <td>28321.676</td>\n",
       "      <td>1.000</td>\n",
       "      <td>1170.000</td>\n",
       "      <td>10532.250</td>\n",
       "    </tr>\n",
       "    <tr>\n",
       "      <td>50%</td>\n",
       "      <td>1412.080</td>\n",
       "      <td>0.000</td>\n",
       "      <td>365000.000</td>\n",
       "      <td>0.000</td>\n",
       "      <td>1.000</td>\n",
       "      <td>2300.000</td>\n",
       "      <td>85930.500</td>\n",
       "    </tr>\n",
       "    <tr>\n",
       "      <td>75%</td>\n",
       "      <td>4246.780</td>\n",
       "      <td>-17.003</td>\n",
       "      <td>448020.000</td>\n",
       "      <td>335803.324</td>\n",
       "      <td>0.000</td>\n",
       "      <td>6627.500</td>\n",
       "      <td>225650.750</td>\n",
       "    </tr>\n",
       "    <tr>\n",
       "      <td>max</td>\n",
       "      <td>150753.020</td>\n",
       "      <td>-73.000</td>\n",
       "      <td>19386600.000</td>\n",
       "      <td>15355000.000</td>\n",
       "      <td>-63.000</td>\n",
       "      <td>240000.000</td>\n",
       "      <td>407802911.000</td>\n",
       "    </tr>\n",
       "  </tbody>\n",
       "</table>\n",
       "</div>"
      ],
      "text/plain": [
       "       PROPERTY TAX AMOUNT  PRIOR LENGTH OF RESIDENCE  LAST MARKET SALE PRICE  \\\n",
       "count             -827.000                   -827.000                -827.000   \n",
       "mean              6303.296                    -29.691              925347.178   \n",
       "std              22390.905                    -14.470             3034861.760   \n",
       "min                241.520                      0.000               41000.000   \n",
       "25%                559.527                    -41.750              157000.000   \n",
       "50%               1412.080                      0.000              365000.000   \n",
       "75%               4246.780                    -17.003              448020.000   \n",
       "max             150753.020                    -73.000            19386600.000   \n",
       "\n",
       "       PRIOR MARKET SALE PRICE  LENGTH OF RESIDENCE  LAND VALUE      LOT AREA  \n",
       "count                 -827.000             -827.000    -827.000      -827.000  \n",
       "mean                587011.964                0.318    9587.557   7305064.557  \n",
       "std                2270492.280               -1.188   34152.778  53993187.795  \n",
       "min                  17900.000                0.000     390.000         0.000  \n",
       "25%                  28321.676                1.000    1170.000     10532.250  \n",
       "50%                      0.000                1.000    2300.000     85930.500  \n",
       "75%                 335803.324                0.000    6627.500    225650.750  \n",
       "max               15355000.000              -63.000  240000.000 407802911.000  "
      ]
     },
     "execution_count": 239,
     "metadata": {},
     "output_type": "execute_result"
    }
   ],
   "source": [
    "(baton1.describe()-baton0.describe()).iloc[:,:7]"
   ]
  },
  {
   "cell_type": "code",
   "execution_count": 240,
   "metadata": {},
   "outputs": [
    {
     "data": {
      "text/html": [
       "<div>\n",
       "<style scoped>\n",
       "    .dataframe tbody tr th:only-of-type {\n",
       "        vertical-align: middle;\n",
       "    }\n",
       "\n",
       "    .dataframe tbody tr th {\n",
       "        vertical-align: top;\n",
       "    }\n",
       "\n",
       "    .dataframe thead th {\n",
       "        text-align: right;\n",
       "    }\n",
       "</style>\n",
       "<table border=\"1\" class=\"dataframe\">\n",
       "  <thead>\n",
       "    <tr style=\"text-align: right;\">\n",
       "      <th></th>\n",
       "      <th>PROPERTY TAX AMOUNT</th>\n",
       "      <th>PRIOR LENGTH OF RESIDENCE</th>\n",
       "      <th>LAST MARKET SALE PRICE</th>\n",
       "      <th>PRIOR MARKET SALE PRICE</th>\n",
       "      <th>LENGTH OF RESIDENCE</th>\n",
       "      <th>LOT AREA</th>\n",
       "      <th>EQUITY ($)</th>\n",
       "      <th>IMPROVED %</th>\n",
       "      <th>LAND VALUE</th>\n",
       "      <th>TAX REDUCTION</th>\n",
       "      <th>IMPROVED VALUE</th>\n",
       "      <th>TOTAL ASSESSED VALUE</th>\n",
       "    </tr>\n",
       "  </thead>\n",
       "  <tbody>\n",
       "    <tr>\n",
       "      <td>count</td>\n",
       "      <td>-441.000</td>\n",
       "      <td>-441.000</td>\n",
       "      <td>-441.000</td>\n",
       "      <td>-441.000</td>\n",
       "      <td>-441.000</td>\n",
       "      <td>-441.000</td>\n",
       "      <td>-441.000</td>\n",
       "      <td>-441.000</td>\n",
       "      <td>-441.000</td>\n",
       "      <td>-441.000</td>\n",
       "      <td>-441.000</td>\n",
       "      <td>-441.000</td>\n",
       "    </tr>\n",
       "    <tr>\n",
       "      <td>mean</td>\n",
       "      <td>4412.273</td>\n",
       "      <td>-1.622</td>\n",
       "      <td>364633.144</td>\n",
       "      <td>174315.714</td>\n",
       "      <td>0.079</td>\n",
       "      <td>199747116.124</td>\n",
       "      <td>380220.477</td>\n",
       "      <td>-10.460</td>\n",
       "      <td>11892.775</td>\n",
       "      <td>7.952</td>\n",
       "      <td>26536.390</td>\n",
       "      <td>38429.166</td>\n",
       "    </tr>\n",
       "    <tr>\n",
       "      <td>std</td>\n",
       "      <td>5502.780</td>\n",
       "      <td>15.005</td>\n",
       "      <td>255472.987</td>\n",
       "      <td>186445.687</td>\n",
       "      <td>0.317</td>\n",
       "      <td>404961975.826</td>\n",
       "      <td>250799.863</td>\n",
       "      <td>9.745</td>\n",
       "      <td>8112.915</td>\n",
       "      <td>29.284</td>\n",
       "      <td>45185.994</td>\n",
       "      <td>48710.387</td>\n",
       "    </tr>\n",
       "    <tr>\n",
       "      <td>min</td>\n",
       "      <td>756.370</td>\n",
       "      <td>0.000</td>\n",
       "      <td>19999.000</td>\n",
       "      <td>57320.000</td>\n",
       "      <td>0.000</td>\n",
       "      <td>0.000</td>\n",
       "      <td>22000.000</td>\n",
       "      <td>0.000</td>\n",
       "      <td>1750.000</td>\n",
       "      <td>1.000</td>\n",
       "      <td>0.000</td>\n",
       "      <td>5490.000</td>\n",
       "    </tr>\n",
       "    <tr>\n",
       "      <td>25%</td>\n",
       "      <td>1528.497</td>\n",
       "      <td>-46.500</td>\n",
       "      <td>178000.000</td>\n",
       "      <td>18843.798</td>\n",
       "      <td>-1.000</td>\n",
       "      <td>3705.000</td>\n",
       "      <td>182650.000</td>\n",
       "      <td>-24.250</td>\n",
       "      <td>4232.500</td>\n",
       "      <td>-2.000</td>\n",
       "      <td>1052.500</td>\n",
       "      <td>13342.500</td>\n",
       "    </tr>\n",
       "    <tr>\n",
       "      <td>50%</td>\n",
       "      <td>3083.740</td>\n",
       "      <td>17.555</td>\n",
       "      <td>355000.000</td>\n",
       "      <td>144156.202</td>\n",
       "      <td>1.500</td>\n",
       "      <td>2614.500</td>\n",
       "      <td>363400.000</td>\n",
       "      <td>-7.000</td>\n",
       "      <td>10895.000</td>\n",
       "      <td>-1.000</td>\n",
       "      <td>12700.000</td>\n",
       "      <td>25720.000</td>\n",
       "    </tr>\n",
       "    <tr>\n",
       "      <td>75%</td>\n",
       "      <td>5901.382</td>\n",
       "      <td>14.500</td>\n",
       "      <td>433098.750</td>\n",
       "      <td>218500.000</td>\n",
       "      <td>0.000</td>\n",
       "      <td>5889.000</td>\n",
       "      <td>562650.000</td>\n",
       "      <td>3.500</td>\n",
       "      <td>17265.000</td>\n",
       "      <td>3.000</td>\n",
       "      <td>38287.500</td>\n",
       "      <td>51870.000</td>\n",
       "    </tr>\n",
       "    <tr>\n",
       "      <td>max</td>\n",
       "      <td>25000.100</td>\n",
       "      <td>-48.000</td>\n",
       "      <td>890000.000</td>\n",
       "      <td>570000.000</td>\n",
       "      <td>-1.000</td>\n",
       "      <td>883476999.000</td>\n",
       "      <td>579300.000</td>\n",
       "      <td>-1.000</td>\n",
       "      <td>20530.000</td>\n",
       "      <td>124.000</td>\n",
       "      <td>195140.000</td>\n",
       "      <td>220460.000</td>\n",
       "    </tr>\n",
       "  </tbody>\n",
       "</table>\n",
       "</div>"
      ],
      "text/plain": [
       "       PROPERTY TAX AMOUNT  PRIOR LENGTH OF RESIDENCE  LAST MARKET SALE PRICE  \\\n",
       "count             -441.000                   -441.000                -441.000   \n",
       "mean              4412.273                     -1.622              364633.144   \n",
       "std               5502.780                     15.005              255472.987   \n",
       "min                756.370                      0.000               19999.000   \n",
       "25%               1528.497                    -46.500              178000.000   \n",
       "50%               3083.740                     17.555              355000.000   \n",
       "75%               5901.382                     14.500              433098.750   \n",
       "max              25000.100                    -48.000              890000.000   \n",
       "\n",
       "       PRIOR MARKET SALE PRICE  LENGTH OF RESIDENCE      LOT AREA  EQUITY ($)  \\\n",
       "count                 -441.000             -441.000      -441.000    -441.000   \n",
       "mean                174315.714                0.079 199747116.124  380220.477   \n",
       "std                 186445.687                0.317 404961975.826  250799.863   \n",
       "min                  57320.000                0.000         0.000   22000.000   \n",
       "25%                  18843.798               -1.000      3705.000  182650.000   \n",
       "50%                 144156.202                1.500      2614.500  363400.000   \n",
       "75%                 218500.000                0.000      5889.000  562650.000   \n",
       "max                 570000.000               -1.000 883476999.000  579300.000   \n",
       "\n",
       "       IMPROVED %  LAND VALUE  TAX REDUCTION  IMPROVED VALUE  \\\n",
       "count    -441.000    -441.000       -441.000        -441.000   \n",
       "mean      -10.460   11892.775          7.952       26536.390   \n",
       "std         9.745    8112.915         29.284       45185.994   \n",
       "min         0.000    1750.000          1.000           0.000   \n",
       "25%       -24.250    4232.500         -2.000        1052.500   \n",
       "50%        -7.000   10895.000         -1.000       12700.000   \n",
       "75%         3.500   17265.000          3.000       38287.500   \n",
       "max        -1.000   20530.000        124.000      195140.000   \n",
       "\n",
       "       TOTAL ASSESSED VALUE  \n",
       "count              -441.000  \n",
       "mean              38429.166  \n",
       "std               48710.387  \n",
       "min                5490.000  \n",
       "25%               13342.500  \n",
       "50%               25720.000  \n",
       "75%               51870.000  \n",
       "max              220460.000  "
      ]
     },
     "execution_count": 240,
     "metadata": {},
     "output_type": "execute_result"
    }
   ],
   "source": [
    "(jeff1.describe()-jeff0.describe()).iloc[:,:12]"
   ]
  },
  {
   "cell_type": "code",
   "execution_count": 241,
   "metadata": {},
   "outputs": [
    {
     "data": {
      "text/html": [
       "<div>\n",
       "<style scoped>\n",
       "    .dataframe tbody tr th:only-of-type {\n",
       "        vertical-align: middle;\n",
       "    }\n",
       "\n",
       "    .dataframe tbody tr th {\n",
       "        vertical-align: top;\n",
       "    }\n",
       "\n",
       "    .dataframe thead th {\n",
       "        text-align: right;\n",
       "    }\n",
       "</style>\n",
       "<table border=\"1\" class=\"dataframe\">\n",
       "  <thead>\n",
       "    <tr style=\"text-align: right;\">\n",
       "      <th></th>\n",
       "      <th>PROPERTY TAX AMOUNT</th>\n",
       "      <th>PRIOR LENGTH OF RESIDENCE</th>\n",
       "      <th>LAST MARKET SALE PRICE</th>\n",
       "      <th>PRIOR MARKET SALE PRICE</th>\n",
       "      <th>LENGTH OF RESIDENCE</th>\n",
       "      <th>EQUITY ($)</th>\n",
       "    </tr>\n",
       "  </thead>\n",
       "  <tbody>\n",
       "    <tr>\n",
       "      <td>count</td>\n",
       "      <td>-303.000</td>\n",
       "      <td>-303.000</td>\n",
       "      <td>-303.000</td>\n",
       "      <td>-303.000</td>\n",
       "      <td>-303.000</td>\n",
       "      <td>-303.000</td>\n",
       "    </tr>\n",
       "    <tr>\n",
       "      <td>mean</td>\n",
       "      <td>5589.513</td>\n",
       "      <td>-74.248</td>\n",
       "      <td>437732.497</td>\n",
       "      <td>280491.947</td>\n",
       "      <td>0.334</td>\n",
       "      <td>457783.413</td>\n",
       "    </tr>\n",
       "    <tr>\n",
       "      <td>std</td>\n",
       "      <td>4207.944</td>\n",
       "      <td>-46.117</td>\n",
       "      <td>320474.712</td>\n",
       "      <td>279971.972</td>\n",
       "      <td>-0.045</td>\n",
       "      <td>289999.579</td>\n",
       "    </tr>\n",
       "    <tr>\n",
       "      <td>min</td>\n",
       "      <td>1869.170</td>\n",
       "      <td>1.000</td>\n",
       "      <td>51300.000</td>\n",
       "      <td>35500.000</td>\n",
       "      <td>1.000</td>\n",
       "      <td>153787.000</td>\n",
       "    </tr>\n",
       "    <tr>\n",
       "      <td>25%</td>\n",
       "      <td>3889.915</td>\n",
       "      <td>-66.750</td>\n",
       "      <td>278750.000</td>\n",
       "      <td>107371.676</td>\n",
       "      <td>1.000</td>\n",
       "      <td>314214.750</td>\n",
       "    </tr>\n",
       "    <tr>\n",
       "      <td>50%</td>\n",
       "      <td>4327.045</td>\n",
       "      <td>-42.000</td>\n",
       "      <td>381000.000</td>\n",
       "      <td>220310.000</td>\n",
       "      <td>0.000</td>\n",
       "      <td>377909.000</td>\n",
       "    </tr>\n",
       "    <tr>\n",
       "      <td>75%</td>\n",
       "      <td>6016.020</td>\n",
       "      <td>-125.750</td>\n",
       "      <td>453500.000</td>\n",
       "      <td>323529.824</td>\n",
       "      <td>0.000</td>\n",
       "      <td>471362.500</td>\n",
       "    </tr>\n",
       "    <tr>\n",
       "      <td>max</td>\n",
       "      <td>29380.890</td>\n",
       "      <td>-425.000</td>\n",
       "      <td>1727945.000</td>\n",
       "      <td>2100000.000</td>\n",
       "      <td>0.000</td>\n",
       "      <td>1852711.000</td>\n",
       "    </tr>\n",
       "  </tbody>\n",
       "</table>\n",
       "</div>"
      ],
      "text/plain": [
       "       PROPERTY TAX AMOUNT  PRIOR LENGTH OF RESIDENCE  LAST MARKET SALE PRICE  \\\n",
       "count             -303.000                   -303.000                -303.000   \n",
       "mean              5589.513                    -74.248              437732.497   \n",
       "std               4207.944                    -46.117              320474.712   \n",
       "min               1869.170                      1.000               51300.000   \n",
       "25%               3889.915                    -66.750              278750.000   \n",
       "50%               4327.045                    -42.000              381000.000   \n",
       "75%               6016.020                   -125.750              453500.000   \n",
       "max              29380.890                   -425.000             1727945.000   \n",
       "\n",
       "       PRIOR MARKET SALE PRICE  LENGTH OF RESIDENCE  EQUITY ($)  \n",
       "count                 -303.000             -303.000    -303.000  \n",
       "mean                280491.947                0.334  457783.413  \n",
       "std                 279971.972               -0.045  289999.579  \n",
       "min                  35500.000                1.000  153787.000  \n",
       "25%                 107371.676                1.000  314214.750  \n",
       "50%                 220310.000                0.000  377909.000  \n",
       "75%                 323529.824                0.000  471362.500  \n",
       "max                2100000.000                0.000 1852711.000  "
      ]
     },
     "execution_count": 241,
     "metadata": {},
     "output_type": "execute_result"
    }
   ],
   "source": [
    "(neworl1.describe()-neworl0.describe()).iloc[:,:6]"
   ]
  },
  {
   "cell_type": "code",
   "execution_count": 242,
   "metadata": {},
   "outputs": [
    {
     "data": {
      "text/html": [
       "<div>\n",
       "<style scoped>\n",
       "    .dataframe tbody tr th:only-of-type {\n",
       "        vertical-align: middle;\n",
       "    }\n",
       "\n",
       "    .dataframe tbody tr th {\n",
       "        vertical-align: top;\n",
       "    }\n",
       "\n",
       "    .dataframe thead th {\n",
       "        text-align: right;\n",
       "    }\n",
       "</style>\n",
       "<table border=\"1\" class=\"dataframe\">\n",
       "  <thead>\n",
       "    <tr style=\"text-align: right;\">\n",
       "      <th></th>\n",
       "      <th>PROPERTY TAX AMOUNT</th>\n",
       "      <th>PRIOR LENGTH OF RESIDENCE</th>\n",
       "      <th>LAST MARKET SALE PRICE</th>\n",
       "      <th>PRIOR MARKET SALE PRICE</th>\n",
       "      <th>LENGTH OF RESIDENCE</th>\n",
       "      <th>EQUITY ($)</th>\n",
       "    </tr>\n",
       "  </thead>\n",
       "  <tbody>\n",
       "    <tr>\n",
       "      <td>count</td>\n",
       "      <td>-85.000</td>\n",
       "      <td>-85.000</td>\n",
       "      <td>-85.000</td>\n",
       "      <td>-85.000</td>\n",
       "      <td>-85.000</td>\n",
       "      <td>-85.000</td>\n",
       "    </tr>\n",
       "    <tr>\n",
       "      <td>mean</td>\n",
       "      <td>2082.840</td>\n",
       "      <td>5.848</td>\n",
       "      <td>215958.462</td>\n",
       "      <td>157.415</td>\n",
       "      <td>-0.011</td>\n",
       "      <td>165519.785</td>\n",
       "    </tr>\n",
       "    <tr>\n",
       "      <td>std</td>\n",
       "      <td>2490.483</td>\n",
       "      <td>3.445</td>\n",
       "      <td>362979.443</td>\n",
       "      <td>-340151.294</td>\n",
       "      <td>-0.758</td>\n",
       "      <td>113544.150</td>\n",
       "    </tr>\n",
       "    <tr>\n",
       "      <td>min</td>\n",
       "      <td>64.570</td>\n",
       "      <td>3.000</td>\n",
       "      <td>-35800.000</td>\n",
       "      <td>22000.000</td>\n",
       "      <td>1.000</td>\n",
       "      <td>38100.000</td>\n",
       "    </tr>\n",
       "    <tr>\n",
       "      <td>25%</td>\n",
       "      <td>422.082</td>\n",
       "      <td>27.500</td>\n",
       "      <td>-2500.000</td>\n",
       "      <td>46196.676</td>\n",
       "      <td>1.000</td>\n",
       "      <td>84650.000</td>\n",
       "    </tr>\n",
       "    <tr>\n",
       "      <td>50%</td>\n",
       "      <td>1276.970</td>\n",
       "      <td>0.000</td>\n",
       "      <td>156250.000</td>\n",
       "      <td>1182.543</td>\n",
       "      <td>1.000</td>\n",
       "      <td>129650.000</td>\n",
       "    </tr>\n",
       "    <tr>\n",
       "      <td>75%</td>\n",
       "      <td>3313.008</td>\n",
       "      <td>-4.000</td>\n",
       "      <td>325500.000</td>\n",
       "      <td>22620.781</td>\n",
       "      <td>-0.250</td>\n",
       "      <td>223250.000</td>\n",
       "    </tr>\n",
       "    <tr>\n",
       "      <td>max</td>\n",
       "      <td>10565.690</td>\n",
       "      <td>-2.000</td>\n",
       "      <td>1833500.000</td>\n",
       "      <td>-4086500.000</td>\n",
       "      <td>-14.000</td>\n",
       "      <td>430900.000</td>\n",
       "    </tr>\n",
       "  </tbody>\n",
       "</table>\n",
       "</div>"
      ],
      "text/plain": [
       "       PROPERTY TAX AMOUNT  PRIOR LENGTH OF RESIDENCE  LAST MARKET SALE PRICE  \\\n",
       "count              -85.000                    -85.000                 -85.000   \n",
       "mean              2082.840                      5.848              215958.462   \n",
       "std               2490.483                      3.445              362979.443   \n",
       "min                 64.570                      3.000              -35800.000   \n",
       "25%                422.082                     27.500               -2500.000   \n",
       "50%               1276.970                      0.000              156250.000   \n",
       "75%               3313.008                     -4.000              325500.000   \n",
       "max              10565.690                     -2.000             1833500.000   \n",
       "\n",
       "       PRIOR MARKET SALE PRICE  LENGTH OF RESIDENCE  EQUITY ($)  \n",
       "count                  -85.000              -85.000     -85.000  \n",
       "mean                   157.415               -0.011  165519.785  \n",
       "std                -340151.294               -0.758  113544.150  \n",
       "min                  22000.000                1.000   38100.000  \n",
       "25%                  46196.676                1.000   84650.000  \n",
       "50%                   1182.543                1.000  129650.000  \n",
       "75%                  22620.781               -0.250  223250.000  \n",
       "max               -4086500.000              -14.000  430900.000  "
      ]
     },
     "execution_count": 242,
     "metadata": {},
     "output_type": "execute_result"
    }
   ],
   "source": [
    "(slidell1.describe()-slidell0.describe()).iloc[:,:6]"
   ]
  },
  {
   "cell_type": "markdown",
   "metadata": {},
   "source": [
    "We can see above that class \"1\" assets are more expensive and bigger than label \"0\" assets, this means that thay will get more money if thay sell equity. Taxes are higher (to control urbanisation governments play with taxes, thay reduce tax in special area to promote living in that area). We also see that people ownes label \"1\" equities more long than label \"0\" equites. So we can conclude that , equities which have label \"1\" will sell their equity."
   ]
  },
  {
   "cell_type": "code",
   "execution_count": 243,
   "metadata": {},
   "outputs": [],
   "source": [
    "batonfin=baton.iloc[:,-2:]\n",
    "slidellfin=slidell.iloc[:,-2:]\n",
    "jefffin=jeff.iloc[:,-2:]\n",
    "neworlfin=neworl.iloc[:,-2:]"
   ]
  },
  {
   "cell_type": "code",
   "execution_count": 244,
   "metadata": {},
   "outputs": [
    {
     "data": {
      "text/html": [
       "<div>\n",
       "<style scoped>\n",
       "    .dataframe tbody tr th:only-of-type {\n",
       "        vertical-align: middle;\n",
       "    }\n",
       "\n",
       "    .dataframe tbody tr th {\n",
       "        vertical-align: top;\n",
       "    }\n",
       "\n",
       "    .dataframe thead th {\n",
       "        text-align: right;\n",
       "    }\n",
       "</style>\n",
       "<table border=\"1\" class=\"dataframe\">\n",
       "  <thead>\n",
       "    <tr style=\"text-align: right;\">\n",
       "      <th></th>\n",
       "      <th>LABEL</th>\n",
       "      <th>PROB</th>\n",
       "    </tr>\n",
       "    <tr>\n",
       "      <th>PROPERTY ADDRESS</th>\n",
       "      <th></th>\n",
       "      <th></th>\n",
       "    </tr>\n",
       "  </thead>\n",
       "  <tbody>\n",
       "    <tr>\n",
       "      <td>481</td>\n",
       "      <td>0</td>\n",
       "      <td>0.100</td>\n",
       "    </tr>\n",
       "    <tr>\n",
       "      <td>482</td>\n",
       "      <td>1</td>\n",
       "      <td>0.836</td>\n",
       "    </tr>\n",
       "    <tr>\n",
       "      <td>483</td>\n",
       "      <td>0</td>\n",
       "      <td>0.042</td>\n",
       "    </tr>\n",
       "    <tr>\n",
       "      <td>484</td>\n",
       "      <td>0</td>\n",
       "      <td>0.065</td>\n",
       "    </tr>\n",
       "    <tr>\n",
       "      <td>485</td>\n",
       "      <td>0</td>\n",
       "      <td>0.048</td>\n",
       "    </tr>\n",
       "    <tr>\n",
       "      <td>...</td>\n",
       "      <td>...</td>\n",
       "      <td>...</td>\n",
       "    </tr>\n",
       "    <tr>\n",
       "      <td>945</td>\n",
       "      <td>0</td>\n",
       "      <td>0.004</td>\n",
       "    </tr>\n",
       "    <tr>\n",
       "      <td>946</td>\n",
       "      <td>0</td>\n",
       "      <td>0.126</td>\n",
       "    </tr>\n",
       "    <tr>\n",
       "      <td>947</td>\n",
       "      <td>0</td>\n",
       "      <td>0.189</td>\n",
       "    </tr>\n",
       "    <tr>\n",
       "      <td>948</td>\n",
       "      <td>0</td>\n",
       "      <td>0.002</td>\n",
       "    </tr>\n",
       "    <tr>\n",
       "      <td>949</td>\n",
       "      <td>0</td>\n",
       "      <td>0.011</td>\n",
       "    </tr>\n",
       "  </tbody>\n",
       "</table>\n",
       "<p>469 rows × 2 columns</p>\n",
       "</div>"
      ],
      "text/plain": [
       "                  LABEL  PROB\n",
       "PROPERTY ADDRESS             \n",
       "481                   0 0.100\n",
       "482                   1 0.836\n",
       "483                   0 0.042\n",
       "484                   0 0.065\n",
       "485                   0 0.048\n",
       "...                 ...   ...\n",
       "945                   0 0.004\n",
       "946                   0 0.126\n",
       "947                   0 0.189\n",
       "948                   0 0.002\n",
       "949                   0 0.011\n",
       "\n",
       "[469 rows x 2 columns]"
      ]
     },
     "execution_count": 244,
     "metadata": {},
     "output_type": "execute_result"
    }
   ],
   "source": [
    "neworlfin"
   ]
  },
  {
   "cell_type": "code",
   "execution_count": 245,
   "metadata": {},
   "outputs": [],
   "source": [
    "fin=pd.concat([batonfin,slidellfin,jefffin,neworlfin])"
   ]
  },
  {
   "cell_type": "code",
   "execution_count": 246,
   "metadata": {},
   "outputs": [],
   "source": [
    "fin.sort_values(by=['PROB'],ascending=False,inplace=True)"
   ]
  },
  {
   "cell_type": "code",
   "execution_count": 247,
   "metadata": {},
   "outputs": [
    {
     "data": {
      "text/html": [
       "<div>\n",
       "<style scoped>\n",
       "    .dataframe tbody tr th:only-of-type {\n",
       "        vertical-align: middle;\n",
       "    }\n",
       "\n",
       "    .dataframe tbody tr th {\n",
       "        vertical-align: top;\n",
       "    }\n",
       "\n",
       "    .dataframe thead th {\n",
       "        text-align: right;\n",
       "    }\n",
       "</style>\n",
       "<table border=\"1\" class=\"dataframe\">\n",
       "  <thead>\n",
       "    <tr style=\"text-align: right;\">\n",
       "      <th></th>\n",
       "      <th>LABEL</th>\n",
       "      <th>PROB</th>\n",
       "    </tr>\n",
       "    <tr>\n",
       "      <th>PROPERTY ADDRESS</th>\n",
       "      <th></th>\n",
       "      <th></th>\n",
       "    </tr>\n",
       "  </thead>\n",
       "  <tbody>\n",
       "    <tr>\n",
       "      <td>80</td>\n",
       "      <td>1</td>\n",
       "      <td>1.000</td>\n",
       "    </tr>\n",
       "    <tr>\n",
       "      <td>889</td>\n",
       "      <td>1</td>\n",
       "      <td>1.000</td>\n",
       "    </tr>\n",
       "    <tr>\n",
       "      <td>841</td>\n",
       "      <td>1</td>\n",
       "      <td>1.000</td>\n",
       "    </tr>\n",
       "    <tr>\n",
       "      <td>974</td>\n",
       "      <td>1</td>\n",
       "      <td>1.000</td>\n",
       "    </tr>\n",
       "    <tr>\n",
       "      <td>527</td>\n",
       "      <td>1</td>\n",
       "      <td>1.000</td>\n",
       "    </tr>\n",
       "    <tr>\n",
       "      <td>...</td>\n",
       "      <td>...</td>\n",
       "      <td>...</td>\n",
       "    </tr>\n",
       "    <tr>\n",
       "      <td>1487</td>\n",
       "      <td>0</td>\n",
       "      <td>0.000</td>\n",
       "    </tr>\n",
       "    <tr>\n",
       "      <td>1542</td>\n",
       "      <td>0</td>\n",
       "      <td>0.000</td>\n",
       "    </tr>\n",
       "    <tr>\n",
       "      <td>1762</td>\n",
       "      <td>0</td>\n",
       "      <td>0.000</td>\n",
       "    </tr>\n",
       "    <tr>\n",
       "      <td>1383</td>\n",
       "      <td>0</td>\n",
       "      <td>0.000</td>\n",
       "    </tr>\n",
       "    <tr>\n",
       "      <td>1046</td>\n",
       "      <td>0</td>\n",
       "      <td>0.000</td>\n",
       "    </tr>\n",
       "  </tbody>\n",
       "</table>\n",
       "<p>2028 rows × 2 columns</p>\n",
       "</div>"
      ],
      "text/plain": [
       "                  LABEL  PROB\n",
       "PROPERTY ADDRESS             \n",
       "80                    1 1.000\n",
       "889                   1 1.000\n",
       "841                   1 1.000\n",
       "974                   1 1.000\n",
       "527                   1 1.000\n",
       "...                 ...   ...\n",
       "1487                  0 0.000\n",
       "1542                  0 0.000\n",
       "1762                  0 0.000\n",
       "1383                  0 0.000\n",
       "1046                  0 0.000\n",
       "\n",
       "[2028 rows x 2 columns]"
      ]
     },
     "execution_count": 247,
     "metadata": {},
     "output_type": "execute_result"
    }
   ],
   "source": [
    "fin"
   ]
  },
  {
   "cell_type": "code",
   "execution_count": 248,
   "metadata": {},
   "outputs": [
    {
     "data": {
      "text/plain": [
       "186"
      ]
     },
     "execution_count": 248,
     "metadata": {},
     "output_type": "execute_result"
    }
   ],
   "source": [
    "(fin[\"LABEL\"]==1).sum()"
   ]
  },
  {
   "cell_type": "markdown",
   "metadata": {},
   "source": [
    "So if we choose probability treshold 0.5, 182 owner will sell their equities.\n",
    "If client want other threshold, he or she can just input treshold below."
   ]
  },
  {
   "cell_type": "code",
   "execution_count": 249,
   "metadata": {},
   "outputs": [
    {
     "name": "stdout",
     "output_type": "stream",
     "text": [
      "Treshold 0.3\n"
     ]
    }
   ],
   "source": [
    "tr=input(\"Treshold \")"
   ]
  },
  {
   "cell_type": "code",
   "execution_count": 250,
   "metadata": {},
   "outputs": [],
   "source": [
    "fin['LABEL']=np.where(fin['PROB']>=float(tr), 1, 0)"
   ]
  },
  {
   "cell_type": "code",
   "execution_count": 251,
   "metadata": {},
   "outputs": [],
   "source": [
    "number_of_selling_equities=(fin[\"LABEL\"]==1).sum()"
   ]
  },
  {
   "cell_type": "markdown",
   "metadata": {},
   "source": [
    "# 2. GOAL"
   ]
  },
  {
   "cell_type": "code",
   "execution_count": 252,
   "metadata": {},
   "outputs": [
    {
     "data": {
      "text/plain": [
       "241"
      ]
     },
     "execution_count": 252,
     "metadata": {},
     "output_type": "execute_result"
    }
   ],
   "source": [
    "number_of_selling_equities"
   ]
  },
  {
   "cell_type": "code",
   "execution_count": 253,
   "metadata": {},
   "outputs": [],
   "source": [
    "last=fin[fin[\"LABEL\"]==1]"
   ]
  },
  {
   "cell_type": "code",
   "execution_count": 254,
   "metadata": {},
   "outputs": [],
   "source": [
    "selling_addresses=last.index.values"
   ]
  },
  {
   "cell_type": "code",
   "execution_count": 255,
   "metadata": {},
   "outputs": [
    {
     "data": {
      "text/plain": [
       "array([  80,  889,  841,  974,  527,  361,  313,  584,  271, 1082,  515,\n",
       "        894,  535,  464,  690,  975,  284,  494,  583,  751, 1065,  877,\n",
       "        865, 1740, 1083, 1951,  705,  640,  651, 1881,  632,  508,  907,\n",
       "        497,  896,  429,   99,  482, 1066,  695,  998, 1132,  653,  855,\n",
       "        294,  827,  626,  689, 1124,  818, 1053, 1007,  828, 1331,  615,\n",
       "        832,   38,  561,  939,  796, 2024, 1039, 1709,  375, 1472,  914,\n",
       "        641,  688,  578,  846,  930,  926,  606,  672, 1048, 1035,  863,\n",
       "        614,  803,  692,  546,  486,  531, 1319,  781,  301,  853,  745,\n",
       "       1891,  739, 1544,  852, 1049, 1729,  912,  495,  967,  937,  492,\n",
       "       1589, 1423,  838,  791, 1700,  549, 1146,  605,  559, 1532,  681,\n",
       "       1892, 1017,  570, 1553,  676, 1572, 1037, 1728, 1868, 1051,  942,\n",
       "        957,  746, 1145, 1055, 1095, 1694,  825,  685, 1060, 1113,  547,\n",
       "       1467,  976,  977, 1001, 1363,  859, 1131, 1485, 1119,  848,  587,\n",
       "        927, 1504, 1344,  200, 1593, 1019,  337,  234, 2016, 1888,  954,\n",
       "        255,  773,  422, 1358,  713, 1086, 1577,  265,  219, 1162, 1798,\n",
       "        789, 1296,  729, 1540, 1453, 1254, 1322,  814,  392, 1654, 1287,\n",
       "       1207, 1781, 1935, 2011,  591, 2000, 1530, 1418, 1610, 1858,  953,\n",
       "        883,  743, 1883,  943,  597,  302,  513,  968,  722, 1148,  141,\n",
       "        247,  600,  809,  717,  664,  732,  693,  443,  870,  118,  627,\n",
       "        489,   93,  568,  618,  886,  878,  270,  765,  756,  755,  775,\n",
       "        601,  854,  694,  216, 1464,  994, 1545,   30,  430,  979,  730,\n",
       "        925,  701,  941, 1057,  777,  659,  228,  935, 1050,  608])"
      ]
     },
     "execution_count": 255,
     "metadata": {},
     "output_type": "execute_result"
    }
   ],
   "source": [
    "selling_addresses"
   ]
  },
  {
   "cell_type": "code",
   "execution_count": 256,
   "metadata": {},
   "outputs": [],
   "source": [
    "del last[\"LABEL\"]"
   ]
  },
  {
   "cell_type": "markdown",
   "metadata": {},
   "source": [
    "# 1. GOAL"
   ]
  },
  {
   "cell_type": "code",
   "execution_count": 257,
   "metadata": {},
   "outputs": [
    {
     "data": {
      "text/html": [
       "<div>\n",
       "<style scoped>\n",
       "    .dataframe tbody tr th:only-of-type {\n",
       "        vertical-align: middle;\n",
       "    }\n",
       "\n",
       "    .dataframe tbody tr th {\n",
       "        vertical-align: top;\n",
       "    }\n",
       "\n",
       "    .dataframe thead th {\n",
       "        text-align: right;\n",
       "    }\n",
       "</style>\n",
       "<table border=\"1\" class=\"dataframe\">\n",
       "  <thead>\n",
       "    <tr style=\"text-align: right;\">\n",
       "      <th></th>\n",
       "      <th>PROB</th>\n",
       "    </tr>\n",
       "    <tr>\n",
       "      <th>PROPERTY ADDRESS</th>\n",
       "      <th></th>\n",
       "    </tr>\n",
       "  </thead>\n",
       "  <tbody>\n",
       "    <tr>\n",
       "      <td>80</td>\n",
       "      <td>1.000</td>\n",
       "    </tr>\n",
       "    <tr>\n",
       "      <td>889</td>\n",
       "      <td>1.000</td>\n",
       "    </tr>\n",
       "    <tr>\n",
       "      <td>841</td>\n",
       "      <td>1.000</td>\n",
       "    </tr>\n",
       "    <tr>\n",
       "      <td>974</td>\n",
       "      <td>1.000</td>\n",
       "    </tr>\n",
       "    <tr>\n",
       "      <td>527</td>\n",
       "      <td>1.000</td>\n",
       "    </tr>\n",
       "    <tr>\n",
       "      <td>...</td>\n",
       "      <td>...</td>\n",
       "    </tr>\n",
       "    <tr>\n",
       "      <td>659</td>\n",
       "      <td>0.304</td>\n",
       "    </tr>\n",
       "    <tr>\n",
       "      <td>228</td>\n",
       "      <td>0.303</td>\n",
       "    </tr>\n",
       "    <tr>\n",
       "      <td>935</td>\n",
       "      <td>0.303</td>\n",
       "    </tr>\n",
       "    <tr>\n",
       "      <td>1050</td>\n",
       "      <td>0.302</td>\n",
       "    </tr>\n",
       "    <tr>\n",
       "      <td>608</td>\n",
       "      <td>0.301</td>\n",
       "    </tr>\n",
       "  </tbody>\n",
       "</table>\n",
       "<p>241 rows × 1 columns</p>\n",
       "</div>"
      ],
      "text/plain": [
       "                  PROB\n",
       "PROPERTY ADDRESS      \n",
       "80               1.000\n",
       "889              1.000\n",
       "841              1.000\n",
       "974              1.000\n",
       "527              1.000\n",
       "...                ...\n",
       "659              0.304\n",
       "228              0.303\n",
       "935              0.303\n",
       "1050             0.302\n",
       "608              0.301\n",
       "\n",
       "[241 rows x 1 columns]"
      ]
     },
     "execution_count": 257,
     "metadata": {},
     "output_type": "execute_result"
    }
   ],
   "source": [
    "last"
   ]
  },
  {
   "cell_type": "markdown",
   "metadata": {},
   "source": [
    "# 3. GOAL \n",
    "I think this data is not worth of buying, because there are many missing values on it and unusfull columns. If there be other variables, for example how many people living in that house, their budget, distance from city center, it will be more usefull.\n",
    " "
   ]
  }
 ],
 "metadata": {
  "kernelspec": {
   "display_name": "Python 3",
   "language": "python",
   "name": "python3"
  },
  "language_info": {
   "codemirror_mode": {
    "name": "ipython",
    "version": 3
   },
   "file_extension": ".py",
   "mimetype": "text/x-python",
   "name": "python",
   "nbconvert_exporter": "python",
   "pygments_lexer": "ipython3",
   "version": "3.7.4"
  }
 },
 "nbformat": 4,
 "nbformat_minor": 2
}
