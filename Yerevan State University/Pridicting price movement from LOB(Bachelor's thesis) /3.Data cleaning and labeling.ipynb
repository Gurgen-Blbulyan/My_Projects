{
 "cells": [
  {
   "cell_type": "code",
   "execution_count": 1,
   "metadata": {},
   "outputs": [],
   "source": [
    "import pandas as pd\n",
    "import numpy as np\n",
    "import matplotlib.pyplot as plt\n",
    "from matplotlib.collections import LineCollection"
   ]
  },
  {
   "cell_type": "code",
   "execution_count": 2,
   "metadata": {},
   "outputs": [],
   "source": [
    "sell=pd.read_csv(\"sell.csv\")"
   ]
  },
  {
   "cell_type": "code",
   "execution_count": 3,
   "metadata": {},
   "outputs": [],
   "source": [
    "buy= pd.read_csv(\"buy.csv\")"
   ]
  },
  {
   "cell_type": "code",
   "execution_count": 4,
   "metadata": {},
   "outputs": [],
   "source": [
    "sell=sell.iloc[:,0:11]"
   ]
  },
  {
   "cell_type": "code",
   "execution_count": 5,
   "metadata": {},
   "outputs": [],
   "source": [
    "buy=buy.iloc[:,0:11]"
   ]
  },
  {
   "cell_type": "code",
   "execution_count": 6,
   "metadata": {},
   "outputs": [],
   "source": [
    "buy.replace(0,np.nan,inplace=True)"
   ]
  },
  {
   "cell_type": "code",
   "execution_count": 7,
   "metadata": {},
   "outputs": [],
   "source": [
    "sell.replace(0,np.nan,inplace=True)\n"
   ]
  },
  {
   "cell_type": "code",
   "execution_count": 8,
   "metadata": {},
   "outputs": [
    {
     "name": "stdout",
     "output_type": "stream",
     "text": [
      "99999.0\n",
      "99999.0\n",
      "99999.0\n",
      "99999.0\n",
      "130.0\n"
     ]
    }
   ],
   "source": [
    "print(sell['S_P1'].max())\n",
    "print(sell['S_P2'].max())\n",
    "print(sell['S_P3'].max())\n",
    "print(sell['S_P4'].max())\n",
    "print(sell['S_P5'].max())\n",
    "#print(sell['S_P6'].max())\n",
    "#print(sell['S_P7'].max())\n",
    "#print(sell['S_P8'].max())\n",
    "#print(sell['S_P9'].max())\n",
    "#print(sell['S_P10'].max())"
   ]
  },
  {
   "cell_type": "code",
   "execution_count": 9,
   "metadata": {},
   "outputs": [],
   "source": [
    "sell=sell[sell['S_P1']!=99999.0]\n",
    "sell=sell[sell['S_P2']!=99999.0]\n",
    "sell=sell[sell['S_P3']!=99999.0]\n",
    "sell=sell[sell['S_P4']!=99999.0]"
   ]
  },
  {
   "cell_type": "code",
   "execution_count": 10,
   "metadata": {},
   "outputs": [
    {
     "name": "stdout",
     "output_type": "stream",
     "text": [
      "180.88\n",
      "130.0\n",
      "125.0\n",
      "130.0\n",
      "130.0\n"
     ]
    }
   ],
   "source": [
    "print(sell['S_P1'].max())\n",
    "print(sell['S_P2'].max())\n",
    "print(sell['S_P3'].max())\n",
    "print(sell['S_P4'].max())\n",
    "print(sell['S_P5'].max())\n",
    "#print(sell['S_P6'].max())\n",
    "#print(sell['S_P7'].max())\n",
    "#print(sell['S_P8'].max())\n",
    "#print(sell['S_P9'].max())\n",
    "#print(sell['S_P10'].max())"
   ]
  },
  {
   "cell_type": "code",
   "execution_count": 11,
   "metadata": {},
   "outputs": [
    {
     "name": "stdout",
     "output_type": "stream",
     "text": [
      "0.005\n",
      "0.005\n",
      "0.005\n",
      "0.005\n",
      "0.005\n"
     ]
    }
   ],
   "source": [
    "print(buy['B_P1'].min())\n",
    "print(buy['B_P2'].min())\n",
    "print(buy['B_P3'].min())\n",
    "print(buy['B_P4'].min())\n",
    "print(buy['B_P5'].min())\n",
    "#print(buy['B_P6'].min())\n",
    "#print(buy['B_P7'].min())\n",
    "#print(buy['B_P8'].min())\n",
    "#print(buy['B_P9'].min())\n",
    "#print(buy['B_P10'].min())"
   ]
  },
  {
   "cell_type": "code",
   "execution_count": 12,
   "metadata": {},
   "outputs": [],
   "source": [
    "buy=buy[buy['B_P1']!=0.005]\n",
    "buy=buy[buy['B_P2']!=0.005]\n",
    "buy=buy[buy['B_P3']!=0.005]\n",
    "buy=buy[buy['B_P4']!=0.005]\n",
    "buy=buy[buy['B_P5']!=0.005]\n",
    "#buy=buy[buy['B_P9']!=1.0]\n",
    "#buy=buy[buy['B_P10']!=1.0]"
   ]
  },
  {
   "cell_type": "code",
   "execution_count": 13,
   "metadata": {},
   "outputs": [
    {
     "name": "stdout",
     "output_type": "stream",
     "text": [
      "0.01\n",
      "0.01\n",
      "58.11\n",
      "0.01\n",
      "57.93\n"
     ]
    }
   ],
   "source": [
    "print(buy['B_P1'].min())\n",
    "print(buy['B_P2'].min())\n",
    "print(buy['B_P3'].min())\n",
    "print(buy['B_P4'].min())\n",
    "print(buy['B_P5'].min())\n",
    "#print(buy['B_P6'].min())\n",
    "#print(buy['B_P7'].min())\n",
    "#print(buy['B_P8'].min())\n",
    "#print(buy['B_P9'].min())\n",
    "#print(buy['B_P10'].min())"
   ]
  },
  {
   "cell_type": "code",
   "execution_count": 14,
   "metadata": {},
   "outputs": [],
   "source": [
    "buy=buy[buy['B_P1']!=0.01]\n",
    "buy=buy[buy['B_P2']!=0.01]\n",
    "buy=buy[buy['B_P4']!=0.01]"
   ]
  },
  {
   "cell_type": "code",
   "execution_count": 15,
   "metadata": {},
   "outputs": [
    {
     "name": "stdout",
     "output_type": "stream",
     "text": [
      "1.0\n",
      "78.78\n",
      "57.96\n"
     ]
    }
   ],
   "source": [
    "print(buy['B_P1'].min())\n",
    "print(buy['B_P2'].min())\n",
    "print(buy['B_P4'].min())\n"
   ]
  },
  {
   "cell_type": "code",
   "execution_count": 16,
   "metadata": {},
   "outputs": [],
   "source": [
    "buy=buy[buy['B_P1']!=1.0]"
   ]
  },
  {
   "cell_type": "code",
   "execution_count": 17,
   "metadata": {},
   "outputs": [
    {
     "name": "stdout",
     "output_type": "stream",
     "text": [
      "3.0\n"
     ]
    }
   ],
   "source": [
    "print(buy['B_P1'].min())"
   ]
  },
  {
   "cell_type": "code",
   "execution_count": 18,
   "metadata": {},
   "outputs": [],
   "source": [
    "buy=buy[buy['B_P1']!=3.0]"
   ]
  },
  {
   "cell_type": "code",
   "execution_count": 19,
   "metadata": {},
   "outputs": [
    {
     "name": "stdout",
     "output_type": "stream",
     "text": [
      "10.32\n"
     ]
    }
   ],
   "source": [
    "print(buy['B_P1'].min())"
   ]
  },
  {
   "cell_type": "code",
   "execution_count": 20,
   "metadata": {},
   "outputs": [
    {
     "data": {
      "text/plain": [
       "[<matplotlib.lines.Line2D at 0x109741cd0>]"
      ]
     },
     "execution_count": 20,
     "metadata": {},
     "output_type": "execute_result"
    },
    {
     "data": {
      "image/png": "[encoded data removed]",
      "text/plain": [
       "<Figure size 432x288 with 1 Axes>"
      ]
     },
     "metadata": {
      "needs_background": "light"
     },
     "output_type": "display_data"
    }
   ],
   "source": [
    "plt.plot(buy['B_P1'])"
   ]
  },
  {
   "cell_type": "code",
   "execution_count": 21,
   "metadata": {},
   "outputs": [
    {
     "data": {
      "text/html": [
       "<div>\n",
       "<style scoped>\n",
       "    .dataframe tbody tr th:only-of-type {\n",
       "        vertical-align: middle;\n",
       "    }\n",
       "\n",
       "    .dataframe tbody tr th {\n",
       "        vertical-align: top;\n",
       "    }\n",
       "\n",
       "    .dataframe thead th {\n",
       "        text-align: right;\n",
       "    }\n",
       "</style>\n",
       "<table border=\"1\" class=\"dataframe\">\n",
       "  <thead>\n",
       "    <tr style=\"text-align: right;\">\n",
       "      <th></th>\n",
       "      <th>Time</th>\n",
       "      <th>B_P1</th>\n",
       "      <th>B_V1</th>\n",
       "      <th>B_P2</th>\n",
       "      <th>B_V2</th>\n",
       "      <th>B_P3</th>\n",
       "      <th>B_V3</th>\n",
       "      <th>B_P4</th>\n",
       "      <th>B_V4</th>\n",
       "      <th>B_P5</th>\n",
       "      <th>B_V5</th>\n",
       "    </tr>\n",
       "  </thead>\n",
       "  <tbody>\n",
       "    <tr>\n",
       "      <td>52045</td>\n",
       "      <td>2019/11/08 14:06:43.711</td>\n",
       "      <td>10.32</td>\n",
       "      <td>400.0</td>\n",
       "      <td>NaN</td>\n",
       "      <td>NaN</td>\n",
       "      <td>NaN</td>\n",
       "      <td>NaN</td>\n",
       "      <td>NaN</td>\n",
       "      <td>NaN</td>\n",
       "      <td>NaN</td>\n",
       "      <td>NaN</td>\n",
       "    </tr>\n",
       "  </tbody>\n",
       "</table>\n",
       "</div>"
      ],
      "text/plain": [
       "                          Time   B_P1   B_V1  B_P2  B_V2  B_P3  B_V3  B_P4  \\\n",
       "52045  2019/11/08 14:06:43.711  10.32  400.0   NaN   NaN   NaN   NaN   NaN   \n",
       "\n",
       "       B_V4  B_P5  B_V5  \n",
       "52045   NaN   NaN   NaN  "
      ]
     },
     "execution_count": 21,
     "metadata": {},
     "output_type": "execute_result"
    }
   ],
   "source": [
    "buy[buy['B_P1']==10.32]"
   ]
  },
  {
   "cell_type": "code",
   "execution_count": 22,
   "metadata": {},
   "outputs": [],
   "source": [
    "buy=buy[buy['B_P1']!=10.32]"
   ]
  },
  {
   "cell_type": "code",
   "execution_count": 23,
   "metadata": {},
   "outputs": [
    {
     "name": "stdout",
     "output_type": "stream",
     "text": [
      "10.39\n"
     ]
    }
   ],
   "source": [
    "print(buy['B_P1'].min())"
   ]
  },
  {
   "cell_type": "code",
   "execution_count": 24,
   "metadata": {},
   "outputs": [],
   "source": [
    "buy=buy[buy['B_P1']!=10.39]"
   ]
  },
  {
   "cell_type": "code",
   "execution_count": 25,
   "metadata": {},
   "outputs": [
    {
     "name": "stdout",
     "output_type": "stream",
     "text": [
      "36.7\n"
     ]
    }
   ],
   "source": [
    "print(buy['B_P1'].min())"
   ]
  },
  {
   "cell_type": "code",
   "execution_count": 26,
   "metadata": {},
   "outputs": [],
   "source": [
    "c=sell.columns"
   ]
  },
  {
   "cell_type": "code",
   "execution_count": 27,
   "metadata": {},
   "outputs": [],
   "source": [
    "p=np.array([])\n",
    "for i in range(0,len(c)):\n",
    "    if i%2==1:\n",
    "        p=np.append(p,c[i])"
   ]
  },
  {
   "cell_type": "code",
   "execution_count": 28,
   "metadata": {},
   "outputs": [],
   "source": [
    "v=np.array([])\n",
    "for i in range(1,len(c)):\n",
    "    if i%2==0:\n",
    "        v=np.append(v,c[i])"
   ]
  },
  {
   "cell_type": "code",
   "execution_count": 29,
   "metadata": {},
   "outputs": [],
   "source": [
    "sp=sell.loc[:,p]"
   ]
  },
  {
   "cell_type": "code",
   "execution_count": 30,
   "metadata": {},
   "outputs": [],
   "source": [
    "sv=sell.loc[:,v]"
   ]
  },
  {
   "cell_type": "code",
   "execution_count": 31,
   "metadata": {},
   "outputs": [],
   "source": [
    "w=buy.columns"
   ]
  },
  {
   "cell_type": "code",
   "execution_count": 32,
   "metadata": {},
   "outputs": [],
   "source": [
    "p=np.array([])\n",
    "for i in range(0,len(w)):\n",
    "    if i%2==1:\n",
    "        p=np.append(p,w[i])"
   ]
  },
  {
   "cell_type": "code",
   "execution_count": 33,
   "metadata": {},
   "outputs": [],
   "source": [
    "v=np.array([])\n",
    "for i in range(1,len(w)):\n",
    "    if i%2==0:\n",
    "        v=np.append(v,w[i])"
   ]
  },
  {
   "cell_type": "code",
   "execution_count": 34,
   "metadata": {},
   "outputs": [],
   "source": [
    "bp=buy.loc[:,p]"
   ]
  },
  {
   "cell_type": "code",
   "execution_count": 35,
   "metadata": {},
   "outputs": [],
   "source": [
    "bv=buy.loc[:,v]"
   ]
  },
  {
   "cell_type": "code",
   "execution_count": 36,
   "metadata": {},
   "outputs": [],
   "source": [
    "bp.fillna(axis=1,method='ffill',inplace=True)"
   ]
  },
  {
   "cell_type": "code",
   "execution_count": 37,
   "metadata": {},
   "outputs": [],
   "source": [
    "sp.fillna(axis=1,method='ffill',inplace=True)"
   ]
  },
  {
   "cell_type": "code",
   "execution_count": 38,
   "metadata": {},
   "outputs": [],
   "source": [
    "sv=sv.T.fillna(sv.T.mean()).T"
   ]
  },
  {
   "cell_type": "code",
   "execution_count": 39,
   "metadata": {},
   "outputs": [],
   "source": [
    "bv=bv.T.fillna(bv.T.mean()).T"
   ]
  },
  {
   "cell_type": "code",
   "execution_count": 40,
   "metadata": {},
   "outputs": [],
   "source": [
    "bv['Time']=buy['Time']"
   ]
  },
  {
   "cell_type": "code",
   "execution_count": 41,
   "metadata": {},
   "outputs": [],
   "source": [
    "bp['Time']=buy['Time']"
   ]
  },
  {
   "cell_type": "code",
   "execution_count": 42,
   "metadata": {},
   "outputs": [],
   "source": [
    "sv['Time']=sell['Time']"
   ]
  },
  {
   "cell_type": "code",
   "execution_count": 43,
   "metadata": {},
   "outputs": [],
   "source": [
    "sp['Time']=sell['Time']"
   ]
  },
  {
   "cell_type": "code",
   "execution_count": 44,
   "metadata": {},
   "outputs": [],
   "source": [
    "bv.set_index('Time',inplace=True)\n",
    "bp.set_index('Time',inplace=True)\n",
    "sv.set_index('Time',inplace=True)\n",
    "sp.set_index('Time',inplace=True)"
   ]
  },
  {
   "cell_type": "code",
   "execution_count": 45,
   "metadata": {},
   "outputs": [],
   "source": [
    "bv = bv.loc[~bv.index.duplicated(keep='first')]\n",
    "bp = bp.loc[~bp.index.duplicated(keep='first')]\n",
    "sv = sv.loc[~sv.index.duplicated(keep='first')]\n",
    "sp = sp.loc[~sp.index.duplicated(keep='first')]"
   ]
  },
  {
   "cell_type": "code",
   "execution_count": 46,
   "metadata": {},
   "outputs": [],
   "source": [
    "bb = pd.concat([bp, bv], axis=1)\n",
    "ss = pd.concat([sp, sv], axis=1)"
   ]
  },
  {
   "cell_type": "code",
   "execution_count": 47,
   "metadata": {},
   "outputs": [],
   "source": [
    "data=pd.concat([bb, ss], axis=1, sort=True)"
   ]
  },
  {
   "cell_type": "code",
   "execution_count": 48,
   "metadata": {},
   "outputs": [],
   "source": [
    "data1=data.dropna()"
   ]
  },
  {
   "cell_type": "code",
   "execution_count": 49,
   "metadata": {},
   "outputs": [],
   "source": [
    "data=data.fillna(axis=0,method='bfill').fillna(axis=0,method='ffill')"
   ]
  },
  {
   "cell_type": "code",
   "execution_count": 50,
   "metadata": {},
   "outputs": [],
   "source": [
    "data['Price']=(data['S_P1']+data['B_P1'])/2"
   ]
  },
  {
   "cell_type": "code",
   "execution_count": 51,
   "metadata": {},
   "outputs": [],
   "source": [
    "data1['Price']=(data1['S_P1']+data1['B_P1'])/2"
   ]
  },
  {
   "cell_type": "code",
   "execution_count": 52,
   "metadata": {},
   "outputs": [],
   "source": [
    "def labeling(frame,alpha,horizon):\n",
    "    data=frame['Price']\n",
    "    v=np.array([])\n",
    "    for i in range(horizon,len(data)-horizon):\n",
    "        m1=data[i-horizon:i].mean()\n",
    "        m2=data[i:i+horizon].mean()\n",
    "        m=(m2-m1)/m1\n",
    "        v=np.append(v,m)\n",
    "    l1=np.where(v>alpha,1,0)\n",
    "    l2=np.where(v<-alpha,-1,0)\n",
    "    l=pd.Series(l1+l2)\n",
    "    \n",
    "    j=pd.Series(np.zeros(frame.shape[0]-len(l))).replace(0,np.nan)\n",
    "    l=l.append(j,ignore_index=True)\n",
    "    h=l.shift(horizon)\n",
    "    h.name='Label'\n",
    "    frame[\"Time\"]=frame.index\n",
    "    frame.reset_index(drop=True,inplace=True)\n",
    "    y=pd.concat([frame, h], axis=1,ignore_index=False)\n",
    "    y.set_index('Time',inplace=True)\n",
    "    y=y.dropna()\n",
    "    return y"
   ]
  },
  {
   "cell_type": "code",
   "execution_count": 53,
   "metadata": {},
   "outputs": [],
   "source": [
    "def labeling1(frame,alpha,horizon):\n",
    "    data=frame['Price']\n",
    "    v=np.array([])\n",
    "    for i in range(len(data)-horizon):\n",
    "        m1=data[i]\n",
    "        m2=data[i:i+horizon].mean()\n",
    "        m=(m2-m1)/m1\n",
    "        v=np.append(v,m)\n",
    "    l1=np.where(v>alpha,1,0)\n",
    "    l2=np.where(v<-alpha,-1,0)\n",
    "    l=pd.Series(l1+l2)\n",
    "    \n",
    "\n",
    "    frame[\"Time\"]=frame.index\n",
    "    frame.reset_index(drop=True,inplace=True)\n",
    "    l.name='Label'\n",
    "    y=pd.concat([frame, l], axis=1,ignore_index=False)\n",
    "    y.set_index('Time',inplace=True)\n",
    "    y=y.dropna()\n",
    "    return y"
   ]
  },
  {
   "cell_type": "code",
   "execution_count": 54,
   "metadata": {},
   "outputs": [],
   "source": [
    "def labeling2(frame,alpha,horizon):\n",
    "    data=frame['Price']\n",
    "    v=np.array([])\n",
    "    for i in range(len(data)-horizon):\n",
    "        m1=data[i]\n",
    "        m2=data[i-horizon:i].mean()\n",
    "        m=(m1-m2)/m2\n",
    "        v=np.append(v,m)\n",
    "    l1=np.where(v>alpha,1,0)\n",
    "    l2=np.where(v<-alpha,-1,0)\n",
    "    l=pd.Series(l1+l2)\n",
    "    \n",
    "\n",
    "    j=pd.Series(np.zeros(frame.shape[0]-len(l))).replace(0,np.nan)\n",
    "    l=l.append(j,ignore_index=True)\n",
    "    h=l.shift(horizon)\n",
    "    h.name='Label'\n",
    "    frame[\"Time\"]=frame.index\n",
    "    frame.reset_index(drop=True,inplace=True)\n",
    "    y=pd.concat([frame, h], axis=1,ignore_index=False)\n",
    "    y.set_index('Time',inplace=True)\n",
    "    y=y.dropna()\n",
    "    return y"
   ]
  },
  {
   "cell_type": "code",
   "execution_count": 56,
   "metadata": {},
   "outputs": [],
   "source": [
    "def labeling3(frame,alpha,horizon):\n",
    "    data=frame['Price']\n",
    "    v=np.array([])\n",
    "    for i in range(horizon,len(data)):\n",
    "        m1=data[i]\n",
    "        m2=data[i-horizon]\n",
    "        m=(m1-m2)/m2\n",
    "        v=np.append(v,m)\n",
    "    l1=np.where(v>alpha,1,0)\n",
    "    l2=np.where(v<-alpha,-1,0)\n",
    "    l=pd.Series(l1+l2)\n",
    "    \n",
    "\n",
    "    j=pd.Series(np.zeros(frame.shape[0]-len(l))).replace(0,np.nan)\n",
    "    l=l.append(j,ignore_index=True)\n",
    "    h=l.shift(horizon)\n",
    "    h.name='Label'\n",
    "    frame[\"Time\"]=frame.index\n",
    "    frame.reset_index(drop=True,inplace=True)\n",
    "    y=pd.concat([frame, h], axis=1,ignore_index=False)\n",
    "    y.set_index('Time',inplace=True)\n",
    "    y=y.dropna()\n",
    "    return y"
   ]
  },
  {
   "cell_type": "code",
   "execution_count": 128,
   "metadata": {},
   "outputs": [],
   "source": [
    "fff=labeling(data,0.0001,50)"
   ]
  },
  {
   "cell_type": "code",
   "execution_count": 136,
   "metadata": {},
   "outputs": [],
   "source": [
    "ggg=labeling3(data1,0.0001,1)"
   ]
  },
  {
   "cell_type": "code",
   "execution_count": 64,
   "metadata": {},
   "outputs": [],
   "source": [
    "kkk=labeling3(data1,0.0001,5)"
   ]
  },
  {
   "cell_type": "code",
   "execution_count": 137,
   "metadata": {},
   "outputs": [
    {
     "data": {
      "text/html": [
       "<div>\n",
       "<style scoped>\n",
       "    .dataframe tbody tr th:only-of-type {\n",
       "        vertical-align: middle;\n",
       "    }\n",
       "\n",
       "    .dataframe tbody tr th {\n",
       "        vertical-align: top;\n",
       "    }\n",
       "\n",
       "    .dataframe thead th {\n",
       "        text-align: right;\n",
       "    }\n",
       "</style>\n",
       "<table border=\"1\" class=\"dataframe\">\n",
       "  <thead>\n",
       "    <tr style=\"text-align: right;\">\n",
       "      <th></th>\n",
       "      <th>B_P1</th>\n",
       "      <th>B_P2</th>\n",
       "      <th>B_P3</th>\n",
       "      <th>B_P4</th>\n",
       "      <th>B_P5</th>\n",
       "      <th>B_V1</th>\n",
       "      <th>B_V2</th>\n",
       "      <th>B_V3</th>\n",
       "      <th>B_V4</th>\n",
       "      <th>B_V5</th>\n",
       "      <th>...</th>\n",
       "      <th>S_P3</th>\n",
       "      <th>S_P4</th>\n",
       "      <th>S_P5</th>\n",
       "      <th>S_V1</th>\n",
       "      <th>S_V2</th>\n",
       "      <th>S_V3</th>\n",
       "      <th>S_V4</th>\n",
       "      <th>S_V5</th>\n",
       "      <th>Price</th>\n",
       "      <th>Label</th>\n",
       "    </tr>\n",
       "    <tr>\n",
       "      <th>Time</th>\n",
       "      <th></th>\n",
       "      <th></th>\n",
       "      <th></th>\n",
       "      <th></th>\n",
       "      <th></th>\n",
       "      <th></th>\n",
       "      <th></th>\n",
       "      <th></th>\n",
       "      <th></th>\n",
       "      <th></th>\n",
       "      <th></th>\n",
       "      <th></th>\n",
       "      <th></th>\n",
       "      <th></th>\n",
       "      <th></th>\n",
       "      <th></th>\n",
       "      <th></th>\n",
       "      <th></th>\n",
       "      <th></th>\n",
       "      <th></th>\n",
       "      <th></th>\n",
       "    </tr>\n",
       "  </thead>\n",
       "  <tbody>\n",
       "    <tr>\n",
       "      <td>1</td>\n",
       "      <td>108.25</td>\n",
       "      <td>108.25</td>\n",
       "      <td>108.25</td>\n",
       "      <td>108.25</td>\n",
       "      <td>108.25</td>\n",
       "      <td>2400.0</td>\n",
       "      <td>2200.0</td>\n",
       "      <td>1600.0</td>\n",
       "      <td>2100.0</td>\n",
       "      <td>1900.0</td>\n",
       "      <td>...</td>\n",
       "      <td>108.25</td>\n",
       "      <td>108.25</td>\n",
       "      <td>108.25</td>\n",
       "      <td>200.0</td>\n",
       "      <td>400.0</td>\n",
       "      <td>300.0</td>\n",
       "      <td>100.0</td>\n",
       "      <td>100.0</td>\n",
       "      <td>108.250</td>\n",
       "      <td>0.0</td>\n",
       "    </tr>\n",
       "    <tr>\n",
       "      <td>2</td>\n",
       "      <td>108.02</td>\n",
       "      <td>107.88</td>\n",
       "      <td>107.88</td>\n",
       "      <td>107.88</td>\n",
       "      <td>107.88</td>\n",
       "      <td>500.0</td>\n",
       "      <td>2200.0</td>\n",
       "      <td>1350.0</td>\n",
       "      <td>1350.0</td>\n",
       "      <td>1350.0</td>\n",
       "      <td>...</td>\n",
       "      <td>108.29</td>\n",
       "      <td>108.29</td>\n",
       "      <td>108.29</td>\n",
       "      <td>500.0</td>\n",
       "      <td>500.0</td>\n",
       "      <td>500.0</td>\n",
       "      <td>500.0</td>\n",
       "      <td>500.0</td>\n",
       "      <td>108.155</td>\n",
       "      <td>-1.0</td>\n",
       "    </tr>\n",
       "    <tr>\n",
       "      <td>3</td>\n",
       "      <td>108.18</td>\n",
       "      <td>108.18</td>\n",
       "      <td>108.18</td>\n",
       "      <td>108.18</td>\n",
       "      <td>108.18</td>\n",
       "      <td>200.0</td>\n",
       "      <td>200.0</td>\n",
       "      <td>200.0</td>\n",
       "      <td>200.0</td>\n",
       "      <td>200.0</td>\n",
       "      <td>...</td>\n",
       "      <td>108.31</td>\n",
       "      <td>108.31</td>\n",
       "      <td>108.31</td>\n",
       "      <td>200.0</td>\n",
       "      <td>200.0</td>\n",
       "      <td>200.0</td>\n",
       "      <td>200.0</td>\n",
       "      <td>200.0</td>\n",
       "      <td>108.245</td>\n",
       "      <td>1.0</td>\n",
       "    </tr>\n",
       "    <tr>\n",
       "      <td>4</td>\n",
       "      <td>108.22</td>\n",
       "      <td>108.22</td>\n",
       "      <td>108.22</td>\n",
       "      <td>108.22</td>\n",
       "      <td>108.22</td>\n",
       "      <td>100.0</td>\n",
       "      <td>100.0</td>\n",
       "      <td>100.0</td>\n",
       "      <td>100.0</td>\n",
       "      <td>100.0</td>\n",
       "      <td>...</td>\n",
       "      <td>108.28</td>\n",
       "      <td>108.28</td>\n",
       "      <td>108.28</td>\n",
       "      <td>100.0</td>\n",
       "      <td>100.0</td>\n",
       "      <td>100.0</td>\n",
       "      <td>100.0</td>\n",
       "      <td>100.0</td>\n",
       "      <td>108.250</td>\n",
       "      <td>0.0</td>\n",
       "    </tr>\n",
       "    <tr>\n",
       "      <td>5</td>\n",
       "      <td>108.26</td>\n",
       "      <td>108.26</td>\n",
       "      <td>108.26</td>\n",
       "      <td>108.26</td>\n",
       "      <td>108.26</td>\n",
       "      <td>100.0</td>\n",
       "      <td>100.0</td>\n",
       "      <td>100.0</td>\n",
       "      <td>100.0</td>\n",
       "      <td>100.0</td>\n",
       "      <td>...</td>\n",
       "      <td>108.26</td>\n",
       "      <td>108.26</td>\n",
       "      <td>108.26</td>\n",
       "      <td>100.0</td>\n",
       "      <td>100.0</td>\n",
       "      <td>100.0</td>\n",
       "      <td>100.0</td>\n",
       "      <td>100.0</td>\n",
       "      <td>108.260</td>\n",
       "      <td>0.0</td>\n",
       "    </tr>\n",
       "    <tr>\n",
       "      <td>...</td>\n",
       "      <td>...</td>\n",
       "      <td>...</td>\n",
       "      <td>...</td>\n",
       "      <td>...</td>\n",
       "      <td>...</td>\n",
       "      <td>...</td>\n",
       "      <td>...</td>\n",
       "      <td>...</td>\n",
       "      <td>...</td>\n",
       "      <td>...</td>\n",
       "      <td>...</td>\n",
       "      <td>...</td>\n",
       "      <td>...</td>\n",
       "      <td>...</td>\n",
       "      <td>...</td>\n",
       "      <td>...</td>\n",
       "      <td>...</td>\n",
       "      <td>...</td>\n",
       "      <td>...</td>\n",
       "      <td>...</td>\n",
       "      <td>...</td>\n",
       "    </tr>\n",
       "    <tr>\n",
       "      <td>43956</td>\n",
       "      <td>108.66</td>\n",
       "      <td>108.66</td>\n",
       "      <td>108.66</td>\n",
       "      <td>108.66</td>\n",
       "      <td>108.66</td>\n",
       "      <td>100.0</td>\n",
       "      <td>100.0</td>\n",
       "      <td>100.0</td>\n",
       "      <td>100.0</td>\n",
       "      <td>100.0</td>\n",
       "      <td>...</td>\n",
       "      <td>109.03</td>\n",
       "      <td>109.03</td>\n",
       "      <td>109.03</td>\n",
       "      <td>100.0</td>\n",
       "      <td>100.0</td>\n",
       "      <td>100.0</td>\n",
       "      <td>100.0</td>\n",
       "      <td>100.0</td>\n",
       "      <td>108.845</td>\n",
       "      <td>1.0</td>\n",
       "    </tr>\n",
       "    <tr>\n",
       "      <td>43957</td>\n",
       "      <td>108.64</td>\n",
       "      <td>108.64</td>\n",
       "      <td>108.64</td>\n",
       "      <td>108.64</td>\n",
       "      <td>108.64</td>\n",
       "      <td>100.0</td>\n",
       "      <td>100.0</td>\n",
       "      <td>100.0</td>\n",
       "      <td>100.0</td>\n",
       "      <td>100.0</td>\n",
       "      <td>...</td>\n",
       "      <td>108.75</td>\n",
       "      <td>108.75</td>\n",
       "      <td>108.75</td>\n",
       "      <td>100.0</td>\n",
       "      <td>100.0</td>\n",
       "      <td>100.0</td>\n",
       "      <td>100.0</td>\n",
       "      <td>100.0</td>\n",
       "      <td>108.695</td>\n",
       "      <td>-1.0</td>\n",
       "    </tr>\n",
       "    <tr>\n",
       "      <td>43958</td>\n",
       "      <td>108.66</td>\n",
       "      <td>108.66</td>\n",
       "      <td>108.66</td>\n",
       "      <td>108.66</td>\n",
       "      <td>108.66</td>\n",
       "      <td>100.0</td>\n",
       "      <td>100.0</td>\n",
       "      <td>100.0</td>\n",
       "      <td>100.0</td>\n",
       "      <td>100.0</td>\n",
       "      <td>...</td>\n",
       "      <td>108.69</td>\n",
       "      <td>108.69</td>\n",
       "      <td>108.69</td>\n",
       "      <td>100.0</td>\n",
       "      <td>100.0</td>\n",
       "      <td>100.0</td>\n",
       "      <td>100.0</td>\n",
       "      <td>100.0</td>\n",
       "      <td>108.675</td>\n",
       "      <td>-1.0</td>\n",
       "    </tr>\n",
       "    <tr>\n",
       "      <td>43959</td>\n",
       "      <td>108.61</td>\n",
       "      <td>108.61</td>\n",
       "      <td>108.61</td>\n",
       "      <td>108.61</td>\n",
       "      <td>108.61</td>\n",
       "      <td>100.0</td>\n",
       "      <td>100.0</td>\n",
       "      <td>100.0</td>\n",
       "      <td>100.0</td>\n",
       "      <td>100.0</td>\n",
       "      <td>...</td>\n",
       "      <td>108.72</td>\n",
       "      <td>108.72</td>\n",
       "      <td>108.72</td>\n",
       "      <td>100.0</td>\n",
       "      <td>100.0</td>\n",
       "      <td>100.0</td>\n",
       "      <td>100.0</td>\n",
       "      <td>100.0</td>\n",
       "      <td>108.665</td>\n",
       "      <td>0.0</td>\n",
       "    </tr>\n",
       "    <tr>\n",
       "      <td>43960</td>\n",
       "      <td>108.69</td>\n",
       "      <td>108.68</td>\n",
       "      <td>108.68</td>\n",
       "      <td>108.68</td>\n",
       "      <td>108.68</td>\n",
       "      <td>100.0</td>\n",
       "      <td>100.0</td>\n",
       "      <td>100.0</td>\n",
       "      <td>100.0</td>\n",
       "      <td>200.0</td>\n",
       "      <td>...</td>\n",
       "      <td>108.70</td>\n",
       "      <td>108.70</td>\n",
       "      <td>108.70</td>\n",
       "      <td>300.0</td>\n",
       "      <td>100.0</td>\n",
       "      <td>200.0</td>\n",
       "      <td>200.0</td>\n",
       "      <td>200.0</td>\n",
       "      <td>108.695</td>\n",
       "      <td>1.0</td>\n",
       "    </tr>\n",
       "  </tbody>\n",
       "</table>\n",
       "<p>43960 rows × 22 columns</p>\n",
       "</div>"
      ],
      "text/plain": [
       "         B_P1    B_P2    B_P3    B_P4    B_P5    B_V1    B_V2    B_V3    B_V4  \\\n",
       "Time                                                                            \n",
       "1      108.25  108.25  108.25  108.25  108.25  2400.0  2200.0  1600.0  2100.0   \n",
       "2      108.02  107.88  107.88  107.88  107.88   500.0  2200.0  1350.0  1350.0   \n",
       "3      108.18  108.18  108.18  108.18  108.18   200.0   200.0   200.0   200.0   \n",
       "4      108.22  108.22  108.22  108.22  108.22   100.0   100.0   100.0   100.0   \n",
       "5      108.26  108.26  108.26  108.26  108.26   100.0   100.0   100.0   100.0   \n",
       "...       ...     ...     ...     ...     ...     ...     ...     ...     ...   \n",
       "43956  108.66  108.66  108.66  108.66  108.66   100.0   100.0   100.0   100.0   \n",
       "43957  108.64  108.64  108.64  108.64  108.64   100.0   100.0   100.0   100.0   \n",
       "43958  108.66  108.66  108.66  108.66  108.66   100.0   100.0   100.0   100.0   \n",
       "43959  108.61  108.61  108.61  108.61  108.61   100.0   100.0   100.0   100.0   \n",
       "43960  108.69  108.68  108.68  108.68  108.68   100.0   100.0   100.0   100.0   \n",
       "\n",
       "         B_V5  ...    S_P3    S_P4    S_P5   S_V1   S_V2   S_V3   S_V4   S_V5  \\\n",
       "Time           ...                                                              \n",
       "1      1900.0  ...  108.25  108.25  108.25  200.0  400.0  300.0  100.0  100.0   \n",
       "2      1350.0  ...  108.29  108.29  108.29  500.0  500.0  500.0  500.0  500.0   \n",
       "3       200.0  ...  108.31  108.31  108.31  200.0  200.0  200.0  200.0  200.0   \n",
       "4       100.0  ...  108.28  108.28  108.28  100.0  100.0  100.0  100.0  100.0   \n",
       "5       100.0  ...  108.26  108.26  108.26  100.0  100.0  100.0  100.0  100.0   \n",
       "...       ...  ...     ...     ...     ...    ...    ...    ...    ...    ...   \n",
       "43956   100.0  ...  109.03  109.03  109.03  100.0  100.0  100.0  100.0  100.0   \n",
       "43957   100.0  ...  108.75  108.75  108.75  100.0  100.0  100.0  100.0  100.0   \n",
       "43958   100.0  ...  108.69  108.69  108.69  100.0  100.0  100.0  100.0  100.0   \n",
       "43959   100.0  ...  108.72  108.72  108.72  100.0  100.0  100.0  100.0  100.0   \n",
       "43960   200.0  ...  108.70  108.70  108.70  300.0  100.0  200.0  200.0  200.0   \n",
       "\n",
       "         Price  Label  \n",
       "Time                   \n",
       "1      108.250    0.0  \n",
       "2      108.155   -1.0  \n",
       "3      108.245    1.0  \n",
       "4      108.250    0.0  \n",
       "5      108.260    0.0  \n",
       "...        ...    ...  \n",
       "43956  108.845    1.0  \n",
       "43957  108.695   -1.0  \n",
       "43958  108.675   -1.0  \n",
       "43959  108.665    0.0  \n",
       "43960  108.695    1.0  \n",
       "\n",
       "[43960 rows x 22 columns]"
      ]
     },
     "execution_count": 137,
     "metadata": {},
     "output_type": "execute_result"
    }
   ],
   "source": [
    "ggg"
   ]
  },
  {
   "cell_type": "code",
   "execution_count": 88,
   "metadata": {},
   "outputs": [],
   "source": [
    "ggg.to_csv('Order_Book.csv') "
   ]
  },
  {
   "cell_type": "code",
   "execution_count": 140,
   "metadata": {},
   "outputs": [],
   "source": [
    "fff.to_csv('Order_Book1.csv') "
   ]
  },
  {
   "cell_type": "code",
   "execution_count": 71,
   "metadata": {},
   "outputs": [],
   "source": [
    "kkk.to_csv('Book.csv')"
   ]
  },
  {
   "cell_type": "code",
   "execution_count": 70,
   "metadata": {},
   "outputs": [
    {
     "data": {
      "image/png": "[encoded data removed]",
      "text/plain": [
       "<Figure size 432x288 with 1 Axes>"
      ]
     },
     "metadata": {
      "needs_background": "light"
     },
     "output_type": "display_data"
    }
   ],
   "source": [
    "y=kkk[\"Price\"]#.values[200000:]\n",
    "x=np.linspace(1, len(y), len(y))\n",
    "\n",
    "points = np.array([x, y]).T.reshape(-1, 1, 2)\n",
    "segments = np.concatenate([points[:-1], points[1:]], axis=1)\n",
    "\n",
    "c=kkk['Label']#[200000:]\n",
    "c=list(c.replace(0,'b').replace(-1,'r').replace(1,'g'))\n",
    "lc = LineCollection(segments, colors=c, linewidths=1)\n",
    "fig, ax = plt.subplots()\n",
    "ax.add_collection(lc)\n",
    "\n",
    "ax.autoscale()\n",
    "ax.margins(0.1)\n",
    "ax.set_xlim(35000, 40000)\n",
    "plt.show()\n"
   ]
  },
  {
   "cell_type": "code",
   "execution_count": 114,
   "metadata": {},
   "outputs": [
    {
     "data": {
      "image/png": "[encoded data removed]",
      "text/plain": [
       "<Figure size 432x288 with 1 Axes>"
      ]
     },
     "metadata": {
      "needs_background": "light"
     },
     "output_type": "display_data"
    }
   ],
   "source": [
    "fig, ax = plt.subplots()\n",
    "y=ggg[\"Price\"].values\n",
    "x=np.linspace(1, len(y), len(y))\n",
    "ax.plot(x, y, color='black')\n",
    "\n",
    "# use data coordinates for the x-axis and the axes coordinates for the y-axis\n",
    "import matplotlib.transforms as mtransforms\n",
    "trans = mtransforms.blended_transform_factory(ax.transData, ax.transAxes)\n",
    "theta = ggg['Label']\n",
    "ax.fill_between(x, 0, 120, where=theta==1,\n",
    "                facecolor='green', alpha=0.5, transform=trans)\n",
    "ax.fill_between(x, 0, 120, where=theta==-1,\n",
    "                facecolor='red', alpha=0.5, transform=trans)\n",
    "\n",
    "#ax.set_xlim(38500, 39000)\n",
    "ax.set_ylim(95, 115)\n",
    "\n",
    "plt.show()"
   ]
  },
  {
   "cell_type": "code",
   "execution_count": 69,
   "metadata": {},
   "outputs": [
    {
     "data": {
      "text/plain": [
       "(array([12761.,     0.,     0.,     0.,     0., 18134.,     0.,     0.,\n",
       "            0., 13061.]),\n",
       " array([-1. , -0.8, -0.6, -0.4, -0.2,  0. ,  0.2,  0.4,  0.6,  0.8,  1. ]),\n",
       " <a list of 10 Patch objects>)"
      ]
     },
     "execution_count": 69,
     "metadata": {},
     "output_type": "execute_result"
    },
    {
     "data": {
      "image/png": "[encoded data removed]",
      "text/plain": [
       "<Figure size 432x288 with 1 Axes>"
      ]
     },
     "metadata": {
      "needs_background": "light"
     },
     "output_type": "display_data"
    }
   ],
   "source": [
    "plt.hist(kkk['Label'])"
   ]
  },
  {
   "cell_type": "code",
   "execution_count": null,
   "metadata": {},
   "outputs": [],
   "source": []
  }
 ],
 "metadata": {
  "kernelspec": {
   "display_name": "Python 3",
   "language": "python",
   "name": "python3"
  },
  "language_info": {
   "codemirror_mode": {
    "name": "ipython",
    "version": 3
   },
   "file_extension": ".py",
   "mimetype": "text/x-python",
   "name": "python",
   "nbconvert_exporter": "python",
   "pygments_lexer": "ipython3",
   "version": "3.7.6"
  }
 },
 "nbformat": 4,
 "nbformat_minor": 2
}
