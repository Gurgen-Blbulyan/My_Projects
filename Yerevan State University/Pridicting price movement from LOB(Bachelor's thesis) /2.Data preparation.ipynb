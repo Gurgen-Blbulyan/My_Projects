{
 "cells": [
  {
   "cell_type": "code",
   "execution_count": 1,
   "metadata": {},
   "outputs": [],
   "source": [
    "import pandas as pd\n",
    "import numpy as np"
   ]
  },
  {
   "cell_type": "code",
   "execution_count": 2,
   "metadata": {},
   "outputs": [],
   "source": [
    "orders = pd.read_excel(\"Data.xlsx\")"
   ]
  },
  {
   "cell_type": "code",
   "execution_count": 3,
   "metadata": {},
   "outputs": [],
   "source": [
    "orders=orders[orders[\"RECORD_TYPE\"]=='R']"
   ]
  },
  {
   "cell_type": "code",
   "execution_count": 4,
   "metadata": {},
   "outputs": [],
   "source": [
    "orders=orders[orders[\"SIZE\"]!=0]\n",
    "orders=orders[orders[\"PRICE\"]!=0]"
   ]
  },
  {
   "cell_type": "code",
   "execution_count": 5,
   "metadata": {},
   "outputs": [],
   "source": [
    "orders=orders.drop(columns=['Index', 'Symbol','UPDATE_TYPE','ORDER_ID','MMID','DELETED_TIME','TICK_STATUS','OMDSEQ','RECORD_TYPE'])"
   ]
  },
  {
   "cell_type": "code",
   "execution_count": 6,
   "metadata": {},
   "outputs": [],
   "source": [
    "orders[\"Buy/Sell\"]=np.where(orders['BUY_SELL_FLAG']==1,\"S\",\"B\")"
   ]
  },
  {
   "cell_type": "code",
   "execution_count": 7,
   "metadata": {},
   "outputs": [],
   "source": [
    "orders=orders.drop(columns='BUY_SELL_FLAG')"
   ]
  },
  {
   "cell_type": "code",
   "execution_count": 8,
   "metadata": {},
   "outputs": [],
   "source": [
    "sells=orders[orders['Buy/Sell']=='S']"
   ]
  },
  {
   "cell_type": "code",
   "execution_count": 9,
   "metadata": {},
   "outputs": [],
   "source": [
    "buys=orders[orders['Buy/Sell']=='B']"
   ]
  },
  {
   "cell_type": "code",
   "execution_count": 10,
   "metadata": {},
   "outputs": [],
   "source": [
    "buys=buys.sort_values([\"Time\", \"PRICE\"],ascending=False)"
   ]
  },
  {
   "cell_type": "code",
   "execution_count": 11,
   "metadata": {},
   "outputs": [],
   "source": [
    "sells=sells.sort_values([\"Time\", \"PRICE\"])"
   ]
  },
  {
   "cell_type": "code",
   "execution_count": 12,
   "metadata": {},
   "outputs": [],
   "source": [
    "sell=pd.DataFrame(columns=[\"Time\"])\n",
    "for i in list(set(sells[\"Time\"])):\n",
    "    a=sells[sells['Time']==i]\n",
    "    b=a.shape[0]\n",
    "    g=pd.DataFrame(columns=[\"Time\"])\n",
    "    if b<=40:\n",
    "        for j in range(b):\n",
    "            k=a.iloc[j][0]\n",
    "            p=a.iloc[j][1]\n",
    "            s=a.iloc[j][2]\n",
    "            n1=\"S_P\"+str(j+1)\n",
    "            n2=\"S_V\"+str(j+1)\n",
    "            g=g.append({'Time': k, n1 :p, n2: s}, ignore_index=True,sort=False)\n",
    "    else:\n",
    "        for j in range(40):\n",
    "            k=a.iloc[j][0]\n",
    "            p=a.iloc[j][1]\n",
    "            s=a.iloc[j][2]\n",
    "            n1=\"S_P\"+str(j+1)\n",
    "            n2=\"S_V\"+str(j+1)\n",
    "            g=g.append({'Time': k, n1 :p, n2: s}, ignore_index=True,sort=False)\n",
    "    sell = sell.append(g, sort=False)"
   ]
  },
  {
   "cell_type": "code",
   "execution_count": 27,
   "metadata": {
    "scrolled": false
   },
   "outputs": [
    {
     "name": "stdout",
     "output_type": "stream",
     "text": [
      "0.003752866251599659\n",
      "0.007505732503199318\n",
      "0.011258598754798978\n",
      "0.015011465006398637\n",
      "0.018764331257998295\n",
      "0.022517197509597957\n",
      "0.026270063761197615\n",
      "0.030022930012797273\n",
      "0.03377579626439693\n",
      "0.03752866251599659\n",
      "0.04128152876759625\n",
      "0.045034395019195914\n",
      "0.04878726127079557\n",
      "0.05254012752239523\n",
      "0.05629299377399489\n",
      "0.06004586002559455\n",
      "0.06379872627719421\n",
      "0.06755159252879386\n",
      "0.07130445878039353\n",
      "0.07505732503199318\n",
      "0.07881019128359285\n",
      "0.0825630575351925\n",
      "0.08631592378679216\n",
      "0.09006879003839183\n",
      "0.09382165628999148\n",
      "0.09757452254159114\n",
      "0.1013273887931908\n",
      "0.10508025504479046\n",
      "0.10883312129639011\n",
      "0.11258598754798978\n",
      "0.11633885379958944\n",
      "0.1200917200511891\n",
      "0.12384458630278876\n",
      "0.12759745255438842\n",
      "0.13135031880598808\n",
      "0.13510318505758773\n",
      "0.13885605130918738\n",
      "0.14260891756078706\n",
      "0.1463617838123867\n",
      "0.15011465006398636\n",
      "0.15386751631558604\n",
      "0.1576203825671857\n",
      "0.16137324881878534\n",
      "0.165126115070385\n",
      "0.16887898132198467\n",
      "0.17263184757358432\n",
      "0.17638471382518398\n",
      "0.18013758007678365\n",
      "0.1838904463283833\n",
      "0.18764331257998296\n",
      "0.1913961788315826\n",
      "0.1951490450831823\n",
      "0.19890191133478194\n",
      "0.2026547775863816\n",
      "0.20640764383798127\n",
      "0.21016051008958092\n",
      "0.21391337634118057\n",
      "0.21766624259278022\n",
      "0.2214191088443799\n",
      "0.22517197509597955\n",
      "0.2289248413475792\n",
      "0.23267770759917888\n",
      "0.23643057385077854\n",
      "0.2401834401023782\n",
      "0.24393630635397784\n",
      "0.24768917260557752\n",
      "0.25144203885717714\n",
      "0.25519490510877685\n",
      "0.2589477713603765\n",
      "0.26270063761197615\n",
      "0.2664535038635758\n",
      "0.27020637011517545\n",
      "0.2739592363667751\n",
      "0.27771210261837476\n",
      "0.28146496886997446\n",
      "0.2852178351215741\n",
      "0.28897070137317377\n",
      "0.2927235676247734\n",
      "0.29647643387637307\n",
      "0.3002293001279727\n",
      "0.30398216637957237\n",
      "0.3077350326311721\n",
      "0.31148789888277173\n",
      "0.3152407651343714\n",
      "0.31899363138597103\n",
      "0.3227464976375707\n",
      "0.32649936388917034\n",
      "0.33025223014077\n",
      "0.3340050963923697\n",
      "0.33775796264396934\n",
      "0.341510828895569\n",
      "0.34526369514716865\n",
      "0.3490165613987683\n",
      "0.35276942765036795\n",
      "0.3565222939019676\n",
      "0.3602751601535673\n",
      "0.36402802640516696\n",
      "0.3677808926567666\n",
      "0.37153375890836626\n",
      "0.3752866251599659\n",
      "0.37903949141156557\n",
      "0.3827923576631652\n",
      "0.3865452239147649\n",
      "0.3902980901663646\n",
      "0.3940509564179642\n",
      "0.3978038226695639\n",
      "0.40155668892116353\n",
      "0.4053095551727632\n",
      "0.40906242142436283\n",
      "0.41281528767596254\n",
      "0.4165681539275622\n",
      "0.42032102017916184\n",
      "0.4240738864307615\n",
      "0.42782675268236114\n",
      "0.4315796189339608\n",
      "0.43533248518556045\n",
      "0.43908535143716015\n",
      "0.4428382176887598\n",
      "0.44659108394035946\n",
      "0.4503439501919591\n",
      "0.45409681644355876\n",
      "0.4578496826951584\n",
      "0.46160254894675806\n",
      "0.46535541519835777\n",
      "0.4691082814499574\n",
      "0.47286114770155707\n",
      "0.4766140139531567\n",
      "0.4803668802047564\n",
      "0.484119746456356\n",
      "0.4878726127079557\n",
      "0.4916254789595554\n",
      "0.49537834521115504\n",
      "0.4991312114627547\n",
      "0.5028840777143543\n",
      "0.506636943965954\n",
      "0.5103898102175537\n",
      "0.5141426764691533\n",
      "0.517895542720753\n",
      "0.5216484089723527\n",
      "0.5254012752239523\n",
      "0.529154141475552\n",
      "0.5329070077271516\n",
      "0.5366598739787513\n",
      "0.5404127402303509\n",
      "0.5441656064819506\n",
      "0.5479184727335502\n",
      "0.5516713389851499\n",
      "0.5554242052367495\n",
      "0.5591770714883493\n",
      "0.5629299377399489\n",
      "0.5666828039915486\n",
      "0.5704356702431482\n",
      "0.5741885364947479\n",
      "0.5779414027463475\n",
      "0.5816942689979472\n",
      "0.5854471352495468\n",
      "0.5892000015011465\n",
      "0.5929528677527461\n",
      "0.5967057340043458\n",
      "0.6004586002559454\n",
      "0.6042114665075451\n",
      "0.6079643327591447\n",
      "0.6117171990107445\n",
      "0.6154700652623442\n",
      "0.6192229315139438\n",
      "0.6229757977655435\n",
      "0.6267286640171431\n",
      "0.6304815302687428\n",
      "0.6342343965203424\n",
      "0.6379872627719421\n",
      "0.6417401290235417\n",
      "0.6454929952751414\n",
      "0.649245861526741\n",
      "0.6529987277783407\n"
     ]
    }
   ],
   "source": [
    "buy=pd.DataFrame(columns=[\"Time\"])\n",
    "for i in list(set(buys[\"Time\"])):\n",
    "    a=buys[buys['Time']==i]\n",
    "    b=a.shape[0]\n",
    "    g=pd.DataFrame(columns=[\"Time\"])\n",
    "    if b<=40:\n",
    "        for j in range(b):\n",
    "            k=a.iloc[j][0]\n",
    "            p=a.iloc[j][1]\n",
    "            s=a.iloc[j][2]\n",
    "            n1=\"B_P\"+str(j+1)\n",
    "            n2=\"B_V\"+str(j+1)\n",
    "            g=g.append({'Time': k, n1 :p, n2: s}, ignore_index=True,sort=False)\n",
    "    else:\n",
    "        for j in range(20):\n",
    "            k=a.iloc[j][0]\n",
    "            p=a.iloc[j][1]\n",
    "            s=a.iloc[j][2]\n",
    "            n1=\"B_P\"+str(j+1)\n",
    "            n2=\"B_V\"+str(j+1)\n",
    "            g=g.append({'Time': k, n1 :p, n2: s}, ignore_index=True,sort=False)\n",
    "    buy = buy.append(g, sort=False)\n",
    "    if buy.groupby(\"Time\").sum().shape[0]%1000==0:\n",
    "        print(buy.groupby(\"Time\").sum().shape[0]/266463)"
   ]
  },
  {
   "cell_type": "code",
   "execution_count": 28,
   "metadata": {},
   "outputs": [],
   "source": [
    "buy=buy.groupby(\"Time\").sum()"
   ]
  },
  {
   "cell_type": "code",
   "execution_count": 13,
   "metadata": {},
   "outputs": [],
   "source": [
    "sell=sell.groupby(\"Time\").sum()"
   ]
  },
  {
   "cell_type": "code",
   "execution_count": 14,
   "metadata": {},
   "outputs": [],
   "source": [
    "sell.to_csv('sell.csv') "
   ]
  },
  {
   "cell_type": "code",
   "execution_count": 29,
   "metadata": {},
   "outputs": [],
   "source": [
    "buy.to_csv('buy.csv') "
   ]
  }
 ],
 "metadata": {
  "kernelspec": {
   "display_name": "Python 3",
   "language": "python",
   "name": "python3"
  },
  "language_info": {
   "codemirror_mode": {
    "name": "ipython",
    "version": 3
   },
   "file_extension": ".py",
   "mimetype": "text/x-python",
   "name": "python",
   "nbconvert_exporter": "python",
   "pygments_lexer": "ipython3",
   "version": "3.7.6"
  }
 },
 "nbformat": 4,
 "nbformat_minor": 2
}
