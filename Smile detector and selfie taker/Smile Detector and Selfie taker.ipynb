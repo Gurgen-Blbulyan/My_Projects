{
 "cells": [
  {
   "cell_type": "code",
   "execution_count": 63,
   "metadata": {},
   "outputs": [],
   "source": [
    "import cv2\n",
    "import numpy as np"
   ]
  },
  {
   "cell_type": "markdown",
   "metadata": {},
   "source": [
    "# Importing filters"
   ]
  },
  {
   "cell_type": "code",
   "execution_count": 64,
   "metadata": {},
   "outputs": [],
   "source": [
    "face_cascade = cv2.CascadeClassifier('haarcascade_frontalface_default.xml')\n",
    "eye_cascade = cv2.CascadeClassifier('haarcascade_eye.xml') \n",
    "smile_cascade = cv2.CascadeClassifier('haarcascade_smile.xml')"
   ]
  },
  {
   "cell_type": "markdown",
   "metadata": {},
   "source": [
    "# Face, smile, eye detection"
   ]
  },
  {
   "cell_type": "code",
   "execution_count": 165,
   "metadata": {},
   "outputs": [],
   "source": [
    "def detect(gray, frame): \n",
    "   \n",
    "    faces = face_cascade.detectMultiScale(gray, 1.2, 18)\n",
    "\n",
    " \n",
    "    \n",
    "\n",
    "    for (x, y, w, h) in faces: \n",
    "        cv2.rectangle(frame, (x, y), ((x + w), (y + h)), (255, 0, 0), 2) \n",
    "        roi_gray = gray[y:y + h, x:x + w] \n",
    "        roi_color = frame[y:y + h, x:x + w] \n",
    "        smiles = smile_cascade.detectMultiScale(roi_gray, 1.8, 38) \n",
    "        eye = eye_cascade.detectMultiScale(roi_gray, 1.2, 20)\n",
    "    \n",
    "  \n",
    "        for (sx, sy, sw, sh) in smiles: \n",
    "            cv2.rectangle(roi_color, (sx, sy), ((sx + sw), (sy + sh)), (0, 0, 255), 2)\n",
    "            \n",
    "        \n",
    "        for (ex, ey, ew, eh) in eye:\n",
    "            cv2.rectangle(roi_color,(ex, ey),(ex+ew, ey+eh), (0, 180, 60), 2) \n",
    " \n",
    "\n",
    "    return frame\n"
   ]
  },
  {
   "cell_type": "code",
   "execution_count": 167,
   "metadata": {
    "scrolled": true
   },
   "outputs": [],
   "source": [
    "video_capture = cv2.VideoCapture(0) \n",
    "while True: \n",
    "\n",
    "    _, frame = video_capture.read()  \n",
    "                    \n",
    "    gray = cv2.cvtColor(frame, cv2.COLOR_BGR2GRAY)   \n",
    "       \n",
    "    canvas = detect(gray, frame) \n",
    "    \n",
    "    cv2.imshow('Video', canvas)  \n",
    "                        \n",
    "    if cv2.waitKey(1) & 0xff == ord('q'):                \n",
    "        break\n",
    "  \n",
    " \n",
    "video_capture.release()                                  \n",
    "cv2.destroyAllWindows() "
   ]
  },
  {
   "cell_type": "markdown",
   "metadata": {},
   "source": [
    "# Autocapture selfie if you are smiling and your eyes are open."
   ]
  },
  {
   "cell_type": "code",
   "execution_count": 169,
   "metadata": {
    "scrolled": true
   },
   "outputs": [],
   "source": [
    "video_capture = cv2.VideoCapture(0) \n",
    "\n",
    "num=0\n",
    "while num<11: \n",
    "\n",
    "    _, frame = video_capture.read()\n",
    "    cololo=frame.copy()\n",
    "    \n",
    "    #making gray to apply haar cascades algorithm\n",
    "    gray = cv2.cvtColor(frame, cv2.COLOR_BGR2GRAY)   \n",
    "    #detecting faces      \n",
    "    faces = face_cascade.detectMultiScale(gray, 1.2, 18)\n",
    "\n",
    " \n",
    "    #annotating faces, smiles and eyes\n",
    "    a=False\n",
    "    for (x, y, w, h) in faces: \n",
    "        cv2.rectangle(frame, (x, y), ((x + w), (y + h)), (255, 0, 0), 2) \n",
    "        roi_gray = gray[y:y + h, x:x + w] \n",
    "        roi_color = frame[y:y + h, x:x + w] \n",
    "        smiles = smile_cascade.detectMultiScale(roi_gray, 1.8, 38) \n",
    "        eye = eye_cascade.detectMultiScale(roi_gray, 1.2, 20)\n",
    "        \n",
    "    \n",
    "  \n",
    "        for (sx, sy, sw, sh) in smiles: \n",
    "            cv2.rectangle(roi_color, (sx, sy), ((sx + sw), (sy + sh)), (0, 0, 255), 2)\n",
    "            \n",
    "        \n",
    "        for (ex, ey, ew, eh) in eye:\n",
    "            cv2.rectangle(roi_color,(ex, ey),(ex+ew, ey+eh), (0, 180, 60), 2) \n",
    "        #if multipllier of two eyes are detected, openeye=True\n",
    "        if len(eye)%2==0 and len(eye)!=0:\n",
    "            openeye=True\n",
    "        else:\n",
    "            openeye=False\n",
    "        #if you are smiling, happy=True\n",
    "        if type(smiles)==tuple:\n",
    "            happy=False\n",
    "        else:\n",
    "            happy=True\n",
    "        #take=True if you are smiling and your eyes are open\n",
    "        take=happy and openeye\n",
    "        a=take\n",
    "    #to wait littlbit to capture photo\n",
    "    if a==True:\n",
    "        num = num+1\n",
    "    else:\n",
    "        num=0\n",
    "    \n",
    "    if num==10:\n",
    "        cv2.imwrite('Goodselfie.jpg',cololo)\n",
    "        cv2.imwrite('Goodselfiewithannotation.jpg',frame)\n",
    "    \n",
    "    cv2.imshow('Video',frame)  \n",
    "  \n",
    "    # The control breaks once q key is pressed                         \n",
    "    if cv2.waitKey(1) & 0xff == ord('q'):                \n",
    "        break\n",
    "#Release the capture once all the processing is done. \n",
    "video_capture.release()                                  \n",
    "cv2.destroyAllWindows() "
   ]
  }
 ],
 "metadata": {
  "kernelspec": {
   "display_name": "Python 3",
   "language": "python",
   "name": "python3"
  },
  "language_info": {
   "codemirror_mode": {
    "name": "ipython",
    "version": 3
   },
   "file_extension": ".py",
   "mimetype": "text/x-python",
   "name": "python",
   "nbconvert_exporter": "python",
   "pygments_lexer": "ipython3",
   "version": "3.7.6"
  }
 },
 "nbformat": 4,
 "nbformat_minor": 4
}
